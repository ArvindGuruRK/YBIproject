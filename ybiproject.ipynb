{
  "nbformat": 4,
  "nbformat_minor": 0,
  "metadata": {
    "colab": {
      "provenance": [],
      "authorship_tag": "ABX9TyNipoot1Chun78NkmCifJ3z",
      "include_colab_link": true
    },
    "kernelspec": {
      "name": "python3",
      "display_name": "Python 3"
    },
    "language_info": {
      "name": "python"
    }
  },
  "cells": [
    {
      "cell_type": "markdown",
      "metadata": {
        "id": "view-in-github",
        "colab_type": "text"
      },
      "source": [
        "<a href=\"https://colab.research.google.com/github/ArvindGuruRK/YBIproject/blob/main/ybiproject.ipynb\" target=\"_parent\"><img src=\"https://colab.research.google.com/assets/colab-badge.svg\" alt=\"Open In Colab\"/></a>"
      ]
    },
    {
      "cell_type": "markdown",
      "source": [
        "# **MOVIE RECOMMENDATION SYSTEM**"
      ],
      "metadata": {
        "id": "lhDV8oWrUgq0"
      }
    },
    {
      "cell_type": "markdown",
      "source": [
        "### **OBJECTIVE**"
      ],
      "metadata": {
        "id": "WKExuQfSU8ul"
      }
    },
    {
      "cell_type": "markdown",
      "source": [
        "Suggesting movies of your choice of taste. I choosed a movie called batman. this model features the similar genre movie from the database and provides top 10 highly recommended movies according to our taste uning cosine similariity classification technique"
      ],
      "metadata": {
        "id": "cNi9V1yuVDbN"
      }
    },
    {
      "cell_type": "markdown",
      "source": [
        "### **DATA** **SOURCE**"
      ],
      "metadata": {
        "id": "WCB3D0gmVJRb"
      }
    },
    {
      "cell_type": "markdown",
      "source": [
        "https://github.com/YBIFoundation/Dataset/blob/main/Movies%20Recommendation.csv"
      ],
      "metadata": {
        "id": "s8N6wG6UVP1m"
      }
    },
    {
      "cell_type": "markdown",
      "source": [
        "**Importing libraries**"
      ],
      "metadata": {
        "id": "4SL90dHXVtu7"
      }
    },
    {
      "cell_type": "code",
      "source": [
        "import pandas as pd\n",
        "import numpy as np"
      ],
      "metadata": {
        "id": "WQXdnVHIV3Wm"
      },
      "execution_count": 1,
      "outputs": []
    },
    {
      "cell_type": "markdown",
      "source": [
        "**Importing Dataset**"
      ],
      "metadata": {
        "id": "tfLbUMqlWCKF"
      }
    },
    {
      "cell_type": "code",
      "source": [
        "df=pd.read_csv('https://github.com/YBIFoundation/Dataset/raw/main/Movies%20Recommendation.csv')"
      ],
      "metadata": {
        "id": "GrmJSajpWRh3"
      },
      "execution_count": 2,
      "outputs": []
    },
    {
      "cell_type": "code",
      "source": [
        "df.head()"
      ],
      "metadata": {
        "colab": {
          "base_uri": "https://localhost:8080/",
          "height": 672
        },
        "id": "gIZmfS5kWapw",
        "outputId": "94cc8ebb-a707-4d0e-d839-07485e32c553"
      },
      "execution_count": 3,
      "outputs": [
        {
          "output_type": "execute_result",
          "data": {
            "text/plain": [
              "   Movie_ID      Movie_Title                       Movie_Genre Movie_Language  \\\n",
              "0         1       Four Rooms                      Crime Comedy             en   \n",
              "1         2        Star Wars  Adventure Action Science Fiction             en   \n",
              "2         3     Finding Nemo                  Animation Family             en   \n",
              "3         4     Forrest Gump              Comedy Drama Romance             en   \n",
              "4         5  American Beauty                             Drama             en   \n",
              "\n",
              "   Movie_Budget  Movie_Popularity Movie_Release_Date  Movie_Revenue  \\\n",
              "0       4000000         22.876230         09-12-1995        4300000   \n",
              "1      11000000        126.393695         25-05-1977      775398007   \n",
              "2      94000000         85.688789         30-05-2003      940335536   \n",
              "3      55000000        138.133331         06-07-1994      677945399   \n",
              "4      15000000         80.878605         15-09-1999      356296601   \n",
              "\n",
              "   Movie_Runtime  Movie_Vote  ...  \\\n",
              "0           98.0         6.5  ...   \n",
              "1          121.0         8.1  ...   \n",
              "2          100.0         7.6  ...   \n",
              "3          142.0         8.2  ...   \n",
              "4          122.0         7.9  ...   \n",
              "\n",
              "                                      Movie_Homepage  \\\n",
              "0                                                NaN   \n",
              "1  http://www.starwars.com/films/star-wars-episod...   \n",
              "2              http://movies.disney.com/finding-nemo   \n",
              "3                                                NaN   \n",
              "4                      http://www.dreamworks.com/ab/   \n",
              "\n",
              "                                      Movie_Keywords  \\\n",
              "0          hotel new year's eve witch bet hotel room   \n",
              "1        android galaxy hermit death star lightsaber   \n",
              "2  father son relationship harbor underwater fish...   \n",
              "3  vietnam veteran hippie mentally disabled runni...   \n",
              "4  male nudity female nudity adultery midlife cri...   \n",
              "\n",
              "                                      Movie_Overview  \\\n",
              "0  It's Ted the Bellhop's first night on the job....   \n",
              "1  Princess Leia is captured and held hostage by ...   \n",
              "2  Nemo, an adventurous young clownfish, is unexp...   \n",
              "3  A man with a low IQ has accomplished great thi...   \n",
              "4  Lester Burnham, a depressed suburban father in...   \n",
              "\n",
              "                              Movie_Production_House  \\\n",
              "0  [{\"name\": \"Miramax Films\", \"id\": 14}, {\"name\":...   \n",
              "1  [{\"name\": \"Lucasfilm\", \"id\": 1}, {\"name\": \"Twe...   \n",
              "2     [{\"name\": \"Pixar Animation Studios\", \"id\": 3}]   \n",
              "3          [{\"name\": \"Paramount Pictures\", \"id\": 4}]   \n",
              "4  [{\"name\": \"DreamWorks SKG\", \"id\": 27}, {\"name\"...   \n",
              "\n",
              "                            Movie_Production_Country  \\\n",
              "0  [{\"iso_3166_1\": \"US\", \"name\": \"United States o...   \n",
              "1  [{\"iso_3166_1\": \"US\", \"name\": \"United States o...   \n",
              "2  [{\"iso_3166_1\": \"US\", \"name\": \"United States o...   \n",
              "3  [{\"iso_3166_1\": \"US\", \"name\": \"United States o...   \n",
              "4  [{\"iso_3166_1\": \"US\", \"name\": \"United States o...   \n",
              "\n",
              "                      Movie_Spoken_Language  \\\n",
              "0  [{\"iso_639_1\": \"en\", \"name\": \"English\"}]   \n",
              "1  [{\"iso_639_1\": \"en\", \"name\": \"English\"}]   \n",
              "2  [{\"iso_639_1\": \"en\", \"name\": \"English\"}]   \n",
              "3  [{\"iso_639_1\": \"en\", \"name\": \"English\"}]   \n",
              "4  [{\"iso_639_1\": \"en\", \"name\": \"English\"}]   \n",
              "\n",
              "                                       Movie_Tagline  \\\n",
              "0  Twelve outrageous guests. Four scandalous requ...   \n",
              "1       A long time ago in a galaxy far, far away...   \n",
              "2  There are 3.7 trillion fish in the ocean, they...   \n",
              "3  The world will never be the same, once you've ...   \n",
              "4                                       Look closer.   \n",
              "\n",
              "                                          Movie_Cast  \\\n",
              "0  Tim Roth Antonio Banderas Jennifer Beals Madon...   \n",
              "1  Mark Hamill Harrison Ford Carrie Fisher Peter ...   \n",
              "2  Albert Brooks Ellen DeGeneres Alexander Gould ...   \n",
              "3  Tom Hanks Robin Wright Gary Sinise Mykelti Wil...   \n",
              "4  Kevin Spacey Annette Bening Thora Birch Wes Be...   \n",
              "\n",
              "                                          Movie_Crew   Movie_Director  \n",
              "0  [{'name': 'Allison Anders', 'gender': 1, 'depa...   Allison Anders  \n",
              "1  [{'name': 'George Lucas', 'gender': 2, 'depart...     George Lucas  \n",
              "2  [{'name': 'Andrew Stanton', 'gender': 2, 'depa...   Andrew Stanton  \n",
              "3  [{'name': 'Alan Silvestri', 'gender': 2, 'depa...  Robert Zemeckis  \n",
              "4  [{'name': 'Thomas Newman', 'gender': 2, 'depar...       Sam Mendes  \n",
              "\n",
              "[5 rows x 21 columns]"
            ],
            "text/html": [
              "\n",
              "  <div id=\"df-3974ad42-d931-47ba-9244-1547a76deaa2\" class=\"colab-df-container\">\n",
              "    <div>\n",
              "<style scoped>\n",
              "    .dataframe tbody tr th:only-of-type {\n",
              "        vertical-align: middle;\n",
              "    }\n",
              "\n",
              "    .dataframe tbody tr th {\n",
              "        vertical-align: top;\n",
              "    }\n",
              "\n",
              "    .dataframe thead th {\n",
              "        text-align: right;\n",
              "    }\n",
              "</style>\n",
              "<table border=\"1\" class=\"dataframe\">\n",
              "  <thead>\n",
              "    <tr style=\"text-align: right;\">\n",
              "      <th></th>\n",
              "      <th>Movie_ID</th>\n",
              "      <th>Movie_Title</th>\n",
              "      <th>Movie_Genre</th>\n",
              "      <th>Movie_Language</th>\n",
              "      <th>Movie_Budget</th>\n",
              "      <th>Movie_Popularity</th>\n",
              "      <th>Movie_Release_Date</th>\n",
              "      <th>Movie_Revenue</th>\n",
              "      <th>Movie_Runtime</th>\n",
              "      <th>Movie_Vote</th>\n",
              "      <th>...</th>\n",
              "      <th>Movie_Homepage</th>\n",
              "      <th>Movie_Keywords</th>\n",
              "      <th>Movie_Overview</th>\n",
              "      <th>Movie_Production_House</th>\n",
              "      <th>Movie_Production_Country</th>\n",
              "      <th>Movie_Spoken_Language</th>\n",
              "      <th>Movie_Tagline</th>\n",
              "      <th>Movie_Cast</th>\n",
              "      <th>Movie_Crew</th>\n",
              "      <th>Movie_Director</th>\n",
              "    </tr>\n",
              "  </thead>\n",
              "  <tbody>\n",
              "    <tr>\n",
              "      <th>0</th>\n",
              "      <td>1</td>\n",
              "      <td>Four Rooms</td>\n",
              "      <td>Crime Comedy</td>\n",
              "      <td>en</td>\n",
              "      <td>4000000</td>\n",
              "      <td>22.876230</td>\n",
              "      <td>09-12-1995</td>\n",
              "      <td>4300000</td>\n",
              "      <td>98.0</td>\n",
              "      <td>6.5</td>\n",
              "      <td>...</td>\n",
              "      <td>NaN</td>\n",
              "      <td>hotel new year's eve witch bet hotel room</td>\n",
              "      <td>It's Ted the Bellhop's first night on the job....</td>\n",
              "      <td>[{\"name\": \"Miramax Films\", \"id\": 14}, {\"name\":...</td>\n",
              "      <td>[{\"iso_3166_1\": \"US\", \"name\": \"United States o...</td>\n",
              "      <td>[{\"iso_639_1\": \"en\", \"name\": \"English\"}]</td>\n",
              "      <td>Twelve outrageous guests. Four scandalous requ...</td>\n",
              "      <td>Tim Roth Antonio Banderas Jennifer Beals Madon...</td>\n",
              "      <td>[{'name': 'Allison Anders', 'gender': 1, 'depa...</td>\n",
              "      <td>Allison Anders</td>\n",
              "    </tr>\n",
              "    <tr>\n",
              "      <th>1</th>\n",
              "      <td>2</td>\n",
              "      <td>Star Wars</td>\n",
              "      <td>Adventure Action Science Fiction</td>\n",
              "      <td>en</td>\n",
              "      <td>11000000</td>\n",
              "      <td>126.393695</td>\n",
              "      <td>25-05-1977</td>\n",
              "      <td>775398007</td>\n",
              "      <td>121.0</td>\n",
              "      <td>8.1</td>\n",
              "      <td>...</td>\n",
              "      <td>http://www.starwars.com/films/star-wars-episod...</td>\n",
              "      <td>android galaxy hermit death star lightsaber</td>\n",
              "      <td>Princess Leia is captured and held hostage by ...</td>\n",
              "      <td>[{\"name\": \"Lucasfilm\", \"id\": 1}, {\"name\": \"Twe...</td>\n",
              "      <td>[{\"iso_3166_1\": \"US\", \"name\": \"United States o...</td>\n",
              "      <td>[{\"iso_639_1\": \"en\", \"name\": \"English\"}]</td>\n",
              "      <td>A long time ago in a galaxy far, far away...</td>\n",
              "      <td>Mark Hamill Harrison Ford Carrie Fisher Peter ...</td>\n",
              "      <td>[{'name': 'George Lucas', 'gender': 2, 'depart...</td>\n",
              "      <td>George Lucas</td>\n",
              "    </tr>\n",
              "    <tr>\n",
              "      <th>2</th>\n",
              "      <td>3</td>\n",
              "      <td>Finding Nemo</td>\n",
              "      <td>Animation Family</td>\n",
              "      <td>en</td>\n",
              "      <td>94000000</td>\n",
              "      <td>85.688789</td>\n",
              "      <td>30-05-2003</td>\n",
              "      <td>940335536</td>\n",
              "      <td>100.0</td>\n",
              "      <td>7.6</td>\n",
              "      <td>...</td>\n",
              "      <td>http://movies.disney.com/finding-nemo</td>\n",
              "      <td>father son relationship harbor underwater fish...</td>\n",
              "      <td>Nemo, an adventurous young clownfish, is unexp...</td>\n",
              "      <td>[{\"name\": \"Pixar Animation Studios\", \"id\": 3}]</td>\n",
              "      <td>[{\"iso_3166_1\": \"US\", \"name\": \"United States o...</td>\n",
              "      <td>[{\"iso_639_1\": \"en\", \"name\": \"English\"}]</td>\n",
              "      <td>There are 3.7 trillion fish in the ocean, they...</td>\n",
              "      <td>Albert Brooks Ellen DeGeneres Alexander Gould ...</td>\n",
              "      <td>[{'name': 'Andrew Stanton', 'gender': 2, 'depa...</td>\n",
              "      <td>Andrew Stanton</td>\n",
              "    </tr>\n",
              "    <tr>\n",
              "      <th>3</th>\n",
              "      <td>4</td>\n",
              "      <td>Forrest Gump</td>\n",
              "      <td>Comedy Drama Romance</td>\n",
              "      <td>en</td>\n",
              "      <td>55000000</td>\n",
              "      <td>138.133331</td>\n",
              "      <td>06-07-1994</td>\n",
              "      <td>677945399</td>\n",
              "      <td>142.0</td>\n",
              "      <td>8.2</td>\n",
              "      <td>...</td>\n",
              "      <td>NaN</td>\n",
              "      <td>vietnam veteran hippie mentally disabled runni...</td>\n",
              "      <td>A man with a low IQ has accomplished great thi...</td>\n",
              "      <td>[{\"name\": \"Paramount Pictures\", \"id\": 4}]</td>\n",
              "      <td>[{\"iso_3166_1\": \"US\", \"name\": \"United States o...</td>\n",
              "      <td>[{\"iso_639_1\": \"en\", \"name\": \"English\"}]</td>\n",
              "      <td>The world will never be the same, once you've ...</td>\n",
              "      <td>Tom Hanks Robin Wright Gary Sinise Mykelti Wil...</td>\n",
              "      <td>[{'name': 'Alan Silvestri', 'gender': 2, 'depa...</td>\n",
              "      <td>Robert Zemeckis</td>\n",
              "    </tr>\n",
              "    <tr>\n",
              "      <th>4</th>\n",
              "      <td>5</td>\n",
              "      <td>American Beauty</td>\n",
              "      <td>Drama</td>\n",
              "      <td>en</td>\n",
              "      <td>15000000</td>\n",
              "      <td>80.878605</td>\n",
              "      <td>15-09-1999</td>\n",
              "      <td>356296601</td>\n",
              "      <td>122.0</td>\n",
              "      <td>7.9</td>\n",
              "      <td>...</td>\n",
              "      <td>http://www.dreamworks.com/ab/</td>\n",
              "      <td>male nudity female nudity adultery midlife cri...</td>\n",
              "      <td>Lester Burnham, a depressed suburban father in...</td>\n",
              "      <td>[{\"name\": \"DreamWorks SKG\", \"id\": 27}, {\"name\"...</td>\n",
              "      <td>[{\"iso_3166_1\": \"US\", \"name\": \"United States o...</td>\n",
              "      <td>[{\"iso_639_1\": \"en\", \"name\": \"English\"}]</td>\n",
              "      <td>Look closer.</td>\n",
              "      <td>Kevin Spacey Annette Bening Thora Birch Wes Be...</td>\n",
              "      <td>[{'name': 'Thomas Newman', 'gender': 2, 'depar...</td>\n",
              "      <td>Sam Mendes</td>\n",
              "    </tr>\n",
              "  </tbody>\n",
              "</table>\n",
              "<p>5 rows × 21 columns</p>\n",
              "</div>\n",
              "    <div class=\"colab-df-buttons\">\n",
              "\n",
              "  <div class=\"colab-df-container\">\n",
              "    <button class=\"colab-df-convert\" onclick=\"convertToInteractive('df-3974ad42-d931-47ba-9244-1547a76deaa2')\"\n",
              "            title=\"Convert this dataframe to an interactive table.\"\n",
              "            style=\"display:none;\">\n",
              "\n",
              "  <svg xmlns=\"http://www.w3.org/2000/svg\" height=\"24px\" viewBox=\"0 -960 960 960\">\n",
              "    <path d=\"M120-120v-720h720v720H120Zm60-500h600v-160H180v160Zm220 220h160v-160H400v160Zm0 220h160v-160H400v160ZM180-400h160v-160H180v160Zm440 0h160v-160H620v160ZM180-180h160v-160H180v160Zm440 0h160v-160H620v160Z\"/>\n",
              "  </svg>\n",
              "    </button>\n",
              "\n",
              "  <style>\n",
              "    .colab-df-container {\n",
              "      display:flex;\n",
              "      gap: 12px;\n",
              "    }\n",
              "\n",
              "    .colab-df-convert {\n",
              "      background-color: #E8F0FE;\n",
              "      border: none;\n",
              "      border-radius: 50%;\n",
              "      cursor: pointer;\n",
              "      display: none;\n",
              "      fill: #1967D2;\n",
              "      height: 32px;\n",
              "      padding: 0 0 0 0;\n",
              "      width: 32px;\n",
              "    }\n",
              "\n",
              "    .colab-df-convert:hover {\n",
              "      background-color: #E2EBFA;\n",
              "      box-shadow: 0px 1px 2px rgba(60, 64, 67, 0.3), 0px 1px 3px 1px rgba(60, 64, 67, 0.15);\n",
              "      fill: #174EA6;\n",
              "    }\n",
              "\n",
              "    .colab-df-buttons div {\n",
              "      margin-bottom: 4px;\n",
              "    }\n",
              "\n",
              "    [theme=dark] .colab-df-convert {\n",
              "      background-color: #3B4455;\n",
              "      fill: #D2E3FC;\n",
              "    }\n",
              "\n",
              "    [theme=dark] .colab-df-convert:hover {\n",
              "      background-color: #434B5C;\n",
              "      box-shadow: 0px 1px 3px 1px rgba(0, 0, 0, 0.15);\n",
              "      filter: drop-shadow(0px 1px 2px rgba(0, 0, 0, 0.3));\n",
              "      fill: #FFFFFF;\n",
              "    }\n",
              "  </style>\n",
              "\n",
              "    <script>\n",
              "      const buttonEl =\n",
              "        document.querySelector('#df-3974ad42-d931-47ba-9244-1547a76deaa2 button.colab-df-convert');\n",
              "      buttonEl.style.display =\n",
              "        google.colab.kernel.accessAllowed ? 'block' : 'none';\n",
              "\n",
              "      async function convertToInteractive(key) {\n",
              "        const element = document.querySelector('#df-3974ad42-d931-47ba-9244-1547a76deaa2');\n",
              "        const dataTable =\n",
              "          await google.colab.kernel.invokeFunction('convertToInteractive',\n",
              "                                                    [key], {});\n",
              "        if (!dataTable) return;\n",
              "\n",
              "        const docLinkHtml = 'Like what you see? Visit the ' +\n",
              "          '<a target=\"_blank\" href=https://colab.research.google.com/notebooks/data_table.ipynb>data table notebook</a>'\n",
              "          + ' to learn more about interactive tables.';\n",
              "        element.innerHTML = '';\n",
              "        dataTable['output_type'] = 'display_data';\n",
              "        await google.colab.output.renderOutput(dataTable, element);\n",
              "        const docLink = document.createElement('div');\n",
              "        docLink.innerHTML = docLinkHtml;\n",
              "        element.appendChild(docLink);\n",
              "      }\n",
              "    </script>\n",
              "  </div>\n",
              "\n",
              "\n",
              "<div id=\"df-068c230d-1c51-4d70-aaac-dd69842144c2\">\n",
              "  <button class=\"colab-df-quickchart\" onclick=\"quickchart('df-068c230d-1c51-4d70-aaac-dd69842144c2')\"\n",
              "            title=\"Suggest charts\"\n",
              "            style=\"display:none;\">\n",
              "\n",
              "<svg xmlns=\"http://www.w3.org/2000/svg\" height=\"24px\"viewBox=\"0 0 24 24\"\n",
              "     width=\"24px\">\n",
              "    <g>\n",
              "        <path d=\"M19 3H5c-1.1 0-2 .9-2 2v14c0 1.1.9 2 2 2h14c1.1 0 2-.9 2-2V5c0-1.1-.9-2-2-2zM9 17H7v-7h2v7zm4 0h-2V7h2v10zm4 0h-2v-4h2v4z\"/>\n",
              "    </g>\n",
              "</svg>\n",
              "  </button>\n",
              "\n",
              "<style>\n",
              "  .colab-df-quickchart {\n",
              "      --bg-color: #E8F0FE;\n",
              "      --fill-color: #1967D2;\n",
              "      --hover-bg-color: #E2EBFA;\n",
              "      --hover-fill-color: #174EA6;\n",
              "      --disabled-fill-color: #AAA;\n",
              "      --disabled-bg-color: #DDD;\n",
              "  }\n",
              "\n",
              "  [theme=dark] .colab-df-quickchart {\n",
              "      --bg-color: #3B4455;\n",
              "      --fill-color: #D2E3FC;\n",
              "      --hover-bg-color: #434B5C;\n",
              "      --hover-fill-color: #FFFFFF;\n",
              "      --disabled-bg-color: #3B4455;\n",
              "      --disabled-fill-color: #666;\n",
              "  }\n",
              "\n",
              "  .colab-df-quickchart {\n",
              "    background-color: var(--bg-color);\n",
              "    border: none;\n",
              "    border-radius: 50%;\n",
              "    cursor: pointer;\n",
              "    display: none;\n",
              "    fill: var(--fill-color);\n",
              "    height: 32px;\n",
              "    padding: 0;\n",
              "    width: 32px;\n",
              "  }\n",
              "\n",
              "  .colab-df-quickchart:hover {\n",
              "    background-color: var(--hover-bg-color);\n",
              "    box-shadow: 0 1px 2px rgba(60, 64, 67, 0.3), 0 1px 3px 1px rgba(60, 64, 67, 0.15);\n",
              "    fill: var(--button-hover-fill-color);\n",
              "  }\n",
              "\n",
              "  .colab-df-quickchart-complete:disabled,\n",
              "  .colab-df-quickchart-complete:disabled:hover {\n",
              "    background-color: var(--disabled-bg-color);\n",
              "    fill: var(--disabled-fill-color);\n",
              "    box-shadow: none;\n",
              "  }\n",
              "\n",
              "  .colab-df-spinner {\n",
              "    border: 2px solid var(--fill-color);\n",
              "    border-color: transparent;\n",
              "    border-bottom-color: var(--fill-color);\n",
              "    animation:\n",
              "      spin 1s steps(1) infinite;\n",
              "  }\n",
              "\n",
              "  @keyframes spin {\n",
              "    0% {\n",
              "      border-color: transparent;\n",
              "      border-bottom-color: var(--fill-color);\n",
              "      border-left-color: var(--fill-color);\n",
              "    }\n",
              "    20% {\n",
              "      border-color: transparent;\n",
              "      border-left-color: var(--fill-color);\n",
              "      border-top-color: var(--fill-color);\n",
              "    }\n",
              "    30% {\n",
              "      border-color: transparent;\n",
              "      border-left-color: var(--fill-color);\n",
              "      border-top-color: var(--fill-color);\n",
              "      border-right-color: var(--fill-color);\n",
              "    }\n",
              "    40% {\n",
              "      border-color: transparent;\n",
              "      border-right-color: var(--fill-color);\n",
              "      border-top-color: var(--fill-color);\n",
              "    }\n",
              "    60% {\n",
              "      border-color: transparent;\n",
              "      border-right-color: var(--fill-color);\n",
              "    }\n",
              "    80% {\n",
              "      border-color: transparent;\n",
              "      border-right-color: var(--fill-color);\n",
              "      border-bottom-color: var(--fill-color);\n",
              "    }\n",
              "    90% {\n",
              "      border-color: transparent;\n",
              "      border-bottom-color: var(--fill-color);\n",
              "    }\n",
              "  }\n",
              "</style>\n",
              "\n",
              "  <script>\n",
              "    async function quickchart(key) {\n",
              "      const quickchartButtonEl =\n",
              "        document.querySelector('#' + key + ' button');\n",
              "      quickchartButtonEl.disabled = true;  // To prevent multiple clicks.\n",
              "      quickchartButtonEl.classList.add('colab-df-spinner');\n",
              "      try {\n",
              "        const charts = await google.colab.kernel.invokeFunction(\n",
              "            'suggestCharts', [key], {});\n",
              "      } catch (error) {\n",
              "        console.error('Error during call to suggestCharts:', error);\n",
              "      }\n",
              "      quickchartButtonEl.classList.remove('colab-df-spinner');\n",
              "      quickchartButtonEl.classList.add('colab-df-quickchart-complete');\n",
              "    }\n",
              "    (() => {\n",
              "      let quickchartButtonEl =\n",
              "        document.querySelector('#df-068c230d-1c51-4d70-aaac-dd69842144c2 button');\n",
              "      quickchartButtonEl.style.display =\n",
              "        google.colab.kernel.accessAllowed ? 'block' : 'none';\n",
              "    })();\n",
              "  </script>\n",
              "</div>\n",
              "\n",
              "    </div>\n",
              "  </div>\n"
            ],
            "application/vnd.google.colaboratory.intrinsic+json": {
              "type": "dataframe",
              "variable_name": "df"
            }
          },
          "metadata": {},
          "execution_count": 3
        }
      ]
    },
    {
      "cell_type": "code",
      "source": [
        "df.info()"
      ],
      "metadata": {
        "colab": {
          "base_uri": "https://localhost:8080/"
        },
        "id": "NSFpcbPHWmex",
        "outputId": "45ae7e3d-cbb5-45cf-b906-ac5b386df3eb"
      },
      "execution_count": 4,
      "outputs": [
        {
          "output_type": "stream",
          "name": "stdout",
          "text": [
            "<class 'pandas.core.frame.DataFrame'>\n",
            "RangeIndex: 4760 entries, 0 to 4759\n",
            "Data columns (total 21 columns):\n",
            " #   Column                    Non-Null Count  Dtype  \n",
            "---  ------                    --------------  -----  \n",
            " 0   Movie_ID                  4760 non-null   int64  \n",
            " 1   Movie_Title               4760 non-null   object \n",
            " 2   Movie_Genre               4760 non-null   object \n",
            " 3   Movie_Language            4760 non-null   object \n",
            " 4   Movie_Budget              4760 non-null   int64  \n",
            " 5   Movie_Popularity          4760 non-null   float64\n",
            " 6   Movie_Release_Date        4760 non-null   object \n",
            " 7   Movie_Revenue             4760 non-null   int64  \n",
            " 8   Movie_Runtime             4758 non-null   float64\n",
            " 9   Movie_Vote                4760 non-null   float64\n",
            " 10  Movie_Vote_Count          4760 non-null   int64  \n",
            " 11  Movie_Homepage            1699 non-null   object \n",
            " 12  Movie_Keywords            4373 non-null   object \n",
            " 13  Movie_Overview            4757 non-null   object \n",
            " 14  Movie_Production_House    4760 non-null   object \n",
            " 15  Movie_Production_Country  4760 non-null   object \n",
            " 16  Movie_Spoken_Language     4760 non-null   object \n",
            " 17  Movie_Tagline             3942 non-null   object \n",
            " 18  Movie_Cast                4733 non-null   object \n",
            " 19  Movie_Crew                4760 non-null   object \n",
            " 20  Movie_Director            4738 non-null   object \n",
            "dtypes: float64(3), int64(4), object(14)\n",
            "memory usage: 781.1+ KB\n"
          ]
        }
      ]
    },
    {
      "cell_type": "code",
      "source": [
        "df.shape"
      ],
      "metadata": {
        "colab": {
          "base_uri": "https://localhost:8080/"
        },
        "id": "3wdfTH3tWsc0",
        "outputId": "d5c3ad7d-8099-4db0-81ec-c06f683fac04"
      },
      "execution_count": 5,
      "outputs": [
        {
          "output_type": "execute_result",
          "data": {
            "text/plain": [
              "(4760, 21)"
            ]
          },
          "metadata": {},
          "execution_count": 5
        }
      ]
    },
    {
      "cell_type": "code",
      "source": [
        "df.columns"
      ],
      "metadata": {
        "colab": {
          "base_uri": "https://localhost:8080/"
        },
        "id": "bU2yNPBkWxS8",
        "outputId": "6c0fb56a-e350-446c-c43a-6120ee51da65"
      },
      "execution_count": 6,
      "outputs": [
        {
          "output_type": "execute_result",
          "data": {
            "text/plain": [
              "Index(['Movie_ID', 'Movie_Title', 'Movie_Genre', 'Movie_Language',\n",
              "       'Movie_Budget', 'Movie_Popularity', 'Movie_Release_Date',\n",
              "       'Movie_Revenue', 'Movie_Runtime', 'Movie_Vote', 'Movie_Vote_Count',\n",
              "       'Movie_Homepage', 'Movie_Keywords', 'Movie_Overview',\n",
              "       'Movie_Production_House', 'Movie_Production_Country',\n",
              "       'Movie_Spoken_Language', 'Movie_Tagline', 'Movie_Cast', 'Movie_Crew',\n",
              "       'Movie_Director'],\n",
              "      dtype='object')"
            ]
          },
          "metadata": {},
          "execution_count": 6
        }
      ]
    },
    {
      "cell_type": "markdown",
      "source": [
        "**Get features for selection**"
      ],
      "metadata": {
        "id": "au5dijStW7Ze"
      }
    },
    {
      "cell_type": "code",
      "source": [
        "df_features=df[['Movie_Genre','Movie_Keywords','Movie_Tagline','Movie_Cast','Movie_Director']].fillna('')"
      ],
      "metadata": {
        "id": "K3UihgvLXDWC"
      },
      "execution_count": 7,
      "outputs": []
    },
    {
      "cell_type": "code",
      "source": [
        "df_features.shape"
      ],
      "metadata": {
        "colab": {
          "base_uri": "https://localhost:8080/"
        },
        "id": "3LonFeTtXLOu",
        "outputId": "a3c34e1e-dddb-4827-cdd1-a8108a33c028"
      },
      "execution_count": 8,
      "outputs": [
        {
          "output_type": "execute_result",
          "data": {
            "text/plain": [
              "(4760, 5)"
            ]
          },
          "metadata": {},
          "execution_count": 8
        }
      ]
    },
    {
      "cell_type": "code",
      "source": [
        "df_features"
      ],
      "metadata": {
        "colab": {
          "base_uri": "https://localhost:8080/",
          "height": 424
        },
        "id": "V0odkEvJXO2o",
        "outputId": "fbe36cd9-ee40-438e-e361-9a2776c51645"
      },
      "execution_count": 35,
      "outputs": [
        {
          "output_type": "execute_result",
          "data": {
            "text/plain": [
              "                           Movie_Genre  \\\n",
              "0                         Crime Comedy   \n",
              "1     Adventure Action Science Fiction   \n",
              "2                     Animation Family   \n",
              "3                 Comedy Drama Romance   \n",
              "4                                Drama   \n",
              "...                                ...   \n",
              "4755                            Horror   \n",
              "4756               Comedy Family Drama   \n",
              "4757                    Thriller Drama   \n",
              "4758                            Family   \n",
              "4759                       Documentary   \n",
              "\n",
              "                                         Movie_Keywords  \\\n",
              "0             hotel new year's eve witch bet hotel room   \n",
              "1           android galaxy hermit death star lightsaber   \n",
              "2     father son relationship harbor underwater fish...   \n",
              "3     vietnam veteran hippie mentally disabled runni...   \n",
              "4     male nudity female nudity adultery midlife cri...   \n",
              "...                                                 ...   \n",
              "4755                                                      \n",
              "4756                                                      \n",
              "4757                     christian film sex trafficking   \n",
              "4758                                                      \n",
              "4759  music actors legendary perfomer classic hollyw...   \n",
              "\n",
              "                                          Movie_Tagline  \\\n",
              "0     Twelve outrageous guests. Four scandalous requ...   \n",
              "1          A long time ago in a galaxy far, far away...   \n",
              "2     There are 3.7 trillion fish in the ocean, they...   \n",
              "3     The world will never be the same, once you've ...   \n",
              "4                                          Look closer.   \n",
              "...                                                 ...   \n",
              "4755                The hot spot where Satan's waitin'.   \n",
              "4756           It’s better to stand out than to fit in.   \n",
              "4757           She never knew it could happen to her...   \n",
              "4758                                                      \n",
              "4759                                                      \n",
              "\n",
              "                                             Movie_Cast     Movie_Director  \n",
              "0     Tim Roth Antonio Banderas Jennifer Beals Madon...     Allison Anders  \n",
              "1     Mark Hamill Harrison Ford Carrie Fisher Peter ...       George Lucas  \n",
              "2     Albert Brooks Ellen DeGeneres Alexander Gould ...     Andrew Stanton  \n",
              "3     Tom Hanks Robin Wright Gary Sinise Mykelti Wil...    Robert Zemeckis  \n",
              "4     Kevin Spacey Annette Bening Thora Birch Wes Be...         Sam Mendes  \n",
              "...                                                 ...                ...  \n",
              "4755  Lisa Hart Carroll Michael Des Barres Paul Drak...         Pece Dingo  \n",
              "4756  Roni Akurati Brighton Sharbino Jason Lee Anjul...       Frank Lotito  \n",
              "4757  Nicole Smolen Kim Baldwin Ariana Stephens Brys...       Jaco Booyens  \n",
              "4758                                                                        \n",
              "4759                                    Tony Oppedisano  Simon Napier-Bell  \n",
              "\n",
              "[4760 rows x 5 columns]"
            ],
            "text/html": [
              "\n",
              "  <div id=\"df-a0b02eca-76f1-4680-bfb4-5a2c6fbe39eb\" class=\"colab-df-container\">\n",
              "    <div>\n",
              "<style scoped>\n",
              "    .dataframe tbody tr th:only-of-type {\n",
              "        vertical-align: middle;\n",
              "    }\n",
              "\n",
              "    .dataframe tbody tr th {\n",
              "        vertical-align: top;\n",
              "    }\n",
              "\n",
              "    .dataframe thead th {\n",
              "        text-align: right;\n",
              "    }\n",
              "</style>\n",
              "<table border=\"1\" class=\"dataframe\">\n",
              "  <thead>\n",
              "    <tr style=\"text-align: right;\">\n",
              "      <th></th>\n",
              "      <th>Movie_Genre</th>\n",
              "      <th>Movie_Keywords</th>\n",
              "      <th>Movie_Tagline</th>\n",
              "      <th>Movie_Cast</th>\n",
              "      <th>Movie_Director</th>\n",
              "    </tr>\n",
              "  </thead>\n",
              "  <tbody>\n",
              "    <tr>\n",
              "      <th>0</th>\n",
              "      <td>Crime Comedy</td>\n",
              "      <td>hotel new year's eve witch bet hotel room</td>\n",
              "      <td>Twelve outrageous guests. Four scandalous requ...</td>\n",
              "      <td>Tim Roth Antonio Banderas Jennifer Beals Madon...</td>\n",
              "      <td>Allison Anders</td>\n",
              "    </tr>\n",
              "    <tr>\n",
              "      <th>1</th>\n",
              "      <td>Adventure Action Science Fiction</td>\n",
              "      <td>android galaxy hermit death star lightsaber</td>\n",
              "      <td>A long time ago in a galaxy far, far away...</td>\n",
              "      <td>Mark Hamill Harrison Ford Carrie Fisher Peter ...</td>\n",
              "      <td>George Lucas</td>\n",
              "    </tr>\n",
              "    <tr>\n",
              "      <th>2</th>\n",
              "      <td>Animation Family</td>\n",
              "      <td>father son relationship harbor underwater fish...</td>\n",
              "      <td>There are 3.7 trillion fish in the ocean, they...</td>\n",
              "      <td>Albert Brooks Ellen DeGeneres Alexander Gould ...</td>\n",
              "      <td>Andrew Stanton</td>\n",
              "    </tr>\n",
              "    <tr>\n",
              "      <th>3</th>\n",
              "      <td>Comedy Drama Romance</td>\n",
              "      <td>vietnam veteran hippie mentally disabled runni...</td>\n",
              "      <td>The world will never be the same, once you've ...</td>\n",
              "      <td>Tom Hanks Robin Wright Gary Sinise Mykelti Wil...</td>\n",
              "      <td>Robert Zemeckis</td>\n",
              "    </tr>\n",
              "    <tr>\n",
              "      <th>4</th>\n",
              "      <td>Drama</td>\n",
              "      <td>male nudity female nudity adultery midlife cri...</td>\n",
              "      <td>Look closer.</td>\n",
              "      <td>Kevin Spacey Annette Bening Thora Birch Wes Be...</td>\n",
              "      <td>Sam Mendes</td>\n",
              "    </tr>\n",
              "    <tr>\n",
              "      <th>...</th>\n",
              "      <td>...</td>\n",
              "      <td>...</td>\n",
              "      <td>...</td>\n",
              "      <td>...</td>\n",
              "      <td>...</td>\n",
              "    </tr>\n",
              "    <tr>\n",
              "      <th>4755</th>\n",
              "      <td>Horror</td>\n",
              "      <td></td>\n",
              "      <td>The hot spot where Satan's waitin'.</td>\n",
              "      <td>Lisa Hart Carroll Michael Des Barres Paul Drak...</td>\n",
              "      <td>Pece Dingo</td>\n",
              "    </tr>\n",
              "    <tr>\n",
              "      <th>4756</th>\n",
              "      <td>Comedy Family Drama</td>\n",
              "      <td></td>\n",
              "      <td>It’s better to stand out than to fit in.</td>\n",
              "      <td>Roni Akurati Brighton Sharbino Jason Lee Anjul...</td>\n",
              "      <td>Frank Lotito</td>\n",
              "    </tr>\n",
              "    <tr>\n",
              "      <th>4757</th>\n",
              "      <td>Thriller Drama</td>\n",
              "      <td>christian film sex trafficking</td>\n",
              "      <td>She never knew it could happen to her...</td>\n",
              "      <td>Nicole Smolen Kim Baldwin Ariana Stephens Brys...</td>\n",
              "      <td>Jaco Booyens</td>\n",
              "    </tr>\n",
              "    <tr>\n",
              "      <th>4758</th>\n",
              "      <td>Family</td>\n",
              "      <td></td>\n",
              "      <td></td>\n",
              "      <td></td>\n",
              "      <td></td>\n",
              "    </tr>\n",
              "    <tr>\n",
              "      <th>4759</th>\n",
              "      <td>Documentary</td>\n",
              "      <td>music actors legendary perfomer classic hollyw...</td>\n",
              "      <td></td>\n",
              "      <td>Tony Oppedisano</td>\n",
              "      <td>Simon Napier-Bell</td>\n",
              "    </tr>\n",
              "  </tbody>\n",
              "</table>\n",
              "<p>4760 rows × 5 columns</p>\n",
              "</div>\n",
              "    <div class=\"colab-df-buttons\">\n",
              "\n",
              "  <div class=\"colab-df-container\">\n",
              "    <button class=\"colab-df-convert\" onclick=\"convertToInteractive('df-a0b02eca-76f1-4680-bfb4-5a2c6fbe39eb')\"\n",
              "            title=\"Convert this dataframe to an interactive table.\"\n",
              "            style=\"display:none;\">\n",
              "\n",
              "  <svg xmlns=\"http://www.w3.org/2000/svg\" height=\"24px\" viewBox=\"0 -960 960 960\">\n",
              "    <path d=\"M120-120v-720h720v720H120Zm60-500h600v-160H180v160Zm220 220h160v-160H400v160Zm0 220h160v-160H400v160ZM180-400h160v-160H180v160Zm440 0h160v-160H620v160ZM180-180h160v-160H180v160Zm440 0h160v-160H620v160Z\"/>\n",
              "  </svg>\n",
              "    </button>\n",
              "\n",
              "  <style>\n",
              "    .colab-df-container {\n",
              "      display:flex;\n",
              "      gap: 12px;\n",
              "    }\n",
              "\n",
              "    .colab-df-convert {\n",
              "      background-color: #E8F0FE;\n",
              "      border: none;\n",
              "      border-radius: 50%;\n",
              "      cursor: pointer;\n",
              "      display: none;\n",
              "      fill: #1967D2;\n",
              "      height: 32px;\n",
              "      padding: 0 0 0 0;\n",
              "      width: 32px;\n",
              "    }\n",
              "\n",
              "    .colab-df-convert:hover {\n",
              "      background-color: #E2EBFA;\n",
              "      box-shadow: 0px 1px 2px rgba(60, 64, 67, 0.3), 0px 1px 3px 1px rgba(60, 64, 67, 0.15);\n",
              "      fill: #174EA6;\n",
              "    }\n",
              "\n",
              "    .colab-df-buttons div {\n",
              "      margin-bottom: 4px;\n",
              "    }\n",
              "\n",
              "    [theme=dark] .colab-df-convert {\n",
              "      background-color: #3B4455;\n",
              "      fill: #D2E3FC;\n",
              "    }\n",
              "\n",
              "    [theme=dark] .colab-df-convert:hover {\n",
              "      background-color: #434B5C;\n",
              "      box-shadow: 0px 1px 3px 1px rgba(0, 0, 0, 0.15);\n",
              "      filter: drop-shadow(0px 1px 2px rgba(0, 0, 0, 0.3));\n",
              "      fill: #FFFFFF;\n",
              "    }\n",
              "  </style>\n",
              "\n",
              "    <script>\n",
              "      const buttonEl =\n",
              "        document.querySelector('#df-a0b02eca-76f1-4680-bfb4-5a2c6fbe39eb button.colab-df-convert');\n",
              "      buttonEl.style.display =\n",
              "        google.colab.kernel.accessAllowed ? 'block' : 'none';\n",
              "\n",
              "      async function convertToInteractive(key) {\n",
              "        const element = document.querySelector('#df-a0b02eca-76f1-4680-bfb4-5a2c6fbe39eb');\n",
              "        const dataTable =\n",
              "          await google.colab.kernel.invokeFunction('convertToInteractive',\n",
              "                                                    [key], {});\n",
              "        if (!dataTable) return;\n",
              "\n",
              "        const docLinkHtml = 'Like what you see? Visit the ' +\n",
              "          '<a target=\"_blank\" href=https://colab.research.google.com/notebooks/data_table.ipynb>data table notebook</a>'\n",
              "          + ' to learn more about interactive tables.';\n",
              "        element.innerHTML = '';\n",
              "        dataTable['output_type'] = 'display_data';\n",
              "        await google.colab.output.renderOutput(dataTable, element);\n",
              "        const docLink = document.createElement('div');\n",
              "        docLink.innerHTML = docLinkHtml;\n",
              "        element.appendChild(docLink);\n",
              "      }\n",
              "    </script>\n",
              "  </div>\n",
              "\n",
              "\n",
              "<div id=\"df-4ba29ef2-ed79-4d37-b1c7-f3bb8f51b71f\">\n",
              "  <button class=\"colab-df-quickchart\" onclick=\"quickchart('df-4ba29ef2-ed79-4d37-b1c7-f3bb8f51b71f')\"\n",
              "            title=\"Suggest charts\"\n",
              "            style=\"display:none;\">\n",
              "\n",
              "<svg xmlns=\"http://www.w3.org/2000/svg\" height=\"24px\"viewBox=\"0 0 24 24\"\n",
              "     width=\"24px\">\n",
              "    <g>\n",
              "        <path d=\"M19 3H5c-1.1 0-2 .9-2 2v14c0 1.1.9 2 2 2h14c1.1 0 2-.9 2-2V5c0-1.1-.9-2-2-2zM9 17H7v-7h2v7zm4 0h-2V7h2v10zm4 0h-2v-4h2v4z\"/>\n",
              "    </g>\n",
              "</svg>\n",
              "  </button>\n",
              "\n",
              "<style>\n",
              "  .colab-df-quickchart {\n",
              "      --bg-color: #E8F0FE;\n",
              "      --fill-color: #1967D2;\n",
              "      --hover-bg-color: #E2EBFA;\n",
              "      --hover-fill-color: #174EA6;\n",
              "      --disabled-fill-color: #AAA;\n",
              "      --disabled-bg-color: #DDD;\n",
              "  }\n",
              "\n",
              "  [theme=dark] .colab-df-quickchart {\n",
              "      --bg-color: #3B4455;\n",
              "      --fill-color: #D2E3FC;\n",
              "      --hover-bg-color: #434B5C;\n",
              "      --hover-fill-color: #FFFFFF;\n",
              "      --disabled-bg-color: #3B4455;\n",
              "      --disabled-fill-color: #666;\n",
              "  }\n",
              "\n",
              "  .colab-df-quickchart {\n",
              "    background-color: var(--bg-color);\n",
              "    border: none;\n",
              "    border-radius: 50%;\n",
              "    cursor: pointer;\n",
              "    display: none;\n",
              "    fill: var(--fill-color);\n",
              "    height: 32px;\n",
              "    padding: 0;\n",
              "    width: 32px;\n",
              "  }\n",
              "\n",
              "  .colab-df-quickchart:hover {\n",
              "    background-color: var(--hover-bg-color);\n",
              "    box-shadow: 0 1px 2px rgba(60, 64, 67, 0.3), 0 1px 3px 1px rgba(60, 64, 67, 0.15);\n",
              "    fill: var(--button-hover-fill-color);\n",
              "  }\n",
              "\n",
              "  .colab-df-quickchart-complete:disabled,\n",
              "  .colab-df-quickchart-complete:disabled:hover {\n",
              "    background-color: var(--disabled-bg-color);\n",
              "    fill: var(--disabled-fill-color);\n",
              "    box-shadow: none;\n",
              "  }\n",
              "\n",
              "  .colab-df-spinner {\n",
              "    border: 2px solid var(--fill-color);\n",
              "    border-color: transparent;\n",
              "    border-bottom-color: var(--fill-color);\n",
              "    animation:\n",
              "      spin 1s steps(1) infinite;\n",
              "  }\n",
              "\n",
              "  @keyframes spin {\n",
              "    0% {\n",
              "      border-color: transparent;\n",
              "      border-bottom-color: var(--fill-color);\n",
              "      border-left-color: var(--fill-color);\n",
              "    }\n",
              "    20% {\n",
              "      border-color: transparent;\n",
              "      border-left-color: var(--fill-color);\n",
              "      border-top-color: var(--fill-color);\n",
              "    }\n",
              "    30% {\n",
              "      border-color: transparent;\n",
              "      border-left-color: var(--fill-color);\n",
              "      border-top-color: var(--fill-color);\n",
              "      border-right-color: var(--fill-color);\n",
              "    }\n",
              "    40% {\n",
              "      border-color: transparent;\n",
              "      border-right-color: var(--fill-color);\n",
              "      border-top-color: var(--fill-color);\n",
              "    }\n",
              "    60% {\n",
              "      border-color: transparent;\n",
              "      border-right-color: var(--fill-color);\n",
              "    }\n",
              "    80% {\n",
              "      border-color: transparent;\n",
              "      border-right-color: var(--fill-color);\n",
              "      border-bottom-color: var(--fill-color);\n",
              "    }\n",
              "    90% {\n",
              "      border-color: transparent;\n",
              "      border-bottom-color: var(--fill-color);\n",
              "    }\n",
              "  }\n",
              "</style>\n",
              "\n",
              "  <script>\n",
              "    async function quickchart(key) {\n",
              "      const quickchartButtonEl =\n",
              "        document.querySelector('#' + key + ' button');\n",
              "      quickchartButtonEl.disabled = true;  // To prevent multiple clicks.\n",
              "      quickchartButtonEl.classList.add('colab-df-spinner');\n",
              "      try {\n",
              "        const charts = await google.colab.kernel.invokeFunction(\n",
              "            'suggestCharts', [key], {});\n",
              "      } catch (error) {\n",
              "        console.error('Error during call to suggestCharts:', error);\n",
              "      }\n",
              "      quickchartButtonEl.classList.remove('colab-df-spinner');\n",
              "      quickchartButtonEl.classList.add('colab-df-quickchart-complete');\n",
              "    }\n",
              "    (() => {\n",
              "      let quickchartButtonEl =\n",
              "        document.querySelector('#df-4ba29ef2-ed79-4d37-b1c7-f3bb8f51b71f button');\n",
              "      quickchartButtonEl.style.display =\n",
              "        google.colab.kernel.accessAllowed ? 'block' : 'none';\n",
              "    })();\n",
              "  </script>\n",
              "</div>\n",
              "\n",
              "  <div id=\"id_c5e5c6f4-7a16-4976-b153-c0665c54c5c5\">\n",
              "    <style>\n",
              "      .colab-df-generate {\n",
              "        background-color: #E8F0FE;\n",
              "        border: none;\n",
              "        border-radius: 50%;\n",
              "        cursor: pointer;\n",
              "        display: none;\n",
              "        fill: #1967D2;\n",
              "        height: 32px;\n",
              "        padding: 0 0 0 0;\n",
              "        width: 32px;\n",
              "      }\n",
              "\n",
              "      .colab-df-generate:hover {\n",
              "        background-color: #E2EBFA;\n",
              "        box-shadow: 0px 1px 2px rgba(60, 64, 67, 0.3), 0px 1px 3px 1px rgba(60, 64, 67, 0.15);\n",
              "        fill: #174EA6;\n",
              "      }\n",
              "\n",
              "      [theme=dark] .colab-df-generate {\n",
              "        background-color: #3B4455;\n",
              "        fill: #D2E3FC;\n",
              "      }\n",
              "\n",
              "      [theme=dark] .colab-df-generate:hover {\n",
              "        background-color: #434B5C;\n",
              "        box-shadow: 0px 1px 3px 1px rgba(0, 0, 0, 0.15);\n",
              "        filter: drop-shadow(0px 1px 2px rgba(0, 0, 0, 0.3));\n",
              "        fill: #FFFFFF;\n",
              "      }\n",
              "    </style>\n",
              "    <button class=\"colab-df-generate\" onclick=\"generateWithVariable('df_features')\"\n",
              "            title=\"Generate code using this dataframe.\"\n",
              "            style=\"display:none;\">\n",
              "\n",
              "  <svg xmlns=\"http://www.w3.org/2000/svg\" height=\"24px\"viewBox=\"0 0 24 24\"\n",
              "       width=\"24px\">\n",
              "    <path d=\"M7,19H8.4L18.45,9,17,7.55,7,17.6ZM5,21V16.75L18.45,3.32a2,2,0,0,1,2.83,0l1.4,1.43a1.91,1.91,0,0,1,.58,1.4,1.91,1.91,0,0,1-.58,1.4L9.25,21ZM18.45,9,17,7.55Zm-12,3A5.31,5.31,0,0,0,4.9,8.1,5.31,5.31,0,0,0,1,6.5,5.31,5.31,0,0,0,4.9,4.9,5.31,5.31,0,0,0,6.5,1,5.31,5.31,0,0,0,8.1,4.9,5.31,5.31,0,0,0,12,6.5,5.46,5.46,0,0,0,6.5,12Z\"/>\n",
              "  </svg>\n",
              "    </button>\n",
              "    <script>\n",
              "      (() => {\n",
              "      const buttonEl =\n",
              "        document.querySelector('#id_c5e5c6f4-7a16-4976-b153-c0665c54c5c5 button.colab-df-generate');\n",
              "      buttonEl.style.display =\n",
              "        google.colab.kernel.accessAllowed ? 'block' : 'none';\n",
              "\n",
              "      buttonEl.onclick = () => {\n",
              "        google.colab.notebook.generateWithVariable('df_features');\n",
              "      }\n",
              "      })();\n",
              "    </script>\n",
              "  </div>\n",
              "\n",
              "    </div>\n",
              "  </div>\n"
            ],
            "application/vnd.google.colaboratory.intrinsic+json": {
              "type": "dataframe",
              "variable_name": "df_features",
              "summary": "{\n  \"name\": \"df_features\",\n  \"rows\": 4760,\n  \"fields\": [\n    {\n      \"column\": \"Movie_Genre\",\n      \"properties\": {\n        \"dtype\": \"category\",\n        \"num_unique_values\": 1164,\n        \"samples\": [\n          \"Family Animation Adventure\",\n          \"Adventure Science Fiction Action\",\n          \"Action Crime Drama Romance Thriller\"\n        ],\n        \"semantic_type\": \"\",\n        \"description\": \"\"\n      }\n    },\n    {\n      \"column\": \"Movie_Keywords\",\n      \"properties\": {\n        \"dtype\": \"string\",\n        \"num_unique_values\": 4203,\n        \"samples\": [\n          \"canada nazis sequel spin off ancient evil\",\n          \"sex professor wedding woman director columbia university\",\n          \"prophecy sea beach gold small town\"\n        ],\n        \"semantic_type\": \"\",\n        \"description\": \"\"\n      }\n    },\n    {\n      \"column\": \"Movie_Tagline\",\n      \"properties\": {\n        \"dtype\": \"string\",\n        \"num_unique_values\": 3928,\n        \"samples\": [\n          \"The messenger must be silenced.\",\n          \"It's not the house that's haunted.\",\n          \"The final hunt begins.\"\n        ],\n        \"semantic_type\": \"\",\n        \"description\": \"\"\n      }\n    },\n    {\n      \"column\": \"Movie_Cast\",\n      \"properties\": {\n        \"dtype\": \"string\",\n        \"num_unique_values\": 4715,\n        \"samples\": [\n          \"Robin Tunney Fairuza Balk Neve Campbell Rachel True Skeet Ulrich\",\n          \"Peter Sellers Christopher Plummer Herbert Lom Catherine Schell Peter Arne\",\n          \"John Wayne Laraine Day Cedric Hardwicke Judith Anderson Anthony Quinn\"\n        ],\n        \"semantic_type\": \"\",\n        \"description\": \"\"\n      }\n    },\n    {\n      \"column\": \"Movie_Director\",\n      \"properties\": {\n        \"dtype\": \"category\",\n        \"num_unique_values\": 2332,\n        \"samples\": [\n          \"Rob McKittrick\",\n          \"Terron R. Parsons\",\n          \"Cyrus Nowrasteh\"\n        ],\n        \"semantic_type\": \"\",\n        \"description\": \"\"\n      }\n    }\n  ]\n}"
            }
          },
          "metadata": {},
          "execution_count": 35
        }
      ]
    },
    {
      "cell_type": "code",
      "source": [
        "x=df_features['Movie_Genre']+' '+df_features['Movie_Keywords']+' '+df_features['Movie_Tagline']+' '+df_features['Movie_Cast']+' '+df_features['Movie_Director']"
      ],
      "metadata": {
        "id": "BQm_2mZiXXKu"
      },
      "execution_count": 11,
      "outputs": []
    },
    {
      "cell_type": "code",
      "source": [
        "x"
      ],
      "metadata": {
        "colab": {
          "base_uri": "https://localhost:8080/",
          "height": 458
        },
        "id": "hFJxJmV2XgkV",
        "outputId": "28a39d4a-3f0c-41b6-d941-bde7dac505e7"
      },
      "execution_count": 12,
      "outputs": [
        {
          "output_type": "execute_result",
          "data": {
            "text/plain": [
              "0       Crime Comedy hotel new year's eve witch bet ho...\n",
              "1       Adventure Action Science Fiction android galax...\n",
              "2       Animation Family father son relationship harbo...\n",
              "3       Comedy Drama Romance vietnam veteran hippie me...\n",
              "4       Drama male nudity female nudity adultery midli...\n",
              "                              ...                        \n",
              "4755    Horror  The hot spot where Satan's waitin'. Li...\n",
              "4756    Comedy Family Drama  It’s better to stand out ...\n",
              "4757    Thriller Drama christian film sex trafficking ...\n",
              "4758                                           Family    \n",
              "4759    Documentary music actors legendary perfomer cl...\n",
              "Length: 4760, dtype: object"
            ],
            "text/html": [
              "<div>\n",
              "<style scoped>\n",
              "    .dataframe tbody tr th:only-of-type {\n",
              "        vertical-align: middle;\n",
              "    }\n",
              "\n",
              "    .dataframe tbody tr th {\n",
              "        vertical-align: top;\n",
              "    }\n",
              "\n",
              "    .dataframe thead th {\n",
              "        text-align: right;\n",
              "    }\n",
              "</style>\n",
              "<table border=\"1\" class=\"dataframe\">\n",
              "  <thead>\n",
              "    <tr style=\"text-align: right;\">\n",
              "      <th></th>\n",
              "      <th>0</th>\n",
              "    </tr>\n",
              "  </thead>\n",
              "  <tbody>\n",
              "    <tr>\n",
              "      <th>0</th>\n",
              "      <td>Crime Comedy hotel new year's eve witch bet ho...</td>\n",
              "    </tr>\n",
              "    <tr>\n",
              "      <th>1</th>\n",
              "      <td>Adventure Action Science Fiction android galax...</td>\n",
              "    </tr>\n",
              "    <tr>\n",
              "      <th>2</th>\n",
              "      <td>Animation Family father son relationship harbo...</td>\n",
              "    </tr>\n",
              "    <tr>\n",
              "      <th>3</th>\n",
              "      <td>Comedy Drama Romance vietnam veteran hippie me...</td>\n",
              "    </tr>\n",
              "    <tr>\n",
              "      <th>4</th>\n",
              "      <td>Drama male nudity female nudity adultery midli...</td>\n",
              "    </tr>\n",
              "    <tr>\n",
              "      <th>...</th>\n",
              "      <td>...</td>\n",
              "    </tr>\n",
              "    <tr>\n",
              "      <th>4755</th>\n",
              "      <td>Horror  The hot spot where Satan's waitin'. Li...</td>\n",
              "    </tr>\n",
              "    <tr>\n",
              "      <th>4756</th>\n",
              "      <td>Comedy Family Drama  It’s better to stand out ...</td>\n",
              "    </tr>\n",
              "    <tr>\n",
              "      <th>4757</th>\n",
              "      <td>Thriller Drama christian film sex trafficking ...</td>\n",
              "    </tr>\n",
              "    <tr>\n",
              "      <th>4758</th>\n",
              "      <td>Family</td>\n",
              "    </tr>\n",
              "    <tr>\n",
              "      <th>4759</th>\n",
              "      <td>Documentary music actors legendary perfomer cl...</td>\n",
              "    </tr>\n",
              "  </tbody>\n",
              "</table>\n",
              "<p>4760 rows × 1 columns</p>\n",
              "</div><br><label><b>dtype:</b> object</label>"
            ]
          },
          "metadata": {},
          "execution_count": 12
        }
      ]
    },
    {
      "cell_type": "code",
      "source": [
        "x.shape"
      ],
      "metadata": {
        "colab": {
          "base_uri": "https://localhost:8080/"
        },
        "id": "dwbUsBPiXjot",
        "outputId": "cab85157-5c7a-4883-816a-c7bd0d8c6158"
      },
      "execution_count": 13,
      "outputs": [
        {
          "output_type": "execute_result",
          "data": {
            "text/plain": [
              "(4760,)"
            ]
          },
          "metadata": {},
          "execution_count": 13
        }
      ]
    },
    {
      "cell_type": "markdown",
      "source": [
        "**Get feature text conversion to Tokens**"
      ],
      "metadata": {
        "id": "xtvbL6oMXq3B"
      }
    },
    {
      "cell_type": "code",
      "source": [
        "from sklearn.feature_extraction.text import TfidfVectorizer"
      ],
      "metadata": {
        "id": "uCOiSZUdX0dX"
      },
      "execution_count": 14,
      "outputs": []
    },
    {
      "cell_type": "code",
      "source": [
        "tfidf=TfidfVectorizer()"
      ],
      "metadata": {
        "id": "Fy2Ga0XBX4iD"
      },
      "execution_count": 15,
      "outputs": []
    },
    {
      "cell_type": "code",
      "source": [
        "x=tfidf.fit_transform(x)"
      ],
      "metadata": {
        "id": "sB6YYixAX-Zw"
      },
      "execution_count": 16,
      "outputs": []
    },
    {
      "cell_type": "code",
      "source": [
        "x.shape"
      ],
      "metadata": {
        "colab": {
          "base_uri": "https://localhost:8080/"
        },
        "id": "YN8og5QsYCpv",
        "outputId": "fb050fef-3fe6-48a6-c1c3-0baa0a38ad03"
      },
      "execution_count": 17,
      "outputs": [
        {
          "output_type": "execute_result",
          "data": {
            "text/plain": [
              "(4760, 17258)"
            ]
          },
          "metadata": {},
          "execution_count": 17
        }
      ]
    },
    {
      "cell_type": "code",
      "source": [
        "print(x)"
      ],
      "metadata": {
        "colab": {
          "base_uri": "https://localhost:8080/"
        },
        "id": "FRSBsYfMYG5P",
        "outputId": "1dd495eb-eb55-4899-a8e6-786f65665133"
      },
      "execution_count": 18,
      "outputs": [
        {
          "output_type": "stream",
          "name": "stdout",
          "text": [
            "  (0, 3583)\t0.06486754376295062\n",
            "  (0, 3240)\t0.04527089872278055\n",
            "  (0, 7213)\t0.25146675849405775\n",
            "  (0, 10898)\t0.17625708810661284\n",
            "  (0, 17052)\t0.26079573581490934\n",
            "  (0, 5059)\t0.29553419178998613\n",
            "  (0, 16862)\t0.12768803549311025\n",
            "  (0, 1595)\t0.15687561633854538\n",
            "  (0, 13052)\t0.1465525095337543\n",
            "  (0, 15708)\t0.17654247479915475\n",
            "  (0, 11362)\t0.18801785343006192\n",
            "  (0, 6463)\t0.18801785343006192\n",
            "  (0, 5662)\t0.1465525095337543\n",
            "  (0, 13467)\t0.19712637387361423\n",
            "  (0, 12731)\t0.19712637387361423\n",
            "  (0, 614)\t0.07642616241686973\n",
            "  (0, 11244)\t0.08262965296941757\n",
            "  (0, 9206)\t0.15186283580984414\n",
            "  (0, 1495)\t0.19712637387361423\n",
            "  (0, 7454)\t0.14745635785412262\n",
            "  (0, 7071)\t0.19822417598406614\n",
            "  (0, 5499)\t0.11454057510303811\n",
            "  (0, 3878)\t0.11998399582562203\n",
            "  (0, 11242)\t0.07277788238484746\n",
            "  (0, 15219)\t0.09800472886453934\n",
            "  :\t:\n",
            "  (4757, 3485)\t0.199161573117024\n",
            "  (4757, 1184)\t0.18890726729447022\n",
            "  (4757, 14568)\t0.24255077606762876\n",
            "  (4757, 15508)\t0.24255077606762876\n",
            "  (4757, 5802)\t0.24255077606762876\n",
            "  (4757, 819)\t0.27474840155297187\n",
            "  (4757, 14195)\t0.28805858134028367\n",
            "  (4757, 2227)\t0.28805858134028367\n",
            "  (4757, 7691)\t0.28805858134028367\n",
            "  (4757, 1932)\t0.28805858134028367\n",
            "  (4758, 5238)\t1.0\n",
            "  (4759, 10666)\t0.15888268987343043\n",
            "  (4759, 1490)\t0.21197258705292082\n",
            "  (4759, 15431)\t0.19628653185946862\n",
            "  (4759, 5690)\t0.19534291014627303\n",
            "  (4759, 14051)\t0.20084315377640435\n",
            "  (4759, 4358)\t0.18306542312175342\n",
            "  (4759, 10761)\t0.3126617295732147\n",
            "  (4759, 7130)\t0.26419662449963793\n",
            "  (4759, 3058)\t0.2812896191863103\n",
            "  (4759, 14062)\t0.3237911628497312\n",
            "  (4759, 8902)\t0.3040290704566037\n",
            "  (4759, 205)\t0.3237911628497312\n",
            "  (4759, 11708)\t0.33947721804318337\n",
            "  (4759, 11264)\t0.33947721804318337\n"
          ]
        }
      ]
    },
    {
      "cell_type": "markdown",
      "source": [
        "**Get similarity using cosine similarity**"
      ],
      "metadata": {
        "id": "0P2rf7FvYUL4"
      }
    },
    {
      "cell_type": "code",
      "source": [
        "from sklearn.metrics.pairwise import cosine_similarity"
      ],
      "metadata": {
        "id": "SkiPpsGTYcjy"
      },
      "execution_count": 19,
      "outputs": []
    },
    {
      "cell_type": "code",
      "source": [
        "similarity_score=cosine_similarity(x)"
      ],
      "metadata": {
        "id": "gGpCBraEYf_U"
      },
      "execution_count": 20,
      "outputs": []
    },
    {
      "cell_type": "code",
      "source": [
        "similarity_score"
      ],
      "metadata": {
        "colab": {
          "base_uri": "https://localhost:8080/"
        },
        "id": "y45qhG2lYjiM",
        "outputId": "c0746513-f469-4571-d656-2574935b2990"
      },
      "execution_count": 21,
      "outputs": [
        {
          "output_type": "execute_result",
          "data": {
            "text/plain": [
              "array([[1.        , 0.01351235, 0.03570468, ..., 0.        , 0.        ,\n",
              "        0.        ],\n",
              "       [0.01351235, 1.        , 0.00806674, ..., 0.        , 0.        ,\n",
              "        0.        ],\n",
              "       [0.03570468, 0.00806674, 1.        , ..., 0.        , 0.08014876,\n",
              "        0.        ],\n",
              "       ...,\n",
              "       [0.        , 0.        , 0.        , ..., 1.        , 0.        ,\n",
              "        0.        ],\n",
              "       [0.        , 0.        , 0.08014876, ..., 0.        , 1.        ,\n",
              "        0.        ],\n",
              "       [0.        , 0.        , 0.        , ..., 0.        , 0.        ,\n",
              "        1.        ]])"
            ]
          },
          "metadata": {},
          "execution_count": 21
        }
      ]
    },
    {
      "cell_type": "code",
      "source": [
        "similarity_score.shape"
      ],
      "metadata": {
        "colab": {
          "base_uri": "https://localhost:8080/"
        },
        "id": "x7Idd20vYpZa",
        "outputId": "730c7c16-fc4d-4610-8321-ffa9f6578cc9"
      },
      "execution_count": 22,
      "outputs": [
        {
          "output_type": "execute_result",
          "data": {
            "text/plain": [
              "(4760, 4760)"
            ]
          },
          "metadata": {},
          "execution_count": 22
        }
      ]
    },
    {
      "cell_type": "markdown",
      "source": [
        "**Get a Movie name from user and validate for close cheaking**"
      ],
      "metadata": {
        "id": "booYy7qvYz5g"
      }
    },
    {
      "cell_type": "code",
      "source": [
        "movie_name=input('Enter your favourite movie name: ')"
      ],
      "metadata": {
        "colab": {
          "base_uri": "https://localhost:8080/"
        },
        "id": "qGbLe1T5ZHEm",
        "outputId": "c13cf34f-6608-4693-e5b1-40f39f8005cd"
      },
      "execution_count": 36,
      "outputs": [
        {
          "name": "stdout",
          "output_type": "stream",
          "text": [
            "Enter your favourite movie name: batman\n"
          ]
        }
      ]
    },
    {
      "cell_type": "code",
      "source": [
        "all_movies_title_list=df['Movie_Title'].tolist()"
      ],
      "metadata": {
        "id": "CwBCBVD-ZWHe"
      },
      "execution_count": 37,
      "outputs": []
    },
    {
      "cell_type": "code",
      "source": [
        "import difflib"
      ],
      "metadata": {
        "id": "r1a-mqA3Zaw4"
      },
      "execution_count": 38,
      "outputs": []
    },
    {
      "cell_type": "code",
      "source": [
        "movie_recommendation=difflib.get_close_matches(movie_name,all_movies_title_list)\n",
        "print(movie_recommendation)"
      ],
      "metadata": {
        "colab": {
          "base_uri": "https://localhost:8080/"
        },
        "id": "Y51cs4QyZfCP",
        "outputId": "b9feb550-65f0-4dc9-cb10-1c4226d9609a"
      },
      "execution_count": 39,
      "outputs": [
        {
          "output_type": "stream",
          "name": "stdout",
          "text": [
            "['Batman', 'Batman', 'Catwoman']\n"
          ]
        }
      ]
    },
    {
      "cell_type": "code",
      "source": [
        "close_match=movie_recommendation[0]\n",
        "print(close_match)"
      ],
      "metadata": {
        "colab": {
          "base_uri": "https://localhost:8080/"
        },
        "id": "P251d5k9Zosi",
        "outputId": "4eacf907-4225-4038-8fe4-0f9ddea20c83"
      },
      "execution_count": 40,
      "outputs": [
        {
          "output_type": "stream",
          "name": "stdout",
          "text": [
            "Batman\n"
          ]
        }
      ]
    },
    {
      "cell_type": "code",
      "source": [
        "index_of_close_match_movie=df[df.Movie_Title==close_match]['Movie_ID'].values[0]\n",
        "print(index_of_close_match_movie)"
      ],
      "metadata": {
        "colab": {
          "base_uri": "https://localhost:8080/"
        },
        "id": "uj7GPxxJZ4oC",
        "outputId": "a5d46ca0-a120-4f79-ac92-2d78bd2f0381"
      },
      "execution_count": 41,
      "outputs": [
        {
          "output_type": "stream",
          "name": "stdout",
          "text": [
            "123\n"
          ]
        }
      ]
    },
    {
      "cell_type": "code",
      "source": [
        "recommendation_score=list(enumerate(similarity_score[index_of_close_match_movie]))\n",
        "print(recommendation_score)"
      ],
      "metadata": {
        "colab": {
          "base_uri": "https://localhost:8080/"
        },
        "id": "6rpqiZErZ-77",
        "outputId": "77627437-9468-4da0-dbbf-43087b064d22"
      },
      "execution_count": 42,
      "outputs": [
        {
          "output_type": "stream",
          "name": "stdout",
          "text": [
            "[(0, 0.02012342273968671), (1, 0.00557144592489913), (2, 0.004364812244578101), (3, 0.0389226283856849), (4, 0.003371522803955377), (5, 0.021086069153309833), (6, 0.0788504770380215), (7, 0.013258201762544256), (8, 0.0034702594525806017), (9, 0.010479794695363892), (10, 0.10018137602560619), (11, 0.008576672294760062), (12, 0.00884453307903598), (13, 0.0), (14, 0.004654817247543932), (15, 0.0029473322636128486), (16, 0.02080681624496318), (17, 0.00662601654014696), (18, 0.09435643494884513), (19, 0.027993787800433084), (20, 0.014705808063266322), (21, 0.02248224654768435), (22, 0.0), (23, 0.003329883003221714), (24, 0.0020870040416297204), (25, 0.02820855044389918), (26, 0.0031265342098189836), (27, 0.0), (28, 0.005164787557144342), (29, 0.007887143836075656), (30, 0.07344546078508554), (31, 0.0030051846861060614), (32, 0.008272214747969787), (33, 0.00731945780573935), (34, 0.014629940793129702), (35, 0.07198891315439654), (36, 0.005700192198394998), (37, 0.019625538281912873), (38, 0.03331588790130346), (39, 0.027387582610123397), (40, 0.026995821446357607), (41, 0.010496343013749878), (42, 0.018235744421211782), (43, 0.019296973550571854), (44, 0.007852331872964231), (45, 0.03483221308874042), (46, 0.005797554018505771), (47, 0.015824374574599474), (48, 0.03564273029817747), (49, 0.0), (50, 0.017606202711273885), (51, 0.022119206965640976), (52, 0.020101524424063214), (53, 0.0), (54, 0.006334613758789304), (55, 0.006517671988084583), (56, 0.016709197454129993), (57, 0.012585982860722798), (58, 0.004265315828226961), (59, 0.006426593330786287), (60, 0.007084921139345326), (61, 0.003154763353854627), (62, 0.0035279016217596337), (63, 0.059123065713991035), (64, 0.004260495596709459), (65, 0.005044484483785122), (66, 0.0031891704611295845), (67, 0.019494572678906294), (68, 0.44009343640948084), (69, 0.006848946492555923), (70, 0.01949959635940985), (71, 0.01440354880820693), (72, 0.0222236987545462), (73, 0.02737025926603784), (74, 0.014218668480923614), (75, 0.01709026639489311), (76, 0.02615645999157227), (77, 0.01563885454049631), (78, 0.009519253543749056), (79, 0.008256493568090408), (80, 0.010376348035939701), (81, 0.028428205280976927), (82, 0.018389589218897245), (83, 0.023221029705852533), (84, 0.01108811151078519), (85, 0.020224871166321504), (86, 0.02905036015012361), (87, 0.0481104731131589), (88, 0.024044891494971483), (89, 0.02010153273690193), (90, 0.01672334414530982), (91, 0.03249153726903872), (92, 0.008301445953971757), (93, 0.01637992115884908), (94, 0.02037642154560976), (95, 0.017591931101293964), (96, 0.04431281527977124), (97, 0.007268299917223883), (98, 0.003128914757263818), (99, 0.015418599709960523), (100, 0.0), (101, 0.018196621632568445), (102, 0.02424145864664618), (103, 0.002767677965529528), (104, 0.030240186017789345), (105, 0.05447212496565121), (106, 0.02009941668142739), (107, 0.003624111255529204), (108, 0.029434371471241748), (109, 0.03873391589688561), (110, 0.005198946657619986), (111, 0.019529680482814726), (112, 0.025137407286425193), (113, 0.0026276720354418475), (114, 0.003198442637852841), (115, 0.0032673691769234893), (116, 0.00301583441675622), (117, 0.0), (118, 0.0064002230216700816), (119, 0.019236122266429456), (120, 0.021682124085056046), (121, 0.0029368456603362254), (122, 0.19241775849781445), (123, 1.0000000000000002), (124, 0.028486700438489727), (125, 0.019578330995645668), (126, 0.01983583159711084), (127, 0.003111337964351594), (128, 0.01897222128728744), (129, 0.0022313492520089377), (130, 0.0195170592582955), (131, 0.0313119834469751), (132, 0.012464790809475072), (133, 0.0), (134, 0.0), (135, 0.0163973574143935), (136, 0.002950816858462223), (137, 0.02359226400060247), (138, 0.02200240934897043), (139, 0.027001228237615648), (140, 0.0029932269090117017), (141, 0.0), (142, 0.032144247662239694), (143, 0.11459335777758148), (144, 0.12187922817451459), (145, 0.1106505405501603), (146, 0.0), (147, 0.018188747087915427), (148, 0.026455003546945383), (149, 0.017360930423990027), (150, 0.004979571960014959), (151, 0.00644347587054606), (152, 0.010997519888635027), (153, 0.013309939627163384), (154, 0.0029993950372536288), (155, 0.0), (156, 0.006728199556337348), (157, 0.03048545688482174), (158, 0.00286629341760848), (159, 0.015345323762883887), (160, 0.005717391623322546), (161, 0.002872197397040576), (162, 0.22615309751378304), (163, 0.0), (164, 0.0030405549830368177), (165, 0.016949387289324824), (166, 0.057130217708883574), (167, 0.003086947669817025), (168, 0.003997951666589434), (169, 0.008137331693299228), (170, 0.040866635417333395), (171, 0.010749664692201727), (172, 0.04999548915341913), (173, 0.07084064673126766), (174, 0.003156258720721153), (175, 0.006993626516896622), (176, 0.0032834094672346387), (177, 0.008673009303375714), (178, 0.033672602419998275), (179, 0.10433169126869851), (180, 0.11673258408823167), (181, 0.19351097339315135), (182, 0.013475841227928416), (183, 0.002930553030013611), (184, 0.07201229749666213), (185, 0.0), (186, 0.004254010627067112), (187, 0.0), (188, 0.0), (189, 0.011727045023964378), (190, 0.017940658746283807), (191, 0.014642710523672338), (192, 0.008957902613210016), (193, 0.025317492897681232), (194, 0.0025637497205011563), (195, 0.00696155676563288), (196, 0.002683949339123495), (197, 0.01327517838309148), (198, 0.003242115351198081), (199, 0.01916956414702553), (200, 0.0028234784631116835), (201, 0.10195939274117663), (202, 0.023056189066944007), (203, 0.0030234762822303326), (204, 0.06354370803873206), (205, 0.0), (206, 0.033825893948708385), (207, 0.03240837444223811), (208, 0.010014713801006759), (209, 0.026346958198913077), (210, 0.029380680389319697), (211, 0.008657094575446382), (212, 0.02203269232177582), (213, 0.0029740328618598696), (214, 0.013761139864102495), (215, 0.008136765919476699), (216, 0.027069631536990654), (217, 0.023456536201466618), (218, 0.002917255677031035), (219, 0.0), (220, 0.0898466941041829), (221, 0.023040728554359374), (222, 0.016244370982358272), (223, 0.03975539446113309), (224, 0.016085069444484044), (225, 0.00585031493200128), (226, 0.0031949654432276405), (227, 0.003414974594232822), (228, 0.06090468841907258), (229, 0.02984210244501532), (230, 0.006074520801254241), (231, 0.036755989870714635), (232, 0.0432161313669224), (233, 0.006156333409729171), (234, 0.00974646782922227), (235, 0.03274870365746291), (236, 0.019747719054984618), (237, 0.004126905303134906), (238, 0.0032590859067736953), (239, 0.0327817900006117), (240, 0.028606547282416482), (241, 0.0793612451380854), (242, 0.002766592636077733), (243, 0.024737794543440272), (244, 0.023542765324759456), (245, 0.0), (246, 0.003398229441966108), (247, 0.0031594553061706433), (248, 0.0), (249, 0.016185950647194153), (250, 0.005692216719359674), (251, 0.026739306441690532), (252, 0.0028304367199587965), (253, 0.003493603833581928), (254, 0.02317222691868481), (255, 0.0033461176222068308), (256, 0.0157063766401466), (257, 0.0), (258, 0.00628020094247243), (259, 0.01631750248128163), (260, 0.07225525457561162), (261, 0.010926028032129501), (262, 0.014769996572502494), (263, 0.06821162416278274), (264, 0.06199186289209038), (265, 0.0), (266, 0.01900020073205514), (267, 0.002707920474683275), (268, 0.002849985903380622), (269, 0.021188942862916078), (270, 0.0219872089566925), (271, 0.02701641599414893), (272, 0.005085395000320636), (273, 0.0), (274, 0.024139239197169947), (275, 0.027783472403598776), (276, 0.01982283761329086), (277, 0.05340554477537918), (278, 0.002752084270235488), (279, 0.00775356553917019), (280, 0.04673813547707696), (281, 0.047158304723286325), (282, 0.02071145442031952), (283, 0.00233840344525821), (284, 0.01079999824811255), (285, 0.01904051728269894), (286, 0.002742036226551658), (287, 0.03404619733795118), (288, 0.013937264670117886), (289, 0.03994856548489907), (290, 0.054618363925568014), (291, 0.020887232795735358), (292, 0.014087489416884293), (293, 0.005888952107960544), (294, 0.009016861209464242), (295, 0.046337255701648566), (296, 0.007069865310115528), (297, 0.010763408853914835), (298, 0.005313840321614249), (299, 0.07212379957323636), (300, 0.010350308570906096), (301, 0.048565711871370876), (302, 0.009874296182776745), (303, 0.01855781940698921), (304, 0.016436566061365995), (305, 0.05480762589186722), (306, 0.09399339610470331), (307, 0.002997272026200846), (308, 0.0035732029064458846), (309, 0.010633519873139364), (310, 0.015767841084118016), (311, 0.016733646319324256), (312, 0.0), (313, 0.0), (314, 0.014335967152591056), (315, 0.006256825125507417), (316, 0.02595564142038058), (317, 0.002797969344805606), (318, 0.0034920408859355286), (319, 0.013447035588293951), (320, 0.02829285102658839), (321, 0.006054301391967593), (322, 0.05595112912084078), (323, 0.13728599675391295), (324, 0.007633676956681856), (325, 0.0030195502575329995), (326, 0.003913256404172072), (327, 0.010158776547659249), (328, 0.05374562919558788), (329, 0.0030997895832575784), (330, 0.00923760024144808), (331, 0.0), (332, 0.004670537690235223), (333, 0.021406020380466524), (334, 0.021654928789339757), (335, 0.004702765847136356), (336, 0.0072965405992864085), (337, 0.0046169814054709025), (338, 0.009282094569010415), (339, 0.028993108604698926), (340, 0.011672845353773649), (341, 0.010954511786048447), (342, 0.028443671502512653), (343, 0.008345127820702876), (344, 0.005350140340223372), (345, 0.022209016567366714), (346, 0.00822985110380014), (347, 0.0051041401866905815), (348, 0.008198795369202785), (349, 0.0030991372875624023), (350, 0.08903424273184846), (351, 0.0024378956852659805), (352, 0.004623398366471571), (353, 0.014746851702436732), (354, 0.004655187574787039), (355, 0.0029464660753778676), (356, 0.007900140489484585), (357, 0.011536814985245666), (358, 0.003107755238587371), (359, 0.002932440145400485), (360, 0.01691662353673485), (361, 0.005399844730479814), (362, 0.0), (363, 0.0), (364, 0.0027490222744786215), (365, 0.0), (366, 0.0), (367, 0.027486527878048055), (368, 0.0405464853338421), (369, 0.04878153173370437), (370, 0.020989461635218493), (371, 0.09484809586168896), (372, 0.012456709221290725), (373, 0.0030283529204886434), (374, 0.0031526689895274886), (375, 0.006164530461489315), (376, 0.0), (377, 0.0032923586154804388), (378, 0.0032090887828263607), (379, 0.005744410390435741), (380, 0.03085122819028981), (381, 0.0454679418923641), (382, 0.005737173484866209), (383, 0.0), (384, 0.0), (385, 0.051633063581602016), (386, 0.006495137939718187), (387, 0.007811203188029848), (388, 0.007818670301418425), (389, 0.0), (390, 0.016460016148323948), (391, 0.0), (392, 0.03601080085363869), (393, 0.0), (394, 0.014615232001894556), (395, 0.0034283437766277), (396, 0.020202884010550825), (397, 0.01563657106048561), (398, 0.0), (399, 0.0029608759177595207), (400, 0.003166065071835131), (401, 0.0), (402, 0.0038953899353798478), (403, 0.011331637854698835), (404, 0.0), (405, 0.0), (406, 0.003260162538362699), (407, 0.01480859717530049), (408, 0.02468619721663663), (409, 0.004683330958925172), (410, 0.007705385182261905), (411, 0.010394446800913563), (412, 0.01092231724343503), (413, 0.0), (414, 0.0), (415, 0.0), (416, 0.007589694572804895), (417, 0.027079051802394186), (418, 0.042814922207042916), (419, 0.0035988654093919298), (420, 0.005469973626926645), (421, 0.003934159736387871), (422, 0.05362439896570426), (423, 0.0), (424, 0.012858282694555873), (425, 0.07022991875615547), (426, 0.0579037067898064), (427, 0.00487928103784056), (428, 0.06309770285499408), (429, 0.022033210888387826), (430, 0.0034393005755940023), (431, 0.0037684178600311652), (432, 0.0027183851088893327), (433, 0.026183452488899847), (434, 0.06107684951535641), (435, 0.019514248257565692), (436, 0.003575108114396966), (437, 0.0030319989192801517), (438, 0.0), (439, 0.005056978563938748), (440, 0.0050534736471634445), (441, 0.038519698025654456), (442, 0.012039558072782317), (443, 0.2546435047031727), (444, 0.0035603760245821315), (445, 0.002735487746633565), (446, 0.013715207555955266), (447, 0.021830204345201953), (448, 0.033510722554501424), (449, 0.0028899592107897785), (450, 0.02306885952543279), (451, 0.006264584386208758), (452, 0.018598584422352037), (453, 0.002443420368329209), (454, 0.014804051509117816), (455, 0.01771419204412758), (456, 0.003385485849787264), (457, 0.0029327736307805078), (458, 0.030418155720460208), (459, 0.0), (460, 0.01012654162099974), (461, 0.14401226956622565), (462, 0.0), (463, 0.08303470048339105), (464, 0.003158499918235525), (465, 0.002917253924430676), (466, 0.0031591222768528886), (467, 0.006148793877054133), (468, 0.005836957334498335), (469, 0.01356266259070409), (470, 0.009948881170501498), (471, 0.0029840455685965985), (472, 0.008526672360558018), (473, 0.002890907610223429), (474, 0.018732882055178278), (475, 0.0011170799488380153), (476, 0.003507615545317773), (477, 0.013091007970810909), (478, 0.003616380136521172), (479, 0.020998691535837832), (480, 0.002803959910802884), (481, 0.022863231125162656), (482, 0.014674957343519054), (483, 0.02756827771054717), (484, 0.01509669935396759), (485, 0.022529865665077), (486, 0.025751237322203076), (487, 0.003058890794594223), (488, 0.0030907586020036955), (489, 0.0038225024385826474), (490, 0.013922207254659348), (491, 0.11281154622527853), (492, 0.010573052352546512), (493, 0.0033926906016658563), (494, 0.07816062240044643), (495, 0.07020379938167358), (496, 0.05931909543068615), (497, 0.070251376588152), (498, 0.010796224115320049), (499, 0.0034774529357061872), (500, 0.03338562411877506), (501, 0.021610428099037175), (502, 0.033382843294376977), (503, 0.017342572455738434), (504, 0.008332372457764336), (505, 0.003035571573486594), (506, 0.0), (507, 0.007776865961086255), (508, 0.10427457150436098), (509, 0.003276949487310513), (510, 0.006620376983853707), (511, 0.004632847198774594), (512, 0.013459864212208787), (513, 0.006780684621222941), (514, 0.006764454812639827), (515, 0.02457286254342849), (516, 0.02919220695958906), (517, 0.07387936159100066), (518, 0.003746065929099368), (519, 0.008328878684964958), (520, 0.0), (521, 0.004897685235737432), (522, 0.003101778220263341), (523, 0.010694735090383531), (524, 0.012264597543699029), (525, 0.005059681009214575), (526, 0.00401816698822171), (527, 0.0025296886345234364), (528, 0.0063513088359154375), (529, 0.005118356400623245), (530, 0.027564496353280996), (531, 0.0), (532, 0.022347046180144405), (533, 0.05400073649398639), (534, 0.07688293100782886), (535, 0.0), (536, 0.0), (537, 0.019466755510927174), (538, 0.008392333777511552), (539, 0.02354955372956564), (540, 0.01514670558712106), (541, 0.013599135764407069), (542, 0.05952812178923944), (543, 0.021896271789558604), (544, 0.021334473833724627), (545, 0.004468672765877021), (546, 0.0), (547, 0.040366885503807654), (548, 0.010619538810855566), (549, 0.004719660657472437), (550, 0.006889776886798987), (551, 0.008601547436219477), (552, 0.0), (553, 0.007235149239008472), (554, 0.006050744211359305), (555, 0.021866705195803686), (556, 0.0), (557, 0.0), (558, 0.01938616141037817), (559, 0.0), (560, 0.02924083446258594), (561, 0.02335521775127409), (562, 0.0062833812048874275), (563, 0.0028813625077338647), (564, 0.11596920322355594), (565, 0.005825999948608695), (566, 0.030441080603697972), (567, 0.006082699556602883), (568, 0.025297336923782655), (569, 0.015037309890326693), (570, 0.04944148911926103), (571, 0.08914337667771835), (572, 0.006394525666873512), (573, 0.020147760804859728), (574, 0.025265383919802185), (575, 0.004267459149542011), (576, 0.003602130441387076), (577, 0.06264095043662556), (578, 0.067733896857567), (579, 0.003239181118717123), (580, 0.03464653740030811), (581, 0.07713938847448426), (582, 0.012798858849506921), (583, 0.004611567922254102), (584, 0.02175349535562348), (585, 0.004893554127060798), (586, 0.0), (587, 0.003514246872151086), (588, 0.008606379456925665), (589, 0.0029614077386539957), (590, 0.04526007363723128), (591, 0.018781083382000213), (592, 0.006335376714059261), (593, 0.0032592098654514712), (594, 0.03770404834049724), (595, 0.006860103573650331), (596, 0.0035802938698619455), (597, 0.0165906380825236), (598, 0.0029772291581391165), (599, 0.01191390013312814), (600, 0.011916158545640505), (601, 0.06801895487451118), (602, 0.005092821318376855), (603, 0.012045048202138451), (604, 0.02932680482851112), (605, 0.0028116930793653217), (606, 0.003299648703959041), (607, 0.002462263065643282), (608, 0.00289654361844915), (609, 0.022716026311250602), (610, 0.011259485621958118), (611, 0.005133876849851391), (612, 0.003392644130187087), (613, 0.17151023869206397), (614, 0.01665953515167634), (615, 0.011730920637474326), (616, 0.002662870233517146), (617, 0.02021706254596821), (618, 0.004966097562122542), (619, 0.006208731416947507), (620, 0.02397662193610337), (621, 0.020361719142921637), (622, 0.022339273173471227), (623, 0.0033937719983803123), (624, 0.0029227519196677026), (625, 0.0), (626, 0.002707959804850148), (627, 0.0043268415927499625), (628, 0.014175163067300444), (629, 0.01539482967159546), (630, 0.0), (631, 0.014929260855972772), (632, 0.021750365238046875), (633, 0.0), (634, 0.0), (635, 0.05354491684082105), (636, 0.003227103286731447), (637, 0.014559290090680261), (638, 0.002945080303296572), (639, 0.009562659611308416), (640, 0.013738936933457666), (641, 0.002288222501870045), (642, 0.0027600739285073956), (643, 0.02530170805199683), (644, 0.013793340532016944), (645, 0.002609819333994744), (646, 0.0030728678112476706), (647, 0.002803650356262808), (648, 0.0), (649, 0.0), (650, 0.0), (651, 0.07172110973192579), (652, 0.021503829841047747), (653, 0.03699632837129075), (654, 0.04217644440272379), (655, 0.022361106727914533), (656, 0.006553176779582922), (657, 0.016389441576557705), (658, 0.022064151622711147), (659, 0.002976491476775846), (660, 0.014686333531849591), (661, 0.010623456524230718), (662, 0.0), (663, 0.028695783071248745), (664, 0.030279348274955063), (665, 0.0), (666, 0.012743316486712425), (667, 0.018743678266305866), (668, 0.07437276806038366), (669, 0.09145605909853201), (670, 0.011625156449783264), (671, 0.0), (672, 0.013973566299332782), (673, 0.02974905529418043), (674, 0.006183229628995496), (675, 0.028474366971282344), (676, 0.020381808427089455), (677, 0.005574849713817444), (678, 0.01943563127910676), (679, 0.0), (680, 0.008808104776306287), (681, 0.012821105667741906), (682, 0.027066072723698195), (683, 0.04878343147427194), (684, 0.031201983614869148), (685, 0.03697387524474869), (686, 0.07410268226357732), (687, 0.01948462242172873), (688, 0.010449645609304047), (689, 0.008236892655083079), (690, 0.010536439898628739), (691, 0.010805296914498837), (692, 0.02959309835287155), (693, 0.00311006262939836), (694, 0.0030048684579252693), (695, 0.016420839489477215), (696, 0.033373226096316266), (697, 0.003208761285248964), (698, 0.003023251451073032), (699, 0.009149176534007673), (700, 0.005581068673692151), (701, 0.029146465168713078), (702, 0.0), (703, 0.0028384022516387045), (704, 0.02793714048219394), (705, 0.0028288928246262154), (706, 0.014659087170731985), (707, 0.002687658801432582), (708, 0.0), (709, 0.0), (710, 0.0), (711, 0.0), (712, 0.051990429920872744), (713, 0.0), (714, 0.036626280266441644), (715, 0.010409287805143356), (716, 0.009891837920202947), (717, 0.008637076013356068), (718, 0.021465839079565494), (719, 0.019838465049245142), (720, 0.0), (721, 0.016109270208803258), (722, 0.03104932226571912), (723, 0.018199395578726338), (724, 0.0), (725, 0.009633565078368628), (726, 0.03355848292749195), (727, 0.06895933389208708), (728, 0.010174157214876644), (729, 0.010518907661117577), (730, 0.0), (731, 0.01765465051319042), (732, 0.002852536263107014), (733, 0.036392753680306644), (734, 0.0029925887674527646), (735, 0.0043633286425609355), (736, 0.005121024103995862), (737, 0.009341574816713945), (738, 0.013519751126924797), (739, 0.003646244441319338), (740, 0.002143607003784607), (741, 0.0), (742, 0.01799763934878381), (743, 0.0032835693022909653), (744, 0.02779024960478394), (745, 0.0952324504212726), (746, 0.0), (747, 0.005671401876363904), (748, 0.01692605494506184), (749, 0.019618662121330538), (750, 0.0032553984335899587), (751, 0.013109906426813436), (752, 0.011368883590176996), (753, 0.02789708393513365), (754, 0.011639298382004814), (755, 0.003105382291004512), (756, 0.019484223459391957), (757, 0.028983329187745082), (758, 0.0), (759, 0.002909320206361737), (760, 0.020452058187923807), (761, 0.003195878068926791), (762, 0.01422511889044541), (763, 0.015493511396794793), (764, 0.01585561161745804), (765, 0.028382092168029276), (766, 0.0029566263067613502), (767, 0.007856638425634901), (768, 0.010378816956736403), (769, 0.00817389520383994), (770, 0.01916568787836747), (771, 0.0), (772, 0.025204701224546218), (773, 0.02499428500782481), (774, 0.00331090630413697), (775, 0.007783334488287301), (776, 0.014558685349735055), (777, 0.0038405179947741375), (778, 0.005235052421233624), (779, 0.009680327259264479), (780, 0.009679634134068386), (781, 0.005357190632389306), (782, 0.007947562267939301), (783, 0.0033660939990890703), (784, 0.0), (785, 0.010179859946918439), (786, 0.0), (787, 0.008177571940502526), (788, 0.010538428732080277), (789, 0.00821038793154878), (790, 0.03273987084298029), (791, 0.003432733199186414), (792, 0.10595369432467786), (793, 0.006478013080047506), (794, 0.003453267225836399), (795, 0.04951597064898755), (796, 0.00265289266934501), (797, 0.0), (798, 0.012758267961939428), (799, 0.020494722449682763), (800, 0.008478728466135028), (801, 0.016330928759417895), (802, 0.0), (803, 0.019214656743123427), (804, 0.008484287256054558), (805, 0.00765887606669714), (806, 0.02169576673532444), (807, 0.004038868037698492), (808, 0.0028170106749841736), (809, 0.032910337408227026), (810, 0.025090426626402214), (811, 0.0), (812, 0.03680699628401469), (813, 0.01501555244362587), (814, 0.0), (815, 0.0028547556627431885), (816, 0.017111261960045594), (817, 0.0030922475129328423), (818, 0.0030187184357565824), (819, 0.0), (820, 0.004493469110857112), (821, 0.010371447739992224), (822, 0.043362002946352535), (823, 0.0036831863224869323), (824, 0.002225174476127261), (825, 0.03387735228254093), (826, 0.010060259170633292), (827, 0.022830510946924107), (828, 0.019859810706277965), (829, 0.06450499534251108), (830, 0.014779320770705569), (831, 0.0022558189772185757), (832, 0.019467820196022147), (833, 0.01668489515817773), (834, 0.0), (835, 0.0), (836, 0.0), (837, 0.01673332418072215), (838, 0.0029712772754141525), (839, 0.0), (840, 0.014774907734900686), (841, 0.032897562263948736), (842, 0.11635444223703012), (843, 0.0026278012214863682), (844, 0.006888355132739726), (845, 0.009875525114119842), (846, 0.011124420462363577), (847, 0.009497604767369746), (848, 0.009513245982426762), (849, 0.03617422207256267), (850, 0.03471633666485237), (851, 0.02388176178211262), (852, 0.017654703363567253), (853, 0.020187985795024857), (854, 0.013857172055887058), (855, 0.0), (856, 0.02368541069108585), (857, 0.0035286248590743453), (858, 0.016168033727939207), (859, 0.0), (860, 0.024358669183691048), (861, 0.002751642449038247), (862, 0.046887690604510764), (863, 0.07553228541706516), (864, 0.03736160647024448), (865, 0.00328103573560832), (866, 0.03007214368398692), (867, 0.0031492145483139984), (868, 0.008758214550640938), (869, 0.024674483234817423), (870, 0.025531263278650792), (871, 0.0032832176840711185), (872, 0.010098616504025175), (873, 0.0), (874, 0.026903835670821375), (875, 0.06996187399202021), (876, 0.02399652594182122), (877, 0.0), (878, 0.040814506150556595), (879, 0.04464387130455391), (880, 0.00314951823026246), (881, 0.01605106845653112), (882, 0.0045092194651128546), (883, 0.007911691691308696), (884, 0.00332451857844218), (885, 0.0074288530798184765), (886, 0.002995710772719227), (887, 0.0034744693420151462), (888, 0.02330039835926036), (889, 0.0041123795227815604), (890, 0.008637916501721155), (891, 0.06632276487175685), (892, 0.0), (893, 0.0), (894, 0.02586515280811903), (895, 0.0171948387242295), (896, 0.022966655740660098), (897, 0.02925334303272011), (898, 0.027857624819215002), (899, 0.007634765115593076), (900, 0.0029876535720313162), (901, 0.0026466747636531562), (902, 0.06437616680117059), (903, 0.013178981270237974), (904, 0.034317088332374616), (905, 0.027838899926064156), (906, 0.06828569837291866), (907, 0.007616513110985176), (908, 0.029782075686461115), (909, 0.010980471246915395), (910, 0.0029250640806778917), (911, 0.01857523311385778), (912, 0.009553230215696557), (913, 0.08117209380462719), (914, 0.0134515868191291), (915, 0.028052316293517683), (916, 0.02123299961338538), (917, 0.002860181892650095), (918, 0.030169286409193766), (919, 0.0115083767012023), (920, 0.0), (921, 0.049102477833939805), (922, 0.0035850367457363284), (923, 0.013539668795028499), (924, 0.0072142876478032405), (925, 0.0036741784511093297), (926, 0.0), (927, 0.0), (928, 0.06447584850274433), (929, 0.01414370774428896), (930, 0.014190268691041664), (931, 0.051693260657307644), (932, 0.0), (933, 0.0032633906032659295), (934, 0.06115988224173221), (935, 0.017166551974483024), (936, 0.0028751244928302173), (937, 0.024562313457117957), (938, 0.005098974842176945), (939, 0.019829658612288914), (940, 0.002236324368358767), (941, 0.02760004777540756), (942, 0.017091414742275785), (943, 0.010890199344835923), (944, 0.002977093612612901), (945, 0.011466816909446101), (946, 0.0062072449203501795), (947, 0.03677340596559004), (948, 0.036706766652776224), (949, 0.01672329210807498), (950, 0.07833573229621492), (951, 0.0026975213111563225), (952, 0.00345419390376202), (953, 0.0025727976140526012), (954, 0.06686065557027382), (955, 0.0), (956, 0.006834098518045653), (957, 0.007562740046607775), (958, 0.026336471357871094), (959, 0.003103708040847507), (960, 0.06359404398684745), (961, 0.0), (962, 0.012676924326806671), (963, 0.01832764902616771), (964, 0.0), (965, 0.006224000339308201), (966, 0.08738453268625297), (967, 0.10656003526377242), (968, 0.0028945616476909212), (969, 0.0032614924326630095), (970, 0.021829501098007763), (971, 0.005236004362376103), (972, 0.0), (973, 0.013171566131246353), (974, 0.010601227880808157), (975, 0.0029913875462683846), (976, 0.018790819699876036), (977, 0.0), (978, 0.004705148179353068), (979, 0.0), (980, 0.025800485570903642), (981, 0.01765161887682592), (982, 0.011191634882160307), (983, 0.0), (984, 0.0541551188666153), (985, 0.003655304809325138), (986, 0.027240347337706788), (987, 0.003314317845462343), (988, 0.02593438136278146), (989, 0.020678209436144717), (990, 0.0068521645526154655), (991, 0.05010000581263484), (992, 0.01829586241890485), (993, 0.00834323237603321), (994, 0.02770391578818196), (995, 0.01494998664636998), (996, 0.008801899734669673), (997, 0.06728142465859546), (998, 0.0036224121077496137), (999, 0.03625712834540299), (1000, 0.02909513812158873), (1001, 0.018686859326350846), (1002, 0.023089469137165444), (1003, 0.0), (1004, 0.002864098652296307), (1005, 0.02861333512336938), (1006, 0.06770105214658846), (1007, 0.009930649192512433), (1008, 0.0), (1009, 0.0028347263439056076), (1010, 0.00957820269501277), (1011, 0.041947901896711326), (1012, 0.027743495683865603), (1013, 0.0), (1014, 0.007226709977787175), (1015, 0.029468551400405243), (1016, 0.02319167144542368), (1017, 0.03705704912774596), (1018, 0.019982515603806986), (1019, 0.006064459843631058), (1020, 0.0030656347769288084), (1021, 0.0031828881269607015), (1022, 0.005063649638821336), (1023, 0.010603389589434653), (1024, 0.025065255265045456), (1025, 0.004533111483483311), (1026, 0.0031355672367568963), (1027, 0.003055548129767613), (1028, 0.0), (1029, 0.009627543933850981), (1030, 0.03209457505742523), (1031, 0.0120405228036892), (1032, 0.0030180799385991835), (1033, 0.012814755034221038), (1034, 0.003060096489654259), (1035, 0.09804152911988581), (1036, 0.003013739697695215), (1037, 0.0025993442448288945), (1038, 0.0), (1039, 0.009249209357147507), (1040, 0.0024957473252422567), (1041, 0.012549363784841339), (1042, 0.002668749636781467), (1043, 0.009050863989399045), (1044, 0.04684751841550664), (1045, 0.027673415605757985), (1046, 0.02724311642215659), (1047, 0.023874823704671026), (1048, 0.008606691053690354), (1049, 0.003789014779391261), (1050, 0.01791045479483377), (1051, 0.025377366926800985), (1052, 0.007667591107062224), (1053, 0.02472774189562021), (1054, 0.027527863756513532), (1055, 0.0), (1056, 0.012321256603675168), (1057, 0.018350335967835762), (1058, 0.021851788656003894), (1059, 0.008198459732569286), (1060, 0.01289904569099468), (1061, 0.016050075723730635), (1062, 0.0), (1063, 0.02325234524974182), (1064, 0.025470705033871287), (1065, 0.057737790093427464), (1066, 0.07484630849080191), (1067, 0.0), (1068, 0.02119180944845927), (1069, 0.012155256107850298), (1070, 0.0), (1071, 0.025124077120392538), (1072, 0.003164897936775823), (1073, 0.0), (1074, 0.07487714574669249), (1075, 0.0033661329239414264), (1076, 0.02319798677243364), (1077, 0.008461326300375237), (1078, 0.01750802262915574), (1079, 0.0029384724731451295), (1080, 0.002876606415686075), (1081, 0.0), (1082, 0.00612613911336176), (1083, 0.003324684389298095), (1084, 0.01377653493744654), (1085, 0.0), (1086, 0.0), (1087, 0.013591860502503423), (1088, 0.0027315577098427505), (1089, 0.03475783768811122), (1090, 0.03643783623936952), (1091, 0.018722633010926453), (1092, 0.020058884199886808), (1093, 0.0), (1094, 0.0), (1095, 0.009092070299913609), (1096, 0.03429537131307717), (1097, 0.0), (1098, 0.0026056639093087024), (1099, 0.029696640176666914), (1100, 0.013826873167403421), (1101, 0.022085458865576522), (1102, 0.07372901035411773), (1103, 0.0), (1104, 0.046989201304071304), (1105, 0.010324894385983045), (1106, 0.01441689549875507), (1107, 0.019560442071712012), (1108, 0.006364503110138137), (1109, 0.014824523626993675), (1110, 0.013819644967667079), (1111, 0.12501179406236707), (1112, 0.056705478100752306), (1113, 0.015843010689640443), (1114, 0.007628537279450124), (1115, 0.0649412713191718), (1116, 0.018886994281505594), (1117, 0.0030696799029988234), (1118, 0.014662956320377382), (1119, 0.02244610308073703), (1120, 0.0043369347551096265), (1121, 0.004003339018993903), (1122, 0.009603687807440805), (1123, 0.07288640918668932), (1124, 0.003312825831705507), (1125, 0.048489860910735545), (1126, 0.0), (1127, 0.11679102867887609), (1128, 0.042768268691459346), (1129, 0.016417668123985693), (1130, 0.004984632309526848), (1131, 0.003206067445044948), (1132, 0.06629508813289339), (1133, 0.010840793583398975), (1134, 0.015415435967978805), (1135, 0.005788341127685696), (1136, 0.011720604655377961), (1137, 0.07300644081220532), (1138, 0.03156219418771439), (1139, 0.0), (1140, 0.0088680817880832), (1141, 0.029133238390995592), (1142, 0.0), (1143, 0.0), (1144, 0.0066032184503659885), (1145, 0.004418633006668491), (1146, 0.004918545542697469), (1147, 0.0), (1148, 0.023736940586801876), (1149, 0.0), (1150, 0.012214529536714683), (1151, 0.09165886977297968), (1152, 0.0), (1153, 0.004373453940816293), (1154, 0.005559795749953738), (1155, 0.005275939309373536), (1156, 0.0), (1157, 0.004667408550879959), (1158, 0.0), (1159, 0.01075168920040605), (1160, 0.04489217948085068), (1161, 0.002884464287913581), (1162, 0.050004219560375734), (1163, 0.014034779119896056), (1164, 0.013905894973988607), (1165, 0.0), (1166, 0.0), (1167, 0.0), (1168, 0.00994564947405258), (1169, 0.0037397766655949028), (1170, 0.008291624735178891), (1171, 0.004607908160116643), (1172, 0.0062452213646840326), (1173, 0.03621378582019377), (1174, 0.009643405027266266), (1175, 0.003224800659927127), (1176, 0.00326176675155361), (1177, 0.003010079349840097), (1178, 0.004321315584547796), (1179, 0.014517946302082894), (1180, 0.0), (1181, 0.0), (1182, 0.0032601777120680048), (1183, 0.06143591111038161), (1184, 0.03637840313581045), (1185, 0.030713726046404346), (1186, 0.007272379633369781), (1187, 0.0037542938184213144), (1188, 0.003353901617705355), (1189, 0.0), (1190, 0.0), (1191, 0.04516102566785446), (1192, 0.014007297438604207), (1193, 0.0), (1194, 0.02002090674111555), (1195, 0.01653446012556926), (1196, 0.010793239842184978), (1197, 0.009988955414769478), (1198, 0.0), (1199, 0.028236884117551233), (1200, 0.009874837624714713), (1201, 0.0), (1202, 0.002710413480889348), (1203, 0.0030002143265832346), (1204, 0.0032420526852682437), (1205, 0.0), (1206, 0.007742428678051413), (1207, 0.005959099981384834), (1208, 0.010559210435512903), (1209, 0.0026628100735105378), (1210, 0.06649134606816265), (1211, 0.0), (1212, 0.033259075812279715), (1213, 0.015660899626631922), (1214, 0.05287156184802201), (1215, 0.007089361979554084), (1216, 0.036439231519558496), (1217, 0.0027741302850173713), (1218, 0.015217001783567599), (1219, 0.012612890830292885), (1220, 0.017280954559984307), (1221, 0.0042291404940990665), (1222, 0.0), (1223, 0.008314353937263827), (1224, 0.021945792092238826), (1225, 0.03766778740608056), (1226, 0.02382345824997725), (1227, 0.010853131708489111), (1228, 0.0), (1229, 0.009848049641348772), (1230, 0.0230991835969415), (1231, 0.01708382604776988), (1232, 0.021185692131134477), (1233, 0.0), (1234, 0.02226247814546495), (1235, 0.0), (1236, 0.06221427544580385), (1237, 0.01908427832008597), (1238, 0.005052238796663333), (1239, 0.005040705681988145), (1240, 0.0500549557694172), (1241, 0.016118371364587554), (1242, 0.0), (1243, 0.015335097274210688), (1244, 0.01764018555324787), (1245, 0.0030974182292179842), (1246, 0.029011581197602988), (1247, 0.0030863232102010772), (1248, 0.040135706918267997), (1249, 0.009418814738920053), (1250, 0.0051847286167521316), (1251, 0.0028275973850457148), (1252, 0.027009347615250166), (1253, 0.09056076608212889), (1254, 0.02009478587147127), (1255, 0.013358730411170102), (1256, 0.0), (1257, 0.019320786251599945), (1258, 0.020688624018446334), (1259, 0.09522170437727509), (1260, 0.019887130645073612), (1261, 0.023184144853389887), (1262, 0.011294371133238914), (1263, 0.006151154162804488), (1264, 0.025324401200887615), (1265, 0.018587093001740378), (1266, 0.022637321905989848), (1267, 0.004917518984583865), (1268, 0.0), (1269, 0.006227581683152321), (1270, 0.019286839749183153), (1271, 0.011398683735083775), (1272, 0.0), (1273, 0.04487567061854253), (1274, 0.021072263496523316), (1275, 0.03679368646186111), (1276, 0.0179501604718013), (1277, 0.006193560174039603), (1278, 0.027603043417118667), (1279, 0.004282866905069531), (1280, 0.029821858114787502), (1281, 0.005693252296829588), (1282, 0.02449798116865072), (1283, 0.005485469893183739), (1284, 0.0031105700357979185), (1285, 0.058711440091276615), (1286, 0.003132612702200459), (1287, 0.0), (1288, 0.004628393295979609), (1289, 0.0), (1290, 0.0628197561193794), (1291, 0.009424007318994706), (1292, 0.0450718626489839), (1293, 0.0059954511203882035), (1294, 0.0032803059925149416), (1295, 0.0815969104030203), (1296, 0.005126725495746545), (1297, 0.005091175743400148), (1298, 0.0031777006477020342), (1299, 0.011404592665842291), (1300, 0.0847542093233699), (1301, 0.012685350684036239), (1302, 0.006326462837769183), (1303, 0.03776713604026842), (1304, 0.01337367713730589), (1305, 0.03853587444349772), (1306, 0.009745974660195751), (1307, 0.05339864880463925), (1308, 0.007598701480865879), (1309, 0.005338498885322828), (1310, 0.00562978724652248), (1311, 0.0), (1312, 0.0069894300634794175), (1313, 0.0031487721971380084), (1314, 0.02867798595551061), (1315, 0.0060672722385783796), (1316, 0.009775814462687457), (1317, 0.017033800576041664), (1318, 0.0028497911709618024), (1319, 0.018107319350962527), (1320, 0.018891656280065162), (1321, 0.09630091622106911), (1322, 0.005178333839584919), (1323, 0.0), (1324, 0.05783667316627163), (1325, 0.04633790946091277), (1326, 0.005091991040305985), (1327, 0.0), (1328, 0.02953316778490768), (1329, 0.048453514315550776), (1330, 0.01750098480783046), (1331, 0.0), (1332, 0.019054313615070546), (1333, 0.06916037946348616), (1334, 0.021581766561352522), (1335, 0.04848943953152323), (1336, 0.005341257090561805), (1337, 0.02782017594092255), (1338, 0.031815811252740876), (1339, 0.03389400155126414), (1340, 0.002713675231412684), (1341, 0.12405427612744914), (1342, 0.0), (1343, 0.027240569189622473), (1344, 0.014416186225141943), (1345, 0.0), (1346, 0.011389252702693947), (1347, 0.00491344911968024), (1348, 0.0209624400377494), (1349, 0.009332056919065143), (1350, 0.0723626556916007), (1351, 0.02548355005546145), (1352, 0.012333804800105638), (1353, 0.0), (1354, 0.01513942720550785), (1355, 0.0032722563462928432), (1356, 0.0027045517225230764), (1357, 0.008692995245235808), (1358, 0.03159362120866101), (1359, 0.003433624547791809), (1360, 0.02376361834724948), (1361, 0.02107797980811858), (1362, 0.0), (1363, 0.0), (1364, 0.05380625628658121), (1365, 0.015585159509211386), (1366, 0.008509019943913926), (1367, 0.0026684537826866706), (1368, 0.010926379927668095), (1369, 0.05833662751500902), (1370, 0.0027552256103340203), (1371, 0.01980395963893669), (1372, 0.00299748282092842), (1373, 0.004928196076610905), (1374, 0.011332742354702944), (1375, 0.028561332428952268), (1376, 0.019703486007926468), (1377, 0.026094200070113056), (1378, 0.02494235807057934), (1379, 0.005406504042185422), (1380, 0.011943250833833031), (1381, 0.012995588980362509), (1382, 0.0032982456517496902), (1383, 0.0036070625654763), (1384, 0.05790614710535341), (1385, 0.049090975269764), (1386, 0.006341551860996553), (1387, 0.047917681631882744), (1388, 0.01790574122142347), (1389, 0.0), (1390, 0.005472827655767912), (1391, 0.0334251457201985), (1392, 0.007363804713614517), (1393, 0.052379449786587026), (1394, 0.007337956935186933), (1395, 0.0354288302430045), (1396, 0.01716276716338804), (1397, 0.00276327242193437), (1398, 0.010919852823487513), (1399, 0.0), (1400, 0.0033683092306813272), (1401, 0.011472014089188352), (1402, 0.008684928204769038), (1403, 0.0024550741534447996), (1404, 0.007828996501542678), (1405, 0.0), (1406, 0.023520382242846177), (1407, 0.0), (1408, 0.003112097521794977), (1409, 0.0034185150196520396), (1410, 0.0032295526700162505), (1411, 0.00818432167707005), (1412, 0.03258980462087655), (1413, 0.07443591808253225), (1414, 0.002850693842797092), (1415, 0.0026180209523486374), (1416, 0.023855506178128812), (1417, 0.021279918843592524), (1418, 0.012614885814085527), (1419, 0.024094429400609407), (1420, 0.015198627809688696), (1421, 0.007984438556145031), (1422, 0.008064114095841662), (1423, 0.012477734879069212), (1424, 0.0), (1425, 0.04249228277245969), (1426, 0.005389409930110893), (1427, 0.0026193962084232795), (1428, 0.0), (1429, 0.003841437406026894), (1430, 0.00473001980850668), (1431, 0.005208920723246938), (1432, 0.036384774972236675), (1433, 0.002972813498580494), (1434, 0.0029173956592067956), (1435, 0.0), (1436, 0.030845544867458476), (1437, 0.007068093858032774), (1438, 0.020820444245185955), (1439, 0.030379197276926406), (1440, 0.027682005829085882), (1441, 0.0), (1442, 0.017538450936289664), (1443, 0.08610775507266362), (1444, 0.0), (1445, 0.0), (1446, 0.00793693665320993), (1447, 0.005017440185097648), (1448, 0.0029525755720402015), (1449, 0.0), (1450, 0.0121159611387801), (1451, 0.00955641572634258), (1452, 0.011483279711499853), (1453, 0.008185868264171718), (1454, 0.042009329404894324), (1455, 0.024036509959607648), (1456, 0.007687552965926607), (1457, 0.0), (1458, 0.01447450833693627), (1459, 0.03758106096283507), (1460, 0.08700097320474126), (1461, 0.023171428355435838), (1462, 0.0029308904707607674), (1463, 0.007985468346732858), (1464, 0.010951307214894745), (1465, 0.011590856434459939), (1466, 0.0072716282392464564), (1467, 0.0639314054969819), (1468, 0.010037949696058472), (1469, 0.006457469938744851), (1470, 0.08982419939333891), (1471, 0.02776032217501806), (1472, 0.018670725058501345), (1473, 0.0), (1474, 0.009236539345783123), (1475, 0.0033311504616048626), (1476, 0.014244223696236387), (1477, 0.03147039441046594), (1478, 0.02610518629350197), (1479, 0.0035046785419357352), (1480, 0.010098012128449163), (1481, 0.020347882067400357), (1482, 0.00444639081896103), (1483, 0.0270497102478619), (1484, 0.009978270302494511), (1485, 0.0), (1486, 0.05929653457208424), (1487, 0.009645964005503625), (1488, 0.0032034375641147436), (1489, 0.026906853025693546), (1490, 0.0), (1491, 0.028136447681443775), (1492, 0.038758128278179815), (1493, 0.004904246723724338), (1494, 0.04345672490710649), (1495, 0.010350657761646499), (1496, 0.009560280890256229), (1497, 0.0036468158309929223), (1498, 0.027753238466483844), (1499, 0.01573862787280491), (1500, 0.018235622473821947), (1501, 0.005080476168050637), (1502, 0.011958888054341456), (1503, 0.012121452215809483), (1504, 0.02383526348801649), (1505, 0.0), (1506, 0.03705686020668543), (1507, 0.020415887484790594), (1508, 0.0), (1509, 0.017837313884334124), (1510, 0.04490460165747558), (1511, 0.01229714559800633), (1512, 0.07155532822955986), (1513, 0.028398022269935045), (1514, 0.06641858933814762), (1515, 0.011398345960618231), (1516, 0.009714734511724575), (1517, 0.010129102268291498), (1518, 0.0034414540022628354), (1519, 0.0029548859810070898), (1520, 0.00546070681934394), (1521, 0.004393394921304799), (1522, 0.038554160862032935), (1523, 0.0), (1524, 0.004658872284518787), (1525, 0.0316878295662992), (1526, 0.0048610935354547), (1527, 0.026679732039416607), (1528, 0.002902327776554824), (1529, 0.0), (1530, 0.009274171500359453), (1531, 0.0), (1532, 0.0), (1533, 0.0032413609607463956), (1534, 0.0), (1535, 0.009522607715763754), (1536, 0.025025462756808996), (1537, 0.015545517819425352), (1538, 0.0029004361282702162), (1539, 0.007385245076610659), (1540, 0.10387414589965455), (1541, 0.0), (1542, 0.04566003428695713), (1543, 0.002943971751359331), (1544, 0.033530741959742094), (1545, 0.005981493807747642), (1546, 0.009742262613187728), (1547, 0.010986584924088253), (1548, 0.014334707827018695), (1549, 0.0), (1550, 0.003150880033355243), (1551, 0.04325873777641975), (1552, 0.026776345578164933), (1553, 0.011799144275675973), (1554, 0.006867658452324683), (1555, 0.007710233169653018), (1556, 0.010175588703390042), (1557, 0.0), (1558, 0.029755213389825022), (1559, 0.004402520887350757), (1560, 0.007029060645333977), (1561, 0.0), (1562, 0.0), (1563, 0.0), (1564, 0.011598242593932828), (1565, 0.007079414994901307), (1566, 0.006242649165123985), (1567, 0.021799965328720708), (1568, 0.004642110515535796), (1569, 0.032936587833730206), (1570, 0.009920472610864577), (1571, 0.006847516491246632), (1572, 0.04797698621743815), (1573, 0.10801399472517388), (1574, 0.008357959280950646), (1575, 0.0), (1576, 0.004996187322869623), (1577, 0.022382411680940646), (1578, 0.01680005853730943), (1579, 0.02020781583404116), (1580, 0.0035260062715065563), (1581, 0.050396491447972716), (1582, 0.020183451012059754), (1583, 0.034356900957826134), (1584, 0.013936792281751402), (1585, 0.0182435795462968), (1586, 0.016256072509444625), (1587, 0.03264938781172971), (1588, 0.01135158046409753), (1589, 0.02822506870399783), (1590, 0.0), (1591, 0.07088200234471874), (1592, 0.01658620169812121), (1593, 0.003872431519670368), (1594, 0.014968509083223483), (1595, 0.02362916136499186), (1596, 0.0), (1597, 0.018443602328132167), (1598, 0.003154325763029402), (1599, 0.032456632256104366), (1600, 0.0), (1601, 0.0), (1602, 0.01127192981098961), (1603, 0.0065459253154799436), (1604, 0.0061844640433170485), (1605, 0.0028868095172508218), (1606, 0.010106542223816137), (1607, 0.0), (1608, 0.011800798762389781), (1609, 0.0), (1610, 0.0), (1611, 0.006303718049045949), (1612, 0.0031819547519619453), (1613, 0.005291186287764047), (1614, 0.0), (1615, 0.0), (1616, 0.002808090777500941), (1617, 0.008085707859677018), (1618, 0.0), (1619, 0.008826354103946353), (1620, 0.024414745705151807), (1621, 0.05026112644806531), (1622, 0.0), (1623, 0.0), (1624, 0.0026002519788652597), (1625, 0.002873346516742309), (1626, 0.04519079229992443), (1627, 0.008063440557154493), (1628, 0.0029237788293574626), (1629, 0.0217014632280056), (1630, 0.03687808449390358), (1631, 0.0), (1632, 0.004877268446965467), (1633, 0.02862776138857925), (1634, 0.003167031403787651), (1635, 0.025321009887532792), (1636, 0.032310991023875184), (1637, 0.015081145757312262), (1638, 0.0), (1639, 0.0), (1640, 0.0054942021927570335), (1641, 0.0029631635215727698), (1642, 0.00766540156600948), (1643, 0.03580146906466815), (1644, 0.0), (1645, 0.014027143014826951), (1646, 0.0), (1647, 0.0), (1648, 0.009983988059247401), (1649, 0.036225344343138455), (1650, 0.012397043236288863), (1651, 0.030150183125142525), (1652, 0.08633449639830032), (1653, 0.01415941817139792), (1654, 0.0), (1655, 0.0038869503594691113), (1656, 0.003663500079976476), (1657, 0.015445589375536433), (1658, 0.003537742632036134), (1659, 0.006648600787183726), (1660, 0.008653628318119017), (1661, 0.0), (1662, 0.004741092636775561), (1663, 0.0030103026952989684), (1664, 0.019652398894720292), (1665, 0.025524859853400177), (1666, 0.013183949280237655), (1667, 0.01937542820597888), (1668, 0.009795609944324837), (1669, 0.031790529571666934), (1670, 0.014797826465393632), (1671, 0.03761497904890668), (1672, 0.0029252009437297074), (1673, 0.0), (1674, 0.019447944850864117), (1675, 0.02249597013990274), (1676, 0.0), (1677, 0.0025139475392186076), (1678, 0.042965342964171364), (1679, 0.011023415224947196), (1680, 0.024758485941911847), (1681, 0.03200594578571241), (1682, 0.007772256739633453), (1683, 0.06092361223551969), (1684, 0.0), (1685, 0.0033807861728772817), (1686, 0.0), (1687, 0.03429760877226257), (1688, 0.013632753287141483), (1689, 0.010674100050807277), (1690, 0.0028789476157628576), (1691, 0.011407412072038891), (1692, 0.011204804005133791), (1693, 0.003000211795248363), (1694, 0.015828920130878322), (1695, 0.004117348582679046), (1696, 0.00611662234995249), (1697, 0.011182832969450461), (1698, 0.026959814276203933), (1699, 0.0), (1700, 0.02004986470153031), (1701, 0.03325657166859623), (1702, 0.03212234864105633), (1703, 0.0033061502883957408), (1704, 0.00518541148576751), (1705, 0.02577044578751561), (1706, 0.0032245065392152044), (1707, 0.08232356539323922), (1708, 0.010131558154053812), (1709, 0.026001497986397296), (1710, 0.007845500665038481), (1711, 0.0363846784872023), (1712, 0.0034155634199484726), (1713, 0.007083015533879627), (1714, 0.03025589522378243), (1715, 0.0), (1716, 0.029282639832084466), (1717, 0.0032909132273655404), (1718, 0.005332033025481134), (1719, 0.007474750048956315), (1720, 0.0), (1721, 0.049368181870112514), (1722, 0.0032267930547640374), (1723, 0.05238039522522484), (1724, 0.0), (1725, 0.017634349369626153), (1726, 0.005220013958720269), (1727, 0.02834414557607743), (1728, 0.00481849129589352), (1729, 0.0), (1730, 0.0029132114881341986), (1731, 0.0), (1732, 0.048271686320723456), (1733, 0.009081226296812416), (1734, 0.0065358824200860985), (1735, 0.09170056915134428), (1736, 0.028538597247989496), (1737, 0.0), (1738, 0.051766208812330704), (1739, 0.018903279788683988), (1740, 0.027809145496457386), (1741, 0.026027867165195336), (1742, 0.007831185159886463), (1743, 0.007049824893529864), (1744, 0.003048351574513966), (1745, 0.005338934868396081), (1746, 0.009495101794132573), (1747, 0.002486746950319802), (1748, 0.003741160291058259), (1749, 0.02531230271304017), (1750, 0.0), (1751, 0.011457649032963483), (1752, 0.0), (1753, 0.0), (1754, 0.03512715666290764), (1755, 0.009681279705939605), (1756, 0.015041952998364376), (1757, 0.0), (1758, 0.05767184289526994), (1759, 0.003019207135126288), (1760, 0.012998970094746655), (1761, 0.0), (1762, 0.007388676423186284), (1763, 0.0027363706592048315), (1764, 0.01699547131785325), (1765, 0.003304889706031591), (1766, 0.0), (1767, 0.019933170284750442), (1768, 0.008515387986317572), (1769, 0.0), (1770, 0.0067071256289253775), (1771, 0.0), (1772, 0.03483074141508472), (1773, 0.029354077748827877), (1774, 0.016052351603785476), (1775, 0.0), (1776, 0.01851502534720771), (1777, 0.0), (1778, 0.004738136362695126), (1779, 0.003402035478414924), (1780, 0.002084479909269834), (1781, 0.029133237854375507), (1782, 0.007575101677239586), (1783, 0.0), (1784, 0.024385666076465966), (1785, 0.0), (1786, 0.0), (1787, 0.009635979186900586), (1788, 0.024999322983534203), (1789, 0.06242466375429988), (1790, 0.0), (1791, 0.03645540181047541), (1792, 0.028140281117610258), (1793, 0.007762731099229177), (1794, 0.004654689456214254), (1795, 0.0), (1796, 0.02487327444194572), (1797, 0.030622888244423187), (1798, 0.01558770097947216), (1799, 0.049532841339800515), (1800, 0.0), (1801, 0.0026835341270610704), (1802, 0.028152226309255724), (1803, 0.0), (1804, 0.0051023553374217705), (1805, 0.0034814509252945186), (1806, 0.019463507377179015), (1807, 0.008123942205386632), (1808, 0.007427848041904526), (1809, 0.010234548565913682), (1810, 0.060189375727122824), (1811, 0.003169706896006111), (1812, 0.017531406997128938), (1813, 0.0031022472627740753), (1814, 0.05242132442698824), (1815, 0.027858234547816295), (1816, 0.047663570623048435), (1817, 0.009130232179698923), (1818, 0.015551905311142158), (1819, 0.002976964296553036), (1820, 0.0), (1821, 0.05630467293217723), (1822, 0.009957722091988488), (1823, 0.015184295353259675), (1824, 0.00478161737323336), (1825, 0.03839132638259736), (1826, 0.002889482357764273), (1827, 0.002889545182445594), (1828, 0.03980758761192825), (1829, 0.0), (1830, 0.0028313311515765047), (1831, 0.003159455560775643), (1832, 0.018208040419404395), (1833, 0.002736185322048207), (1834, 0.0), (1835, 0.0), (1836, 0.0), (1837, 0.0), (1838, 0.0), (1839, 0.05503290015931685), (1840, 0.009884796551786477), (1841, 0.023077950602203086), (1842, 0.0), (1843, 0.0036242609595327196), (1844, 0.011927630690554957), (1845, 0.01619114118208828), (1846, 0.006076421174450155), (1847, 0.024847089934416672), (1848, 0.10384284830148693), (1849, 0.0), (1850, 0.013758252148461117), (1851, 0.008622595222858664), (1852, 0.005016363222249951), (1853, 0.028855566318606335), (1854, 0.020072547267153667), (1855, 0.0), (1856, 0.0), (1857, 0.0264377747055311), (1858, 0.04137279039650166), (1859, 0.06202792790685111), (1860, 0.0032861993186547446), (1861, 0.015935636963573287), (1862, 0.0035787215178358354), (1863, 0.018799911137089852), (1864, 0.031889944052485075), (1865, 0.002898847028680993), (1866, 0.0034891344979559756), (1867, 0.0), (1868, 0.0), (1869, 0.0028931178328767205), (1870, 0.005575074188267777), (1871, 0.002543271891242738), (1872, 0.003231896295995481), (1873, 0.0), (1874, 0.022720364874546276), (1875, 0.007605643520637187), (1876, 0.009487234110840136), (1877, 0.007903336182218994), (1878, 0.003034007857664267), (1879, 0.0), (1880, 0.04931648333274215), (1881, 0.023208029846731735), (1882, 0.0031308129202464725), (1883, 0.008956892131289154), (1884, 0.0029866440066675802), (1885, 0.016473573899193714), (1886, 0.01154077858584528), (1887, 0.009385835881954963), (1888, 0.0049970355097119805), (1889, 0.0), (1890, 0.08509714169509637), (1891, 0.003167677996706399), (1892, 0.002901572626817548), (1893, 0.008735590277788448), (1894, 0.006759340212888189), (1895, 0.01066794700694279), (1896, 0.02031163423275434), (1897, 0.025962904943780937), (1898, 0.005832551729146697), (1899, 0.0), (1900, 0.0), (1901, 0.006392716454540463), (1902, 0.0033587005754359216), (1903, 0.004758553558765354), (1904, 0.006596584204108782), (1905, 0.003483727054345689), (1906, 0.01090101196642087), (1907, 0.00891508792069057), (1908, 0.005113950101092372), (1909, 0.003626898762930195), (1910, 0.0264928204183793), (1911, 0.0), (1912, 0.0), (1913, 0.0), (1914, 0.004780801899829206), (1915, 0.009675410608237034), (1916, 0.025233785023150986), (1917, 0.0), (1918, 0.014850823400999929), (1919, 0.012899732856434762), (1920, 0.0029545130500609556), (1921, 0.03201925119025889), (1922, 0.101411721572984), (1923, 0.02334860046137186), (1924, 0.0036505647833189564), (1925, 0.031436200205102884), (1926, 0.0), (1927, 0.0), (1928, 0.005750951892840443), (1929, 0.0030462501212393965), (1930, 0.010982568033082967), (1931, 0.009637904493712102), (1932, 0.0), (1933, 0.010589940849236255), (1934, 0.00842276539966013), (1935, 0.01447883055386959), (1936, 0.0096409761876374), (1937, 0.04115058442569757), (1938, 0.0), (1939, 0.008278062955477878), (1940, 0.035016548044737604), (1941, 0.007465701328341668), (1942, 0.021389212784967516), (1943, 0.002781296484940934), (1944, 0.021821003121418256), (1945, 0.08360085612695842), (1946, 0.09507038608197714), (1947, 0.003709437458406678), (1948, 0.10784102904551422), (1949, 0.024949459691596586), (1950, 0.006765135319977215), (1951, 0.008787344932631651), (1952, 0.005477737275365071), (1953, 0.03966663571607869), (1954, 0.0028305744526322986), (1955, 0.011411710399831103), (1956, 0.0), (1957, 0.008547184374434498), (1958, 0.01819753243322625), (1959, 0.0034565293552942388), (1960, 0.003537923465377707), (1961, 0.016432527168187407), (1962, 0.0), (1963, 0.0), (1964, 0.06417834797642379), (1965, 0.0), (1966, 0.029112260296675168), (1967, 0.061729125444390166), (1968, 0.017051772597508903), (1969, 0.01847732607864184), (1970, 0.018164469082679286), (1971, 0.02741816641692222), (1972, 0.0), (1973, 0.027424344822893944), (1974, 0.0), (1975, 0.031557272012097466), (1976, 0.00696808921662344), (1977, 0.008398726697271038), (1978, 0.0), (1979, 0.0), (1980, 0.0028660502054015016), (1981, 0.02820935480458782), (1982, 0.019691370263775185), (1983, 0.021895628977680676), (1984, 0.004675429046502029), (1985, 0.043664720773484), (1986, 0.022662369714767455), (1987, 0.03142960042606881), (1988, 0.0048205478610021625), (1989, 0.02561175671551762), (1990, 0.004634470022477485), (1991, 0.0), (1992, 0.044645710661099146), (1993, 0.0), (1994, 0.00452612914610575), (1995, 0.003435960586739588), (1996, 0.020916011907776207), (1997, 0.05326448360005411), (1998, 0.07438241468398472), (1999, 0.0), (2000, 0.014707490319445564), (2001, 0.017867914351141406), (2002, 0.0), (2003, 0.004914448448264395), (2004, 0.00300326870372748), (2005, 0.009148194203305574), (2006, 0.0), (2007, 0.0), (2008, 0.003107511843994299), (2009, 0.05515596269725355), (2010, 0.007449411360680606), (2011, 0.05027288541699089), (2012, 0.013023484124427206), (2013, 0.06474841077063957), (2014, 0.016322800192675357), (2015, 0.07084205714706301), (2016, 0.03358135977580232), (2017, 0.010382905049263817), (2018, 0.0428595105432328), (2019, 0.0), (2020, 0.12030090025101267), (2021, 0.01350368091121726), (2022, 0.00806855696981452), (2023, 0.041376704665767115), (2024, 0.03650861706294849), (2025, 0.05864500418365362), (2026, 0.017813940387929682), (2027, 0.03848469257569085), (2028, 0.0685203847024899), (2029, 0.025491471895110605), (2030, 0.0), (2031, 0.02645810793382997), (2032, 0.005961022116162655), (2033, 0.0056738155194179605), (2034, 0.007771631272840716), (2035, 0.0027069991014122634), (2036, 0.00926131406026006), (2037, 0.028455060005383365), (2038, 0.0), (2039, 0.002687867182722539), (2040, 0.03011715171898255), (2041, 0.0), (2042, 0.02165266542441187), (2043, 0.01381939999342778), (2044, 0.018165620674443786), (2045, 0.0147563299900391), (2046, 0.005080574337198386), (2047, 0.011813922234279888), (2048, 0.0032888854055172596), (2049, 0.003522757037802567), (2050, 0.0), (2051, 0.0036304923982741415), (2052, 0.005817207307867657), (2053, 0.060647181701444404), (2054, 0.0), (2055, 0.06872274944053838), (2056, 0.00490194580253828), (2057, 0.01728952903608889), (2058, 0.033535373204081044), (2059, 0.026129592617562477), (2060, 0.0031629567401145605), (2061, 0.01985882630345487), (2062, 0.009851193455964186), (2063, 0.0), (2064, 0.008002110542770125), (2065, 0.05227479017945084), (2066, 0.02707279350663573), (2067, 0.009489758361942274), (2068, 0.013359870649361496), (2069, 0.0031395376728788056), (2070, 0.022333455978447825), (2071, 0.06123737261191883), (2072, 0.008582219081582305), (2073, 0.03651440625928114), (2074, 0.053749713657332804), (2075, 0.01236011794973187), (2076, 0.022021515711627294), (2077, 0.12984707757968444), (2078, 0.025509296433100764), (2079, 0.03579917800101093), (2080, 0.020312494192409734), (2081, 0.006244238786413149), (2082, 0.026107867604869172), (2083, 0.009871820814829008), (2084, 0.039588905556362165), (2085, 0.006498844860559372), (2086, 0.005417848614538604), (2087, 0.01375123836293707), (2088, 0.009883062409854051), (2089, 0.0037547406165347294), (2090, 0.0), (2091, 0.03163547625473512), (2092, 0.0), (2093, 0.06304434146661278), (2094, 0.06392998312266743), (2095, 0.0), (2096, 0.022408337398526438), (2097, 0.0347001327520608), (2098, 0.0), (2099, 0.002986675896312325), (2100, 0.0), (2101, 0.0), (2102, 0.013069898847702398), (2103, 0.01413847550568753), (2104, 0.0034125905670345682), (2105, 0.0034026324571516525), (2106, 0.0), (2107, 0.031083282699087493), (2108, 0.0035466546481313123), (2109, 0.008348807748218898), (2110, 0.026325525635759663), (2111, 0.003130029569772386), (2112, 0.02881862958523926), (2113, 0.07266639018750715), (2114, 0.05650883707238688), (2115, 0.0), (2116, 0.003448743780475066), (2117, 0.009048301918005434), (2118, 0.00632744942294244), (2119, 0.01653850712815706), (2120, 0.0), (2121, 0.013384917225502672), (2122, 0.003225840366531153), (2123, 0.003307447495568342), (2124, 0.013369637722305212), (2125, 0.005704864034683991), (2126, 0.0718257914928454), (2127, 0.012189417002324454), (2128, 0.0050022663790805465), (2129, 0.0029608807830399145), (2130, 0.0), (2131, 0.03319517260318231), (2132, 0.0026695427409744567), (2133, 0.0030223880251941822), (2134, 0.015726194052691947), (2135, 0.0), (2136, 0.01853470165613362), (2137, 0.004528924548740929), (2138, 0.0), (2139, 0.010628496640424397), (2140, 0.0), (2141, 0.0030542164354138), (2142, 0.0037267532299023304), (2143, 0.007918672741818225), (2144, 0.003223173145644785), (2145, 0.009035606519285198), (2146, 0.0027307732597906774), (2147, 0.005399424777099099), (2148, 0.014572648871591926), (2149, 0.0029856156063366407), (2150, 0.0060404222264047545), (2151, 0.003406898709638805), (2152, 0.017645420391691192), (2153, 0.006271734548658632), (2154, 0.026928929872942972), (2155, 0.003251261786998283), (2156, 0.0045296388088297964), (2157, 0.0026868933425681645), (2158, 0.05089043155243296), (2159, 0.0035235656733794865), (2160, 0.009573448443380496), (2161, 0.013588445886159869), (2162, 0.022576703307769022), (2163, 0.0028512106770166765), (2164, 0.006981759904181291), (2165, 0.0), (2166, 0.008883877579196117), (2167, 0.009776298094580489), (2168, 0.00929676769884233), (2169, 0.008335856490131598), (2170, 0.0), (2171, 0.0), (2172, 0.0), (2173, 0.0031465579536737163), (2174, 0.04643100736505074), (2175, 0.014092085255594864), (2176, 0.0035274665749661866), (2177, 0.03592546933174036), (2178, 0.03892350699593512), (2179, 0.0), (2180, 0.01294504731449144), (2181, 0.07682621747434014), (2182, 0.007007364151283967), (2183, 0.0), (2184, 0.022606555648222195), (2185, 0.005587998724360236), (2186, 0.0), (2187, 0.003667334350016049), (2188, 0.024771094158488306), (2189, 0.004485500934275847), (2190, 0.0034443478410557146), (2191, 0.002865707545252267), (2192, 0.003217943884434957), (2193, 0.0083576604710063), (2194, 0.0), (2195, 0.008260480789011367), (2196, 0.02223229453166141), (2197, 0.005275684927494296), (2198, 0.005096607485409579), (2199, 0.07411094356857084), (2200, 0.0), (2201, 0.002972511765900247), (2202, 0.0), (2203, 0.0), (2204, 0.004312210989699298), (2205, 0.13291118317163522), (2206, 0.02300304027845477), (2207, 0.0), (2208, 0.006611140609281922), (2209, 0.0035574218100382186), (2210, 0.05101557558649088), (2211, 0.006939875318349428), (2212, 0.02720205883695087), (2213, 0.021353783673681948), (2214, 0.022858393420253784), (2215, 0.00954946143815124), (2216, 0.020604174464499504), (2217, 0.00653005432055453), (2218, 0.005655276360412378), (2219, 0.0), (2220, 0.014897677049248643), (2221, 0.029211102572226852), (2222, 0.05934201100471166), (2223, 0.003633198506239776), (2224, 0.03552233591123118), (2225, 0.0), (2226, 0.0031245418020955313), (2227, 0.005183158270672293), (2228, 0.023074218224735446), (2229, 0.022975186834673218), (2230, 0.003281632508493394), (2231, 0.02903334017404012), (2232, 0.006093974833549594), (2233, 0.012427618532602526), (2234, 0.0), (2235, 0.018319528259441758), (2236, 0.012131637318274779), (2237, 0.06603761653381393), (2238, 0.0064597742518850195), (2239, 0.020970611082226167), (2240, 0.0028041260453861025), (2241, 0.011776106379583335), (2242, 0.00303722146035875), (2243, 0.00669064073034009), (2244, 0.0), (2245, 0.015406621693253481), (2246, 0.03498151822944548), (2247, 0.025625486414335572), (2248, 0.0028727356230981746), (2249, 0.0), (2250, 0.036894775253973014), (2251, 0.004445987281413037), (2252, 0.030170553621951368), (2253, 0.012946973734614904), (2254, 0.02256024482545869), (2255, 0.0041226076957829655), (2256, 0.009761476645696867), (2257, 0.004114025996538057), (2258, 0.0), (2259, 0.005288219808356563), (2260, 0.0034182605306463244), (2261, 0.0), (2262, 0.004582852590478545), (2263, 0.005459605103282216), (2264, 0.018677511833213478), (2265, 0.002900852397196369), (2266, 0.057469334344817345), (2267, 0.0), (2268, 0.00799889287237605), (2269, 0.003708630448131294), (2270, 0.0027608856967078067), (2271, 0.0), (2272, 0.02936500140079973), (2273, 0.11449933504240153), (2274, 0.02949594141819562), (2275, 0.03259018836662038), (2276, 0.043032826045843964), (2277, 0.014718702625554777), (2278, 0.005160672155634368), (2279, 0.02048418825965708), (2280, 0.01766053584767567), (2281, 0.0), (2282, 0.0), (2283, 0.005420999102638946), (2284, 0.021136947853587124), (2285, 0.021805718152714686), (2286, 0.017967533097273315), (2287, 0.011153815323155913), (2288, 0.003379901652854203), (2289, 0.0031732760211294515), (2290, 0.0), (2291, 0.004358142171889936), (2292, 0.0032544956281273427), (2293, 0.0034830573038950414), (2294, 0.009783286264699105), (2295, 0.021357768253488386), (2296, 0.09055010811153644), (2297, 0.0), (2298, 0.006155282544119777), (2299, 0.04712308971726793), (2300, 0.0), (2301, 0.012229454619284144), (2302, 0.003629416641657778), (2303, 0.0078113394129839826), (2304, 0.019919560902046735), (2305, 0.0), (2306, 0.004042803218042235), (2307, 0.0), (2308, 0.0), (2309, 0.0030524235237900602), (2310, 0.018797998440651588), (2311, 0.024304564979020987), (2312, 0.0), (2313, 0.003244200697784272), (2314, 0.0), (2315, 0.005749370171742654), (2316, 0.02577732060230724), (2317, 0.0076633755120619415), (2318, 0.03784057122927177), (2319, 0.014605684939081286), (2320, 0.015542039013277952), (2321, 0.021599673325024778), (2322, 0.004955168640427859), (2323, 0.0028836077739279172), (2324, 0.008245620135156576), (2325, 0.0), (2326, 0.00399439750701592), (2327, 0.004742757088304024), (2328, 0.0), (2329, 0.02534250567394947), (2330, 0.011973427234478026), (2331, 0.0), (2332, 0.02660671687411722), (2333, 0.0), (2334, 0.02687474836515785), (2335, 0.0), (2336, 0.01772804579963559), (2337, 0.0), (2338, 0.012078865579639332), (2339, 0.005777586391714833), (2340, 0.0032033194140910818), (2341, 0.0), (2342, 0.0), (2343, 0.022933349898977964), (2344, 0.0032020453964324803), (2345, 0.011325685517547816), (2346, 0.023903547961121478), (2347, 0.0029374347213154514), (2348, 0.013242955130935777), (2349, 0.004424321846681262), (2350, 0.004106077783069278), (2351, 0.006071839022488836), (2352, 0.0), (2353, 0.006422175483261331), (2354, 0.029043298591332943), (2355, 0.026686049723452388), (2356, 0.010545091771108043), (2357, 0.0), (2358, 0.0), (2359, 0.0026670601377900473), (2360, 0.0), (2361, 0.01000563284416304), (2362, 0.0029291155649184856), (2363, 0.03602668448072047), (2364, 0.0), (2365, 0.0), (2366, 0.0), (2367, 0.012797395392485715), (2368, 0.0), (2369, 0.0), (2370, 0.030700974742454094), (2371, 0.0), (2372, 0.0), (2373, 0.0), (2374, 0.0032384227907699824), (2375, 0.003510462562905709), (2376, 0.011911628802532798), (2377, 0.004038085759404783), (2378, 0.011101268928657749), (2379, 0.004611568247461537), (2380, 0.0), (2381, 0.05688889666592293), (2382, 0.0027372549689816147), (2383, 0.026758559223575458), (2384, 0.0), (2385, 0.014808248760630012), (2386, 0.0032669247871746267), (2387, 0.014028985154155663), (2388, 0.007846061256660083), (2389, 0.024981116941440534), (2390, 0.015412815796213885), (2391, 0.0034128621754332005), (2392, 0.004172175756772705), (2393, 0.003410060470271965), (2394, 0.0033670068564379653), (2395, 0.0), (2396, 0.003224445391735534), (2397, 0.0032498240860683036), (2398, 0.003840609546493882), (2399, 0.008707436340595568), (2400, 0.003614170787540218), (2401, 0.003105505254602205), (2402, 0.0028938283712107464), (2403, 0.06561860155018559), (2404, 0.07556946944144671), (2405, 0.0033234180424886062), (2406, 0.02469467589927361), (2407, 0.004417034658814273), (2408, 0.0), (2409, 0.004844891403826287), (2410, 0.003505453397084227), (2411, 0.0036182748064839177), (2412, 0.09323544460653788), (2413, 0.02937650975072916), (2414, 0.005127683678205521), (2415, 0.03662528310027971), (2416, 0.008162853252459894), (2417, 0.003741343593236241), (2418, 0.0202951366986312), (2419, 0.003357098065596372), (2420, 0.0), (2421, 0.016252246758630923), (2422, 0.012977540125616582), (2423, 0.004026999299526112), (2424, 0.021813265760717043), (2425, 0.00414135904190907), (2426, 0.00562223870769345), (2427, 0.0353942317951393), (2428, 0.03940462865052667), (2429, 0.022308311578469346), (2430, 0.034616832943773254), (2431, 0.005235463348918226), (2432, 0.03979449158219474), (2433, 0.005462355997232634), (2434, 0.0038200458697389182), (2435, 0.0), (2436, 0.00925687283738398), (2437, 0.003626938012347227), (2438, 0.003957978996400503), (2439, 0.005121188423447051), (2440, 0.006490287884723162), (2441, 0.002587558434126835), (2442, 0.11242430546648632), (2443, 0.0054393607275609185), (2444, 0.02973681245754064), (2445, 0.019098406257234052), (2446, 0.00769258130838013), (2447, 0.022394239390625417), (2448, 0.004173106102913447), (2449, 0.0), (2450, 0.0), (2451, 0.0), (2452, 0.011918758761661616), (2453, 0.0029368560547123035), (2454, 0.028915048357523038), (2455, 0.013789472670138012), (2456, 0.021416618503050953), (2457, 0.0028743978129764907), (2458, 0.0055435758636232825), (2459, 0.011481555379887563), (2460, 0.0), (2461, 0.0030982153326634264), (2462, 0.0), (2463, 0.008141168363359026), (2464, 0.07217642677921246), (2465, 0.03824106343638445), (2466, 0.030263573538025654), (2467, 0.02843112396884368), (2468, 0.028118599025330662), (2469, 0.0025018062965740597), (2470, 0.07921429530781238), (2471, 0.0), (2472, 0.0), (2473, 0.003043202305016313), (2474, 0.01415987217402648), (2475, 0.0034363738731167997), (2476, 0.007092663776820173), (2477, 0.09248434374321386), (2478, 0.016139958446253353), (2479, 0.006965398125537115), (2480, 0.005043194488864113), (2481, 0.006897232848214986), (2482, 0.007634245861404161), (2483, 0.05473057135794718), (2484, 0.004272472852608864), (2485, 0.04597427962990311), (2486, 0.026162899874584266), (2487, 0.059359260892928895), (2488, 0.0039051344938448923), (2489, 0.021425019020681686), (2490, 0.0046055801247277565), (2491, 0.004690056824260225), (2492, 0.013452908680698412), (2493, 0.0068842286085223515), (2494, 0.008929497992095161), (2495, 0.014058316205746959), (2496, 0.00298826122664032), (2497, 0.004698136891456819), (2498, 0.02072274343959152), (2499, 0.006632039782432463), (2500, 0.0), (2501, 0.07654555761519852), (2502, 0.002819274638708434), (2503, 0.005044304642666962), (2504, 0.00496663029042767), (2505, 0.026593275449584668), (2506, 0.0062578945934615325), (2507, 0.015272883149196942), (2508, 0.0), (2509, 0.01098652674127118), (2510, 0.017493684057758405), (2511, 0.005272729440980914), (2512, 0.02087265831850301), (2513, 0.01993880866214734), (2514, 0.05161549712166458), (2515, 0.0), (2516, 0.0), (2517, 0.0), (2518, 0.005742633244530707), (2519, 0.01838961610550807), (2520, 0.02874221653871619), (2521, 0.008120837687749825), (2522, 0.029054191913521227), (2523, 0.0), (2524, 0.01436581027036733), (2525, 0.007798994043249153), (2526, 0.0067765271732116985), (2527, 0.038441842609165264), (2528, 0.002967421779760337), (2529, 0.04277657469132644), (2530, 0.038362690212166), (2531, 0.019954069154824942), (2532, 0.005742798512913721), (2533, 0.0032138529064827236), (2534, 0.013079492998119604), (2535, 0.003541618893447528), (2536, 0.0), (2537, 0.004383470050820491), (2538, 0.0019119078994857595), (2539, 0.058204449423846574), (2540, 0.019344801141925258), (2541, 0.0), (2542, 0.0), (2543, 0.0), (2544, 0.003989937256874309), (2545, 0.0033291151298860894), (2546, 0.03849113746106442), (2547, 0.01491266727459592), (2548, 0.026624242489238784), (2549, 0.006317633275112937), (2550, 0.01760502394296099), (2551, 0.0), (2552, 0.007743442138617471), (2553, 0.013033784322970714), (2554, 0.009516128919096176), (2555, 0.01436060613026176), (2556, 0.002962967393784617), (2557, 0.017437059244398687), (2558, 0.003195824283976829), (2559, 0.012400373991519314), (2560, 0.021974705770453976), (2561, 0.014668016604622778), (2562, 0.007660150846657443), (2563, 0.024011277555503946), (2564, 0.0), (2565, 0.014914479457216533), (2566, 0.011485741583343874), (2567, 0.007402013686263313), (2568, 0.010129553561614508), (2569, 0.0031574404993905307), (2570, 0.0037608905892369867), (2571, 0.008001929204562202), (2572, 0.003026918386218034), (2573, 0.029671936298145914), (2574, 0.0), (2575, 0.01187435007952928), (2576, 0.007056644893011757), (2577, 0.0), (2578, 0.0), (2579, 0.0035817259420548087), (2580, 0.0028536050989600046), (2581, 0.03642976787754786), (2582, 0.010379127137615969), (2583, 0.0), (2584, 0.01982279963187315), (2585, 0.003557175986561117), (2586, 0.01100756396798785), (2587, 0.007349959729373134), (2588, 0.0), (2589, 0.0), (2590, 0.010113456870158589), (2591, 0.002866768217342668), (2592, 0.003537517388814657), (2593, 0.002948142200364381), (2594, 0.0), (2595, 0.07618864686198748), (2596, 0.0), (2597, 0.0), (2598, 0.0030232004872665025), (2599, 0.0), (2600, 0.030362079644139416), (2601, 0.0033324788180966766), (2602, 0.01744425256009367), (2603, 0.006956141050376452), (2604, 0.0225818431340986), (2605, 0.0), (2606, 0.0032174721090883185), (2607, 0.018844331634380124), (2608, 0.004455445760853905), (2609, 0.008834101441868506), (2610, 0.008752915126792313), (2611, 0.00710548639155042), (2612, 0.007998967915089368), (2613, 0.0037644525148517005), (2614, 0.006939248973009758), (2615, 0.004725394699645427), (2616, 0.016046360669708437), (2617, 0.028113980984000617), (2618, 0.0), (2619, 0.003848063070676177), (2620, 0.0), (2621, 0.01829077978484998), (2622, 0.01882519250763428), (2623, 0.003617433647080173), (2624, 0.003496461810777098), (2625, 0.04885379140332424), (2626, 0.0068458320691921325), (2627, 0.013423702392646796), (2628, 0.004183052465616493), (2629, 0.003627308409318381), (2630, 0.011570998620129076), (2631, 0.024536270263811312), (2632, 0.03431146782172366), (2633, 0.02010067120778352), (2634, 0.008814077786689436), (2635, 0.020889635187639873), (2636, 0.014374471287433223), (2637, 0.005461539842541774), (2638, 0.029666751935468486), (2639, 0.0), (2640, 0.015192388543158337), (2641, 0.07640482778784088), (2642, 0.03886481933354846), (2643, 0.004132627517440891), (2644, 0.0), (2645, 0.04163043094858656), (2646, 0.005011958597659981), (2647, 0.014706227299907868), (2648, 0.0), (2649, 0.05487947662657774), (2650, 0.014607497102776012), (2651, 0.02788054950081136), (2652, 0.14658103812269227), (2653, 0.003083521396386666), (2654, 0.004635984775216617), (2655, 0.0042346244211212145), (2656, 0.03904452884187654), (2657, 0.0250505712788703), (2658, 0.0), (2659, 0.008984981484059091), (2660, 0.016608222562290807), (2661, 0.003430273441965662), (2662, 0.04093072890734521), (2663, 0.0), (2664, 0.0034066248137046987), (2665, 0.026301632528205034), (2666, 0.0046762520303950394), (2667, 0.008499664834622894), (2668, 0.038517829151376394), (2669, 0.0), (2670, 0.006676621819359094), (2671, 0.0), (2672, 0.012693021895764002), (2673, 0.01101773670024752), (2674, 0.008683354418658652), (2675, 0.02815198243883777), (2676, 0.007152633651639911), (2677, 0.0), (2678, 0.005204059938339276), (2679, 0.003023707796710497), (2680, 0.0409154759706242), (2681, 0.0), (2682, 0.020701831852794082), (2683, 0.0), (2684, 0.0), (2685, 0.0), (2686, 0.0), (2687, 0.0031437719188072365), (2688, 0.0), (2689, 0.01200465004854501), (2690, 0.05690060856660434), (2691, 0.011781878850664554), (2692, 0.018256088885426406), (2693, 0.0), (2694, 0.004256454462761453), (2695, 0.06813063959383825), (2696, 0.0037145321227439847), (2697, 0.022317607959357767), (2698, 0.02927827925114787), (2699, 0.0), (2700, 0.0), (2701, 0.0), (2702, 0.0331613678337601), (2703, 0.0), (2704, 0.0), (2705, 0.003459921087760943), (2706, 0.01380407864897058), (2707, 0.01107116797149162), (2708, 0.0), (2709, 0.0), (2710, 0.007013436993332229), (2711, 0.06973312594194109), (2712, 0.02045704970935404), (2713, 0.06064661127421178), (2714, 0.11162265015012615), (2715, 0.0), (2716, 0.0030778775849791867), (2717, 0.0), (2718, 0.04452763722315276), (2719, 0.005398382912296122), (2720, 0.017017732790682034), (2721, 0.012216558384517944), (2722, 0.004485799489731993), (2723, 0.0034269988739505674), (2724, 0.01187987029137435), (2725, 0.008857656808654198), (2726, 0.0), (2727, 0.021443069131537127), (2728, 0.0029085420864493677), (2729, 0.017508740447461178), (2730, 0.01959857578388223), (2731, 0.038946253215798435), (2732, 0.010375836529495745), (2733, 0.0), (2734, 0.004043100090567811), (2735, 0.022108982592343934), (2736, 0.02072724269487362), (2737, 0.018164625730273755), (2738, 0.022594857453919797), (2739, 0.02865389631412077), (2740, 0.046756179555839335), (2741, 0.022476906133860462), (2742, 0.0223439519932321), (2743, 0.0027396212206006625), (2744, 0.003311695308273118), (2745, 0.00322531457630987), (2746, 0.003248983005660338), (2747, 0.00276878744948569), (2748, 0.003474733291127196), (2749, 0.06933057022948519), (2750, 0.0), (2751, 0.022821475262895543), (2752, 0.03995454211291166), (2753, 0.012385945816986252), (2754, 0.0065395403478821145), (2755, 0.00875782884182118), (2756, 0.04002029364768002), (2757, 0.004890803824443425), (2758, 0.002713828876030859), (2759, 0.0), (2760, 0.0024525999971861554), (2761, 0.007127274893737712), (2762, 0.01838771341970842), (2763, 0.00993575239401399), (2764, 0.004552461723676039), (2765, 0.012707988871378386), (2766, 0.010608206877224018), (2767, 0.007359402864438047), (2768, 0.0541948240763115), (2769, 0.016594887624405853), (2770, 0.01715907704519197), (2771, 0.027057626274441776), (2772, 0.02404356893178199), (2773, 0.02071615494796426), (2774, 0.041671380655336335), (2775, 0.0043379574084697736), (2776, 0.003441523231788243), (2777, 0.0464277168047489), (2778, 0.011406196386604209), (2779, 0.027697598254000838), (2780, 0.02491817852244951), (2781, 0.0), (2782, 0.015650600818494672), (2783, 0.003215762429328), (2784, 0.07532735773899818), (2785, 0.005824238793155055), (2786, 0.003421920005458625), (2787, 0.016261806819497824), (2788, 0.02967923203977706), (2789, 0.0042283264696613525), (2790, 0.01677125006812843), (2791, 0.0671015323119818), (2792, 0.008774670119672605), (2793, 0.010203884824891325), (2794, 0.0), (2795, 0.04814730737788282), (2796, 0.0036568400757892834), (2797, 0.003911139222714316), (2798, 0.013576043907701344), (2799, 0.0), (2800, 0.003018957816039251), (2801, 0.004363684126131911), (2802, 0.0031245384030035906), (2803, 0.008584458090519055), (2804, 0.0), (2805, 0.00444827951299058), (2806, 0.0), (2807, 0.004990447141261005), (2808, 0.025300526025623944), (2809, 0.012081271330108312), (2810, 0.006990794066611682), (2811, 0.006830795345486808), (2812, 0.007805432266312237), (2813, 0.005097764028001358), (2814, 0.022329709548930612), (2815, 0.15305117426415285), (2816, 0.005263426761086034), (2817, 0.04773324519977739), (2818, 0.007123519015221649), (2819, 0.006607787235494992), (2820, 0.005455855329790653), (2821, 0.0033922652980221133), (2822, 0.005383246336797944), (2823, 0.0), (2824, 0.020215827796044486), (2825, 0.023774081784762688), (2826, 0.05382729316603409), (2827, 0.03621139339717066), (2828, 0.0), (2829, 0.0048736714675435), (2830, 0.0035562890053860556), (2831, 0.0031990747312805683), (2832, 0.05527950900959411), (2833, 0.015891275274015293), (2834, 0.010275299792033763), (2835, 0.0), (2836, 0.0), (2837, 0.0), (2838, 0.004083652794216234), (2839, 0.0), (2840, 0.03933743538517083), (2841, 0.010308807912313284), (2842, 0.009791057707646805), (2843, 0.006926682659850228), (2844, 0.024596180535888423), (2845, 0.0029410865799921254), (2846, 0.003738952886688065), (2847, 0.006158515814520792), (2848, 0.00390039542003881), (2849, 0.022225882091032007), (2850, 0.006199498598004399), (2851, 0.0), (2852, 0.0), (2853, 0.05272120128182045), (2854, 0.016125812810962828), (2855, 0.004313817786589319), (2856, 0.0), (2857, 0.017354937863431782), (2858, 0.01992807385536299), (2859, 0.0078522302583442), (2860, 0.006767591087064274), (2861, 0.004235439681428552), (2862, 0.018272574211801305), (2863, 0.003294706544815702), (2864, 0.0070903101780881), (2865, 0.0), (2866, 0.0), (2867, 0.0243408672768238), (2868, 0.013007695375425711), (2869, 0.013463821641531624), (2870, 0.00433175693499226), (2871, 0.015852165913423102), (2872, 0.003678212473331362), (2873, 0.005777605247813169), (2874, 0.021267695438691076), (2875, 0.0), (2876, 0.002668750412841879), (2877, 0.0), (2878, 0.024817521918763123), (2879, 0.0038915051555467265), (2880, 0.0067228173881781735), (2881, 0.010683533027495902), (2882, 0.027083655451971143), (2883, 0.004324149097685731), (2884, 0.003688718652655284), (2885, 0.0), (2886, 0.04082564550875057), (2887, 0.003237778210519937), (2888, 0.010218204954086466), (2889, 0.004398803035682153), (2890, 0.0035259823876060566), (2891, 0.0), (2892, 0.007861925998313002), (2893, 0.0036236546748488), (2894, 0.00327912108987691), (2895, 0.05519969655257444), (2896, 0.0), (2897, 0.021887722881147147), (2898, 0.018636670468536558), (2899, 0.03315540050137087), (2900, 0.00825598142668863), (2901, 0.004102609257257369), (2902, 0.002350132798931236), (2903, 0.12811583909590346), (2904, 0.003323568197110086), (2905, 0.0), (2906, 0.004478466468635159), (2907, 0.0029635327185446743), (2908, 0.03623396771821361), (2909, 0.0031164219740377856), (2910, 0.031649937744036676), (2911, 0.008619809237759745), (2912, 0.003094085136351822), (2913, 0.03436236217449401), (2914, 0.054264758576971786), (2915, 0.003474910162590408), (2916, 0.0035792069686520277), (2917, 0.002516882979276784), (2918, 0.02318548153922629), (2919, 0.021718395200584127), (2920, 0.01751830558140031), (2921, 0.07257353435027092), (2922, 0.008487242411333527), (2923, 0.004305381210089127), (2924, 0.003705841099744618), (2925, 0.01687969835751262), (2926, 0.0033418005963656524), (2927, 0.0), (2928, 0.0), (2929, 0.023951421690163687), (2930, 0.011944918116441428), (2931, 0.028220546131543907), (2932, 0.027796471970779512), (2933, 0.007033624046663911), (2934, 0.021176687706872418), (2935, 0.005539829479908163), (2936, 0.015915532462668365), (2937, 0.013545460987027677), (2938, 0.035883853015532007), (2939, 0.022204448334590107), (2940, 0.015519515922728587), (2941, 0.0), (2942, 0.0071668753909163215), (2943, 0.009399141685207564), (2944, 0.11088154089795195), (2945, 0.003127894321717566), (2946, 0.0031446880691360355), (2947, 0.006393263879170454), (2948, 0.03133979049172456), (2949, 0.0034142161994134028), (2950, 0.016251913277363497), (2951, 0.011208324644537188), (2952, 0.02374771915555056), (2953, 0.0033822627963077255), (2954, 0.007562460514248567), (2955, 0.00636973150125752), (2956, 0.0), (2957, 0.003909248467821847), (2958, 0.005811138642440231), (2959, 0.006566513947695565), (2960, 0.07250905336785546), (2961, 0.02069384147759037), (2962, 0.032582508892278525), (2963, 0.10037391136834402), (2964, 0.008850462244040238), (2965, 0.013355555543999708), (2966, 0.0038844940730147566), (2967, 0.0), (2968, 0.0), (2969, 0.012042688969393332), (2970, 0.0034059545429792402), (2971, 0.02093984540392844), (2972, 0.0030119808348755754), (2973, 0.0), (2974, 0.0035875779160112475), (2975, 0.011745392192620387), (2976, 0.02236248736234371), (2977, 0.008480316329429489), (2978, 0.019385347070227307), (2979, 0.006776821937973132), (2980, 0.0031338768432866743), (2981, 0.07420388710982763), (2982, 0.0), (2983, 0.0), (2984, 0.024121015735835964), (2985, 0.011151434052639334), (2986, 0.0037796648481529284), (2987, 0.0036889688593513704), (2988, 0.0032956929302031383), (2989, 0.013144127365247268), (2990, 0.008396956065331002), (2991, 0.022017663348885278), (2992, 0.08921679169944936), (2993, 0.0038541626993079366), (2994, 0.017943695554438706), (2995, 0.003028445146118638), (2996, 0.03433254280810433), (2997, 0.0030202469588865846), (2998, 0.045312955297394805), (2999, 0.003177284084850121), (3000, 0.0032716728361687334), (3001, 0.0), (3002, 0.006303611378748388), (3003, 0.015618377309392386), (3004, 0.01731706533545441), (3005, 0.0), (3006, 0.0), (3007, 0.043087628783768185), (3008, 0.012145529927423897), (3009, 0.015212523850644574), (3010, 0.012891955673714853), (3011, 0.004912151115718567), (3012, 0.02357053634742695), (3013, 0.0036046722872804834), (3014, 0.0030165501890199497), (3015, 0.004049190036545037), (3016, 0.003280375086238098), (3017, 0.0), (3018, 0.10998819310248666), (3019, 0.024474006090778235), (3020, 0.0038791885258969215), (3021, 0.0), (3022, 0.04437053386261531), (3023, 0.0), (3024, 0.06145300951344399), (3025, 0.0), (3026, 0.0035303981487683537), (3027, 0.012030437891928772), (3028, 0.05344432994045649), (3029, 0.0), (3030, 0.004328810518695692), (3031, 0.0039033553506004084), (3032, 0.00357669678406327), (3033, 0.005084032820992442), (3034, 0.0), (3035, 0.003041998987602919), (3036, 0.0030380045955051742), (3037, 0.003372926829120771), (3038, 0.0), (3039, 0.005756318990280617), (3040, 0.004462439979929572), (3041, 0.0), (3042, 0.004329570742802182), (3043, 0.08463276986583418), (3044, 0.010282442868844392), (3045, 0.04461526617768029), (3046, 0.008123273592378084), (3047, 0.0), (3048, 0.0), (3049, 0.0), (3050, 0.0029275893074168753), (3051, 0.020055068875129235), (3052, 0.004364588958834822), (3053, 0.0048816179135447845), (3054, 0.0), (3055, 0.0043481302169469434), (3056, 0.002647151531210997), (3057, 0.007769664691654715), (3058, 0.0), (3059, 0.006682368215943598), (3060, 0.0), (3061, 0.0), (3062, 0.010458049720409309), (3063, 0.0), (3064, 0.03284302512024237), (3065, 0.008012381157585267), (3066, 0.004970006150986848), (3067, 0.024621927897076606), (3068, 0.0), (3069, 0.0031204715395164997), (3070, 0.07943042429407662), (3071, 0.007757669058094637), (3072, 0.0037139132324524302), (3073, 0.010037850322465293), (3074, 0.03615448770511427), (3075, 0.0031033908152102736), (3076, 0.04173206180452761), (3077, 0.0), (3078, 0.0), (3079, 0.010012451054581725), (3080, 0.048461475850584065), (3081, 0.0037605536460209015), (3082, 0.0), (3083, 0.004728799154482307), (3084, 0.0033890780584581734), (3085, 0.022990329293121836), (3086, 0.02271101542302026), (3087, 0.0), (3088, 0.0), (3089, 0.0), (3090, 0.0), (3091, 0.0026745988066072877), (3092, 0.0), (3093, 0.0031447249504316746), (3094, 0.003738885442807904), (3095, 0.02257077418695044), (3096, 0.008199862030503427), (3097, 0.09264286008549498), (3098, 0.02386750002890537), (3099, 0.021405891971532014), (3100, 0.0058266204484083185), (3101, 0.003530284528150919), (3102, 0.0), (3103, 0.0053745950768645185), (3104, 0.0), (3105, 0.0), (3106, 0.0), (3107, 0.0), (3108, 0.01718439741276881), (3109, 0.0), (3110, 0.020055582051524173), (3111, 0.03716701237346422), (3112, 0.010143454779396554), (3113, 0.0032591475585807194), (3114, 0.03346352575843882), (3115, 0.04201341783664922), (3116, 0.0035113641238470644), (3117, 0.0), (3118, 0.016544317658400913), (3119, 0.02882205855009802), (3120, 0.01946408528997611), (3121, 0.0047506644373409455), (3122, 0.0828664323271826), (3123, 0.0038976077732138558), (3124, 0.0064760561665562245), (3125, 0.008323228815589383), (3126, 0.005973585892681971), (3127, 0.022196474339263507), (3128, 0.004027996927146517), (3129, 0.02343402163064751), (3130, 0.005690485430470837), (3131, 0.012115782251721328), (3132, 0.006613263207929731), (3133, 0.010644360699354326), (3134, 0.006510307347052321), (3135, 0.04661901333700565), (3136, 0.005817685506395184), (3137, 0.016014947964570942), (3138, 0.0), (3139, 0.004524089707029217), (3140, 0.043807990875355564), (3141, 0.020268662011600554), (3142, 0.031682187835341144), (3143, 0.005793176896321162), (3144, 0.007575209629480671), (3145, 0.006608819793625374), (3146, 0.0035742158178224777), (3147, 0.046328187839306076), (3148, 0.0036178835341164287), (3149, 0.022103052638789332), (3150, 0.008665541489442997), (3151, 0.007889496340499392), (3152, 0.010432690045000078), (3153, 0.0032904302968690944), (3154, 0.10849401610477497), (3155, 0.02116732989984257), (3156, 0.006007788141732248), (3157, 0.0035566535773277276), (3158, 0.02439787296455751), (3159, 0.017400816860482844), (3160, 0.0), (3161, 0.03457897953275081), (3162, 0.0), (3163, 0.03048248804459067), (3164, 0.004307806558252448), (3165, 0.010834572940759582), (3166, 0.01950227463365021), (3167, 0.0028616516504035403), (3168, 0.007023792202426365), (3169, 0.0063945825052017895), (3170, 0.0030399136130581667), (3171, 0.055324857009437886), (3172, 0.013186343522509095), (3173, 0.0031468802528499904), (3174, 0.01448119546851483), (3175, 0.0), (3176, 0.0), (3177, 0.0), (3178, 0.005052103385322938), (3179, 0.0), (3180, 0.0), (3181, 0.07300271404706557), (3182, 0.003255094720386882), (3183, 0.0034991172361515366), (3184, 0.003432089263783286), (3185, 0.009464742349467713), (3186, 0.003623155449894637), (3187, 0.02626988208841726), (3188, 0.0), (3189, 0.0), (3190, 0.0), (3191, 0.006421649476318048), (3192, 0.026586194378910154), (3193, 0.020843523502498525), (3194, 0.0030160462883910243), (3195, 0.03262851698862364), (3196, 0.0035831689854523225), (3197, 0.0), (3198, 0.003300976886997017), (3199, 0.00641376867000343), (3200, 0.00703722403785368), (3201, 0.057505664419118634), (3202, 0.006781926869655382), (3203, 0.013084099096497112), (3204, 0.027776932819856482), (3205, 0.042777752659770706), (3206, 0.011413023926353044), (3207, 0.0), (3208, 0.0), (3209, 0.0), (3210, 0.03845657514654573), (3211, 0.011575339369772265), (3212, 0.0), (3213, 0.0052287037390563494), (3214, 0.003050621830754965), (3215, 0.005216629705837773), (3216, 0.00317981679556931), (3217, 0.0), (3218, 0.008829795805475018), (3219, 0.004175907701776305), (3220, 0.02835676473154321), (3221, 0.024817151461675534), (3222, 0.008482599733438678), (3223, 0.009474632587661985), (3224, 0.003326809029346628), (3225, 0.009666488270787997), (3226, 0.010556420165352052), (3227, 0.02046540531838589), (3228, 0.010051204209058657), (3229, 0.0), (3230, 0.009561841518253233), (3231, 0.0045552879331380355), (3232, 0.021041158269954747), (3233, 0.008520512016895456), (3234, 0.01461332320209426), (3235, 0.003406420920038567), (3236, 0.0), (3237, 0.008180509662991007), (3238, 0.011505332471618453), (3239, 0.017725845122154735), (3240, 0.011091375037661916), (3241, 0.009841103688617545), (3242, 0.003354838132691113), (3243, 0.002992801448931885), (3244, 0.0), (3245, 0.018012967620745526), (3246, 0.03556285932021551), (3247, 0.0056414547394964204), (3248, 0.0035636977540778954), (3249, 0.003996531561933463), (3250, 0.0), (3251, 0.0), (3252, 0.0026625868391925455), (3253, 0.01944784666959121), (3254, 0.002612704684311898), (3255, 0.0), (3256, 0.0), (3257, 0.0038503023841258564), (3258, 0.003474660736127623), (3259, 0.09914178538112092), (3260, 0.008126074679345875), (3261, 0.0), (3262, 0.004111551061578744), (3263, 0.006795368027914952), (3264, 0.0087453456749314), (3265, 0.010484586323493104), (3266, 0.0), (3267, 0.024736082140009375), (3268, 0.0030497980986272768), (3269, 0.03187622549193346), (3270, 0.02204443631359129), (3271, 0.008949038427147888), (3272, 0.0), (3273, 0.003557446065415559), (3274, 0.0036003365413372532), (3275, 0.031862754945861785), (3276, 0.06196273571772617), (3277, 0.005356252714846195), (3278, 0.002905529279832991), (3279, 0.03335615479922162), (3280, 0.02133423373142069), (3281, 0.0), (3282, 0.004143977561757353), (3283, 0.008436154898693617), (3284, 0.05680203435701925), (3285, 0.0024022238311224527), (3286, 0.029088006013912582), (3287, 0.0), (3288, 0.0), (3289, 0.0032747350695345664), (3290, 0.0032884134937008224), (3291, 0.004294069214540815), (3292, 0.0041713377647190466), (3293, 0.034996274873451666), (3294, 0.02345912726172965), (3295, 0.0046292795648774625), (3296, 0.003634346285627181), (3297, 0.03437217659783955), (3298, 0.0030866816990684116), (3299, 0.008229980045555255), (3300, 0.003002871750437719), (3301, 0.0025022681203813236), (3302, 0.003893304431618288), (3303, 0.019484175888588355), (3304, 0.002893396810232247), (3305, 0.0), (3306, 0.046000598720007994), (3307, 0.003711777273886515), (3308, 0.003782988044621346), (3309, 0.0), (3310, 0.006507180551926593), (3311, 0.013134514998038502), (3312, 0.033860216757997975), (3313, 0.0026088066155198837), (3314, 0.0033889642428952993), (3315, 0.0030525111649493306), (3316, 0.006371012267322814), (3317, 0.02555230355418794), (3318, 0.01894779322437705), (3319, 0.0), (3320, 0.004777735155838396), (3321, 0.004706693496688979), (3322, 0.004112524472179406), (3323, 0.03629874729553712), (3324, 0.0), (3325, 0.00570907869733769), (3326, 0.0033843555422359284), (3327, 0.01199174007374783), (3328, 0.020028188758036514), (3329, 0.0029212573728727193), (3330, 0.00825411321930159), (3331, 0.0026636586907205426), (3332, 0.0063123376512181795), (3333, 0.0), (3334, 0.01875765179544712), (3335, 0.00322856171843687), (3336, 0.013069104107070753), (3337, 0.003687001318373181), (3338, 0.0), (3339, 0.005368001941504179), (3340, 0.07047205268014331), (3341, 0.0032043517433791436), (3342, 0.007690820886173085), (3343, 0.01131310214580099), (3344, 0.011353989777839812), (3345, 0.01187758213068154), (3346, 0.0031869092134828585), (3347, 0.0026819465234991977), (3348, 0.0030923822784125147), (3349, 0.0033151704251974568), (3350, 0.0), (3351, 0.02605401823404294), (3352, 0.0030728811924489296), (3353, 0.003322053253296881), (3354, 0.03137927083248668), (3355, 0.0036762054499685348), (3356, 0.003836715980608648), (3357, 0.031029949993723036), (3358, 0.003879340882746052), (3359, 0.003718715402577554), (3360, 0.007356960857380086), (3361, 0.010720069381662312), (3362, 0.006558391866458166), (3363, 0.01753451122042826), (3364, 0.009561193199311221), (3365, 0.10171095506387783), (3366, 0.0), (3367, 0.09155421188496586), (3368, 0.01105637709987367), (3369, 0.002947448079614162), (3370, 0.02040686625507797), (3371, 0.0), (3372, 0.0033559302581692672), (3373, 0.030682999717484075), (3374, 0.03210291573255855), (3375, 0.0), (3376, 0.007072504069972887), (3377, 0.020861949220762805), (3378, 0.005308169302938273), (3379, 0.0031328001969587104), (3380, 0.0028365511207868177), (3381, 0.07091062820522474), (3382, 0.02193729825470585), (3383, 0.007062947548970059), (3384, 0.03417768468467973), (3385, 0.044470326012965265), (3386, 0.008392012233535754), (3387, 0.0), (3388, 0.02522935825897526), (3389, 0.031780756437826393), (3390, 0.0030445438527966664), (3391, 0.007123929813514745), (3392, 0.0021231864751602328), (3393, 0.007123243406834073), (3394, 0.0), (3395, 0.0), (3396, 0.0036857330021610336), (3397, 0.018880322583697668), (3398, 0.0849875856006159), (3399, 0.017887858056826446), (3400, 0.0), (3401, 0.0), (3402, 0.003113854191297005), (3403, 0.04295180093850501), (3404, 0.00634632550099088), (3405, 0.04829316701230392), (3406, 0.0033722831141473992), (3407, 0.024512347303955313), (3408, 0.003695242885073062), (3409, 0.011406110575165065), (3410, 0.006664852086130983), (3411, 0.03074879774809642), (3412, 0.01867327350227866), (3413, 0.0038380616417479666), (3414, 0.01496543948728422), (3415, 0.08624208883563768), (3416, 0.024043231500054284), (3417, 0.003519365255097927), (3418, 0.019079116493391564), (3419, 0.010886032625180996), (3420, 0.014129478856292557), (3421, 0.0022106879968240294), (3422, 0.0), (3423, 0.0036562583981637198), (3424, 0.023554178137252517), (3425, 0.0037024975315304385), (3426, 0.0), (3427, 0.03963097181280473), (3428, 0.0), (3429, 0.004240987182115801), (3430, 0.006893938386378466), (3431, 0.0025660036745439856), (3432, 0.07914917466352883), (3433, 0.0030087687456672734), (3434, 0.003399483114158724), (3435, 0.018960379244106332), (3436, 0.047032174903160036), (3437, 0.022008852864677797), (3438, 0.012089654252265946), (3439, 0.0), (3440, 0.06301892834740706), (3441, 0.00935556682352584), (3442, 0.0), (3443, 0.006152465790362606), (3444, 0.06484231918482143), (3445, 0.036102582014180026), (3446, 0.03599339516787693), (3447, 0.008093146491845116), (3448, 0.045058573549687966), (3449, 0.02697551296490389), (3450, 0.5657194100433999), (3451, 0.006685725621920749), (3452, 0.0029796485216736822), (3453, 0.06928632776358978), (3454, 0.016053593041375762), (3455, 0.0029340035533014473), (3456, 0.013896826571993636), (3457, 0.14604491374080952), (3458, 0.0126443983890157), (3459, 0.010290165359640214), (3460, 0.06459295584612514), (3461, 0.005422320329318238), (3462, 0.0), (3463, 0.11074994291903836), (3464, 0.0308966669803271), (3465, 0.038009577774290176), (3466, 0.03943921569913989), (3467, 0.006317374999987775), (3468, 0.006722595510058157), (3469, 0.02484858153999463), (3470, 0.0752585000109825), (3471, 0.0025406771353851682), (3472, 0.007902460176412687), (3473, 0.0), (3474, 0.026776935150992633), (3475, 0.0), (3476, 0.0), (3477, 0.008212719115478256), (3478, 0.003195410947951471), (3479, 0.00426738218166126), (3480, 0.008908064149040634), (3481, 0.0042812227752087205), (3482, 0.0), (3483, 0.022259440648927466), (3484, 0.013265355531906255), (3485, 0.0), (3486, 0.02859471036753609), (3487, 0.003072275319561099), (3488, 0.0), (3489, 0.05374036818059364), (3490, 0.0), (3491, 0.008314834585318193), (3492, 0.008272127886812105), (3493, 0.003344494708832154), (3494, 0.0), (3495, 0.0), (3496, 0.01509159237235181), (3497, 0.0034913143191068097), (3498, 0.0030530759790518207), (3499, 0.0031391246904469467), (3500, 0.0029645665245156007), (3501, 0.02995435530416682), (3502, 0.019306968298160188), (3503, 0.0030640773577998654), (3504, 0.025009157169817445), (3505, 0.0), (3506, 0.003685401107741194), (3507, 0.030220986265793476), (3508, 0.017545026476400872), (3509, 0.0), (3510, 0.0), (3511, 0.003363598839522048), (3512, 0.004899873050304475), (3513, 0.050016446036515824), (3514, 0.009847778308164943), (3515, 0.011061204134253813), (3516, 0.015791469592943322), (3517, 0.024793489000192466), (3518, 0.01012662322954976), (3519, 0.0), (3520, 0.006314521362092562), (3521, 0.003936585835148616), (3522, 0.017502969079975873), (3523, 0.004580685625396877), (3524, 0.003759568392325577), (3525, 0.005422854512361797), (3526, 0.008476045587683351), (3527, 0.003303066752779132), (3528, 0.005745963604088112), (3529, 0.0), (3530, 0.0), (3531, 0.023342043910178554), (3532, 0.007181726424167105), (3533, 0.0), (3534, 0.005277061285808241), (3535, 0.02111083615129325), (3536, 0.03113878893507556), (3537, 0.0039634110907364305), (3538, 0.006604046405943187), (3539, 0.0), (3540, 0.0037269337737725235), (3541, 0.04598416513800881), (3542, 0.003269374505606744), (3543, 0.0), (3544, 0.0038896248421615414), (3545, 0.0), (3546, 0.006179245078958255), (3547, 0.0), (3548, 0.0026277342089629833), (3549, 0.005260878742945319), (3550, 0.0), (3551, 0.008359206912259443), (3552, 0.005196996235857626), (3553, 0.020836224204202232), (3554, 0.033901681336877675), (3555, 0.00604549797420173), (3556, 0.008434377126795917), (3557, 0.008121862098552545), (3558, 0.0029500381288639897), (3559, 0.02202151325656538), (3560, 0.010598898459384925), (3561, 0.004331695320898679), (3562, 0.004899801491295841), (3563, 0.0075485840778594625), (3564, 0.008314452644156504), (3565, 0.0031624027067009832), (3566, 0.0047783100783994), (3567, 0.07528924990919911), (3568, 0.010860651717427752), (3569, 0.002739656059962904), (3570, 0.017716571384443037), (3571, 0.00326748725899493), (3572, 0.0), (3573, 0.0), (3574, 0.0), (3575, 0.0025814966488631732), (3576, 0.0), (3577, 0.010235576086453115), (3578, 0.006420651356009073), (3579, 0.007069620328295875), (3580, 0.0496833882229395), (3581, 0.0), (3582, 0.0441540955237143), (3583, 0.0), (3584, 0.0), (3585, 0.0), (3586, 0.03137401426687027), (3587, 0.009329785284349211), (3588, 0.007663837359930631), (3589, 0.010018517884022332), (3590, 0.003394317188950941), (3591, 0.006510157760439401), (3592, 0.01350724224481801), (3593, 0.0829273686537306), (3594, 0.005066819112893445), (3595, 0.005967970324265515), (3596, 0.013914290301531178), (3597, 0.15571861970676718), (3598, 0.06446909200142724), (3599, 0.008647760875755982), (3600, 0.0056246152473188055), (3601, 0.0034078469200220615), (3602, 0.006133226639855822), (3603, 0.00635668645726085), (3604, 0.00685114258210512), (3605, 0.005963030396554375), (3606, 0.0032580402372546966), (3607, 0.0), (3608, 0.0020813249033947443), (3609, 0.034036719744731374), (3610, 0.006008033662012259), (3611, 0.003630695761693286), (3612, 0.0261204152794823), (3613, 0.003941318342137944), (3614, 0.0028922840162686828), (3615, 0.030142886427818663), (3616, 0.010299396641836378), (3617, 0.0), (3618, 0.008779149132616838), (3619, 0.009531737087947459), (3620, 0.0038910193553923704), (3621, 0.0037600572752165213), (3622, 0.0), (3623, 0.009730979684288012), (3624, 0.003165793471982351), (3625, 0.0), (3626, 0.0063542591093317564), (3627, 0.002956561624046577), (3628, 0.00682107294536704), (3629, 0.024917937975767596), (3630, 0.0053837175790013), (3631, 0.0), (3632, 0.0), (3633, 0.009111749171535255), (3634, 0.0027016969841596183), (3635, 0.012753552757448189), (3636, 0.003292993484247724), (3637, 0.028288970364176026), (3638, 0.010326171614809237), (3639, 0.028524453152029745), (3640, 0.02344609025663057), (3641, 0.007998890232887138), (3642, 0.041342688629443645), (3643, 0.008413982299849024), (3644, 0.004997888736411565), (3645, 0.020547920424383876), (3646, 0.007831476452342145), (3647, 0.003143866151227008), (3648, 0.0052633300743021826), (3649, 0.0), (3650, 0.005154375948325054), (3651, 0.009474644233369012), (3652, 0.01969906711008088), (3653, 0.0032572870921741123), (3654, 0.020136315487535764), (3655, 0.007207878714250706), (3656, 0.002944871529510634), (3657, 0.00796040458667734), (3658, 0.024497200812838283), (3659, 0.019430598247623443), (3660, 0.026288880400950846), (3661, 0.021836469450347215), (3662, 0.0), (3663, 0.0), (3664, 0.0), (3665, 0.008262608917770357), (3666, 0.02591997226584513), (3667, 0.008775192854825914), (3668, 0.01228999735065685), (3669, 0.002707955977423113), (3670, 0.10256405765767512), (3671, 0.0), (3672, 0.004540599724712591), (3673, 0.0031824622981381744), (3674, 0.0193431647927828), (3675, 0.025060937731557438), (3676, 0.0063034708695735645), (3677, 0.014675173076358823), (3678, 0.008811072142371302), (3679, 0.0), (3680, 0.01066693051102731), (3681, 0.017707510988142904), (3682, 0.0), (3683, 0.0), (3684, 0.06358023733713085), (3685, 0.0), (3686, 0.031233695561184206), (3687, 0.0039910912624329855), (3688, 0.0), (3689, 0.008566789705733584), (3690, 0.016771712927270564), (3691, 0.0030405746788702724), (3692, 0.010156612651037306), (3693, 0.005322064110887523), (3694, 0.02275227779250268), (3695, 0.0), (3696, 0.012892978556871892), (3697, 0.006871808017812257), (3698, 0.06779880772068299), (3699, 0.03256992308487372), (3700, 0.005924852414801605), (3701, 0.008490919384926743), (3702, 0.0), (3703, 0.009310328146416854), (3704, 0.015193507303561504), (3705, 0.002891469340392373), (3706, 0.009205983165600746), (3707, 0.02065793695555857), (3708, 0.02778641591008376), (3709, 0.06252552678430319), (3710, 0.04132324191580769), (3711, 0.025799635699377745), (3712, 0.004818564658314092), (3713, 0.019105343362467095), (3714, 0.00349268180889484), (3715, 0.008048963411887315), (3716, 0.0), (3717, 0.0), (3718, 0.014791075245803103), (3719, 0.0031188928061275643), (3720, 0.010928479002329926), (3721, 0.0), (3722, 0.005230189827091312), (3723, 0.005886695699969812), (3724, 0.012007743983654694), (3725, 0.0029752969195822212), (3726, 0.0), (3727, 0.0031682139902477636), (3728, 0.0034169657294020185), (3729, 0.0037031876991112404), (3730, 0.09564205702798309), (3731, 0.01954202808480699), (3732, 0.0), (3733, 0.0030433209004689108), (3734, 0.008897002702908502), (3735, 0.0), (3736, 0.014331599519238472), (3737, 0.0035680624452478294), (3738, 0.005705377004317107), (3739, 0.00837337411290855), (3740, 0.0), (3741, 0.0397725254092926), (3742, 0.0854277502922348), (3743, 0.016980994444096432), (3744, 0.0340834941771604), (3745, 0.016538849728178116), (3746, 0.0637542827481696), (3747, 0.006588106861142638), (3748, 0.004401307746564631), (3749, 0.003484052134481671), (3750, 0.0), (3751, 0.010988500257227366), (3752, 0.008643167895682573), (3753, 0.0), (3754, 0.0037057445846362474), (3755, 0.002824077534246277), (3756, 0.017196830510284217), (3757, 0.02692851968026184), (3758, 0.0), (3759, 0.0), (3760, 0.0), (3761, 0.0), (3762, 0.018316686060876542), (3763, 0.0037658742070609476), (3764, 0.0), (3765, 0.012986652149858873), (3766, 0.12334139664460743), (3767, 0.002935304863541661), (3768, 0.030831366842697158), (3769, 0.04070129937091477), (3770, 0.003341491750649557), (3771, 0.08982209186432945), (3772, 0.0036363593712797327), (3773, 0.006100735447985273), (3774, 0.0), (3775, 0.03674530000438607), (3776, 0.009698798683949406), (3777, 0.04951143257122061), (3778, 0.019887826638669386), (3779, 0.003858556468501439), (3780, 0.008843222430182367), (3781, 0.015064173316267117), (3782, 0.0066814400008298105), (3783, 0.005883116618946344), (3784, 0.018224255769662065), (3785, 0.0), (3786, 0.030775491043754623), (3787, 0.006828893819617555), (3788, 0.0), (3789, 0.0), (3790, 0.0), (3791, 0.0), (3792, 0.00324956812376428), (3793, 0.0294537614046303), (3794, 0.02279407478749204), (3795, 0.008438122254300788), (3796, 0.0), (3797, 0.0275804591408323), (3798, 0.00647013198800623), (3799, 0.06802995065982345), (3800, 0.0), (3801, 0.028569138997291105), (3802, 0.006830096003588411), (3803, 0.00445068126937776), (3804, 0.0035645066908251374), (3805, 0.0), (3806, 0.0), (3807, 0.027118219566080157), (3808, 0.0), (3809, 0.003273912217742283), (3810, 0.0051834851563470905), (3811, 0.003012348321245438), (3812, 0.0), (3813, 0.0034865148798115192), (3814, 0.0061353269575038175), (3815, 0.0), (3816, 0.011897506451437534), (3817, 0.005658726784328443), (3818, 0.005044675002982035), (3819, 0.024653165781738696), (3820, 0.0), (3821, 0.006945925395439178), (3822, 0.009299587509931508), (3823, 0.009565707378908736), (3824, 0.0), (3825, 0.009185713949564845), (3826, 0.00796241299935411), (3827, 0.00313301856334195), (3828, 0.02658840357905428), (3829, 0.002970317880202953), (3830, 0.0), (3831, 0.005578277886717864), (3832, 0.003900919330691848), (3833, 0.0), (3834, 0.006674046177134351), (3835, 0.0019245006935759744), (3836, 0.0), (3837, 0.0), (3838, 0.0), (3839, 0.0029473383614111778), (3840, 0.006394397139536342), (3841, 0.007427451944044866), (3842, 0.016226802704790898), (3843, 0.0), (3844, 0.0), (3845, 0.0033329615820399156), (3846, 0.006647148989070494), (3847, 0.0), (3848, 0.004053973734424089), (3849, 0.0249957595550173), (3850, 0.006666066105121671), (3851, 0.0), (3852, 0.04985906989699365), (3853, 0.0), (3854, 0.024145555195190044), (3855, 0.007027651304766928), (3856, 0.0), (3857, 0.009199132414241647), (3858, 0.005833301490536517), (3859, 0.0), (3860, 0.0884561492379208), (3861, 0.0), (3862, 0.0284714230297814), (3863, 0.00287138477509996), (3864, 0.0), (3865, 0.004536562593375177), (3866, 0.009546961534159364), (3867, 0.003629993468135539), (3868, 0.007924773423131208), (3869, 0.006837758471252934), (3870, 0.011839159140157969), (3871, 0.0), (3872, 0.037511086544440846), (3873, 0.00341678809820181), (3874, 0.003907457654657542), (3875, 0.010866576873025696), (3876, 0.0029331711087359517), (3877, 0.009221475879919309), (3878, 0.004199746427115737), (3879, 0.0), (3880, 0.00278780384005709), (3881, 0.07424466073997732), (3882, 0.0033630294841898822), (3883, 0.023964369485863123), (3884, 0.016358043030653416), (3885, 0.0), (3886, 0.004885314470866206), (3887, 0.0), (3888, 0.020801684041158442), (3889, 0.003465465518596145), (3890, 0.03399400239732571), (3891, 0.004817269606049761), (3892, 0.004153912610234106), (3893, 0.02696811563545749), (3894, 0.007263773056708936), (3895, 0.0027972339723351352), (3896, 0.0), (3897, 0.0053933861230622895), (3898, 0.0030323238550233112), (3899, 0.00970668007142319), (3900, 0.023025922131704568), (3901, 0.0038536579672910597), (3902, 0.0033247364969829067), (3903, 0.02113999628595547), (3904, 0.015038181368701822), (3905, 0.040807455314787404), (3906, 0.0031438805224781948), (3907, 0.017026816694396707), (3908, 0.006319715359251737), (3909, 0.004746055521217636), (3910, 0.021916406844067222), (3911, 0.0038182399321307525), (3912, 0.0), (3913, 0.023046333690527755), (3914, 0.008905619181023467), (3915, 0.0034707539411350883), (3916, 0.0), (3917, 0.01396747217511515), (3918, 0.0), (3919, 0.008658017698475379), (3920, 0.00857885378546461), (3921, 0.011723327839976596), (3922, 0.003944641959991388), (3923, 0.005731408876731207), (3924, 0.03429398030215165), (3925, 0.004756273001503454), (3926, 0.005095089622594712), (3927, 0.006893778121586444), (3928, 0.00691833003132131), (3929, 0.0), (3930, 0.01651380713345806), (3931, 0.030203051560435408), (3932, 0.005894440996232773), (3933, 0.009683959144640774), (3934, 0.0), (3935, 0.02821633702952732), (3936, 0.0), (3937, 0.016878235027118528), (3938, 0.0), (3939, 0.018725720235807118), (3940, 0.0), (3941, 0.019701217258259986), (3942, 0.0), (3943, 0.02339819334438386), (3944, 0.004100514826842913), (3945, 0.009304688193807994), (3946, 0.04631377680445511), (3947, 0.02781051154889723), (3948, 0.0), (3949, 0.024506977421244705), (3950, 0.0), (3951, 0.009664036956243717), (3952, 0.00366443839900126), (3953, 0.00858273994236947), (3954, 0.0030157564457502597), (3955, 0.08905281631845569), (3956, 0.018738212468555993), (3957, 0.015781459766893827), (3958, 0.005349135939829998), (3959, 0.045508740808323594), (3960, 0.009389576364135552), (3961, 0.02320480401319208), (3962, 0.0035887651270419926), (3963, 0.011239786343957264), (3964, 0.0), (3965, 0.06789612080717432), (3966, 0.02409668546457061), (3967, 0.003532387783103055), (3968, 0.006550322622579381), (3969, 0.005343982945985209), (3970, 0.03838541332756547), (3971, 0.0), (3972, 0.007144406740561682), (3973, 0.0034021286845553832), (3974, 0.0028760506723216604), (3975, 0.04333179316681259), (3976, 0.0), (3977, 0.06615200752277783), (3978, 0.043007082250110885), (3979, 0.0066225272911409), (3980, 0.00908487086421909), (3981, 0.0), (3982, 0.01709750854355692), (3983, 0.006204833311709867), (3984, 0.022109867634258085), (3985, 0.0), (3986, 0.007452084189504302), (3987, 0.003403330040941018), (3988, 0.0), (3989, 0.0), (3990, 0.004410576916439143), (3991, 0.0), (3992, 0.023764501159990636), (3993, 0.022235055979988438), (3994, 0.004943415170180316), (3995, 0.022527204800658465), (3996, 0.0), (3997, 0.006640547108660029), (3998, 0.010910143468710642), (3999, 0.025886584254346652), (4000, 0.03162922056366162), (4001, 0.01643909989292295), (4002, 0.00961857225839908), (4003, 0.0), (4004, 0.02132073549167553), (4005, 0.010079494146219305), (4006, 0.005083919236037769), (4007, 0.03258334967076286), (4008, 0.0), (4009, 0.004700231962188331), (4010, 0.0), (4011, 0.003000968165912577), (4012, 0.020941420333381623), (4013, 0.06577852029649493), (4014, 0.0032331079716931437), (4015, 0.020370005542210544), (4016, 0.014020850840617771), (4017, 0.0043362027754514755), (4018, 0.0), (4019, 0.018225754005655036), (4020, 0.019912474516404134), (4021, 0.029001498003888272), (4022, 0.0), (4023, 0.01660358482186559), (4024, 0.003450710771608277), (4025, 0.013869847263868945), (4026, 0.0), (4027, 0.0), (4028, 0.0), (4029, 0.043890812410536294), (4030, 0.0037401059798807903), (4031, 0.018646536607231833), (4032, 0.021535726196692757), (4033, 0.02875971156757702), (4034, 0.0), (4035, 0.0), (4036, 0.058346551789036465), (4037, 0.0255661176915277), (4038, 0.03879504724344861), (4039, 0.02730034401295777), (4040, 0.06425019035087014), (4041, 0.006309032528194441), (4042, 0.0035292676134649624), (4043, 0.0), (4044, 0.005659666951045298), (4045, 0.03690208288131605), (4046, 0.08384447692318188), (4047, 0.01373165180065186), (4048, 0.02301525163478362), (4049, 0.0032429892998450584), (4050, 0.0), (4051, 0.01568552586515631), (4052, 0.026341380816762617), (4053, 0.01907658354055399), (4054, 0.003388246964848153), (4055, 0.014802485958069067), (4056, 0.009382071692792104), (4057, 0.0045215204174947395), (4058, 0.0), (4059, 0.02806493934225235), (4060, 0.020887230604602035), (4061, 0.01111282276573571), (4062, 0.010031599590981415), (4063, 0.0), (4064, 0.005643112714711608), (4065, 0.0), (4066, 0.0028061752561483505), (4067, 0.0), (4068, 0.03286327994268858), (4069, 0.013580027918581148), (4070, 0.027280648000074244), (4071, 0.01027940718927495), (4072, 0.0), (4073, 0.0), (4074, 0.00745350567372879), (4075, 0.003728515783214387), (4076, 0.041294423013534934), (4077, 0.04910856893355539), (4078, 0.0), (4079, 0.003312495746729879), (4080, 0.002865087793927445), (4081, 0.014137376067927619), (4082, 0.004514068320089582), (4083, 0.003336038391810875), (4084, 0.0), (4085, 0.0030413036742053742), (4086, 0.0), (4087, 0.0034736377521334062), (4088, 0.05406631629376896), (4089, 0.014639128030603243), (4090, 0.02235970184694398), (4091, 0.012443191614593042), (4092, 0.027098348877367458), (4093, 0.02461744249387314), (4094, 0.04411936197036842), (4095, 0.023135375232179362), (4096, 0.015445278496726129), (4097, 0.011897373125225572), (4098, 0.009669288968043118), (4099, 0.011321565324011185), (4100, 0.006515815168495031), (4101, 0.0034876186207900405), (4102, 0.004057187499806109), (4103, 0.006271394753884188), (4104, 0.0028323699081046288), (4105, 0.020011661725504247), (4106, 0.009108502453745145), (4107, 0.01736058717869297), (4108, 0.017848532736976907), (4109, 0.004602779894054972), (4110, 0.009029416614431454), (4111, 0.0034207411715074768), (4112, 0.07435799906687049), (4113, 0.0035491630493213375), (4114, 0.08876282609801989), (4115, 0.014658970190428628), (4116, 0.02972085392705125), (4117, 0.016049290373094754), (4118, 0.030196654318387365), (4119, 0.018240462124942448), (4120, 0.005670217485738439), (4121, 0.03315729363036495), (4122, 0.029887933346636725), (4123, 0.02219812405077079), (4124, 0.024706278449387088), (4125, 0.0), (4126, 0.003718302990050307), (4127, 0.0), (4128, 0.006214862740878288), (4129, 0.003092926600208476), (4130, 0.08525922229273368), (4131, 0.006675070846287488), (4132, 0.03922315111401), (4133, 0.015330385595134846), (4134, 0.0), (4135, 0.008399795334683468), (4136, 0.008627971705231765), (4137, 0.008358341675842724), (4138, 0.0035418763770339885), (4139, 0.0030856606071610047), (4140, 0.0034913514252979966), (4141, 0.0346403744382708), (4142, 0.012060181319981572), (4143, 0.013051888100950888), (4144, 0.0), (4145, 0.042085912981007445), (4146, 0.0), (4147, 0.0038908179460709286), (4148, 0.0239715842049625), (4149, 0.0), (4150, 0.012332375013467794), (4151, 0.0054901419669239815), (4152, 0.12871077537215547), (4153, 0.0056842429565086335), (4154, 0.0028874076950137426), (4155, 0.018291447271813845), (4156, 0.007260099448998836), (4157, 0.004984914722215001), (4158, 0.03942098898835693), (4159, 0.0), (4160, 0.0035826506741178385), (4161, 0.003437622330465682), (4162, 0.0), (4163, 0.0037046968084286755), (4164, 0.026203163413956412), (4165, 0.01644078712971009), (4166, 0.0), (4167, 0.0), (4168, 0.0), (4169, 0.003403787198224464), (4170, 0.0), (4171, 0.005853444220475132), (4172, 0.004224374982325439), (4173, 0.0), (4174, 0.0076232037685174895), (4175, 0.014970824053675478), (4176, 0.007615703790369728), (4177, 0.0), (4178, 0.0940772420000652), (4179, 0.03555458121976415), (4180, 0.011480748339125968), (4181, 0.0188508676484024), (4182, 0.0024242993137790466), (4183, 0.003099231871785962), (4184, 0.0551895240971079), (4185, 0.006994846791732834), (4186, 0.005709906089240299), (4187, 0.10166088170232793), (4188, 0.0169922950669312), (4189, 0.1018858414163834), (4190, 0.030792784592231483), (4191, 0.0), (4192, 0.03021020159690343), (4193, 0.005672612743212328), (4194, 0.006230518655528147), (4195, 0.0), (4196, 0.0800260794993077), (4197, 0.003257537704495252), (4198, 0.014345319976965733), (4199, 0.021215926447270318), (4200, 0.01162428778122393), (4201, 0.018221515747324165), (4202, 0.013190089764287344), (4203, 0.03026580993554856), (4204, 0.0), (4205, 0.016485032653588888), (4206, 0.013354957207348464), (4207, 0.0), (4208, 0.0), (4209, 0.00391558636700691), (4210, 0.011486555522097354), (4211, 0.026491985814776724), (4212, 0.0), (4213, 0.0030384820734435086), (4214, 0.0), (4215, 0.0), (4216, 0.08202497258756375), (4217, 0.004913206390019189), (4218, 0.004975823051387429), (4219, 0.0), (4220, 0.03160634770212574), (4221, 0.012611972822330338), (4222, 0.018855885000688046), (4223, 0.016652670290505864), (4224, 0.006100303244599785), (4225, 0.0033543078847054174), (4226, 0.017438337158359664), (4227, 0.019680843776034847), (4228, 0.029113157651455678), (4229, 0.0), (4230, 0.0040942913570468755), (4231, 0.022426481124396904), (4232, 0.018277011686535838), (4233, 0.025489428425284726), (4234, 0.07169730559515836), (4235, 0.016335082804614123), (4236, 0.036513613412256424), (4237, 0.0), (4238, 0.007278812066758357), (4239, 0.015009470874603045), (4240, 0.005553168768461637), (4241, 0.011199905264969135), (4242, 0.054586029399087056), (4243, 0.0036377166113250176), (4244, 0.05616894814588136), (4245, 0.003433177437581093), (4246, 0.03678590027681255), (4247, 0.002808515645775854), (4248, 0.006200702150622128), (4249, 0.009732933924692051), (4250, 0.0), (4251, 0.0), (4252, 0.004894286367601292), (4253, 0.0), (4254, 0.0030003347730304234), (4255, 0.00956248536893785), (4256, 0.0), (4257, 0.018036527346684747), (4258, 0.0), (4259, 0.0035493561895057345), (4260, 0.0), (4261, 0.017854878885492226), (4262, 0.008598652278740411), (4263, 0.003519448281910544), (4264, 0.006146858407928389), (4265, 0.02963480539488641), (4266, 0.0032243832910264585), (4267, 0.015351497389065945), (4268, 0.03175888650360678), (4269, 0.02053716302366552), (4270, 0.0), (4271, 0.006294442968802764), (4272, 0.01074347183515419), (4273, 0.003269902316595967), (4274, 0.02939415161136949), (4275, 0.0), (4276, 0.05758452770739033), (4277, 0.0029268466876017224), (4278, 0.0), (4279, 0.00486451355088217), (4280, 0.00378698723598279), (4281, 0.005879297229047791), (4282, 0.01698902937961927), (4283, 0.014800835246602669), (4284, 0.008126496748669294), (4285, 0.0073199929098549926), (4286, 0.04264240002332419), (4287, 0.00330125018566533), (4288, 0.024640216951128998), (4289, 0.04878310891976162), (4290, 0.018987884511494038), (4291, 0.0), (4292, 0.004792787109388358), (4293, 0.030420125887186972), (4294, 0.09362213668091257), (4295, 0.0036483048888541775), (4296, 0.002783332425075461), (4297, 0.009323022794392009), (4298, 0.0293768429542487), (4299, 0.0031193886984617384), (4300, 0.0), (4301, 0.04430356884390871), (4302, 0.0), (4303, 0.03920247388905264), (4304, 0.00286790032566594), (4305, 0.0), (4306, 0.0039505464673506175), (4307, 0.0), (4308, 0.0035042126803734716), (4309, 0.0031188085154182778), (4310, 0.00624396009410249), (4311, 0.002596092871036777), (4312, 0.029304539857172296), (4313, 0.0), (4314, 0.0), (4315, 0.0), (4316, 0.0), (4317, 0.0), (4318, 0.003376545166153637), (4319, 0.032494434191232185), (4320, 0.0031872885319448718), (4321, 0.0030421642891462304), (4322, 0.009947313297047544), (4323, 0.011443443578572854), (4324, 0.0), (4325, 0.03239866647753298), (4326, 0.0029296135717995645), (4327, 0.010587750789847927), (4328, 0.08399021516998101), (4329, 0.0), (4330, 0.034574545911249296), (4331, 0.0), (4332, 0.011037624781679571), (4333, 0.003595624801436372), (4334, 0.0033026178482018164), (4335, 0.020306753441008043), (4336, 0.0030864849394589083), (4337, 0.023039956453339946), (4338, 0.017422499932011476), (4339, 0.004646721615666626), (4340, 0.003304862321198094), (4341, 0.08718162548269132), (4342, 0.004687558099545006), (4343, 0.002826386957360309), (4344, 0.01142822242094894), (4345, 0.0192527957534642), (4346, 0.0), (4347, 0.0), (4348, 0.007616609242070278), (4349, 0.0031420767676395584), (4350, 0.00288015559928987), (4351, 0.005455192390527737), (4352, 0.0), (4353, 0.035853061486873936), (4354, 0.0033427328656352585), (4355, 0.0034041812861395873), (4356, 0.0029717534817374947), (4357, 0.0034061724840508656), (4358, 0.0), (4359, 0.012835957231754937), (4360, 0.0), (4361, 0.024912943311639756), (4362, 0.003128792155592395), (4363, 0.008674523014023031), (4364, 0.0), (4365, 0.0), (4366, 0.01603010975092398), (4367, 0.0), (4368, 0.009321332396113734), (4369, 0.016175228443795733), (4370, 0.0), (4371, 0.0034266015232454986), (4372, 0.0), (4373, 0.008524994581981079), (4374, 0.02961372466254808), (4375, 0.0), (4376, 0.011610491864879974), (4377, 0.0), (4378, 0.0), (4379, 0.10966412007561685), (4380, 0.05740359218365319), (4381, 0.0030978188002435524), (4382, 0.0030898424876703067), (4383, 0.0), (4384, 0.0066067164332968865), (4385, 0.0), (4386, 0.002755897592611595), (4387, 0.025459609030084512), (4388, 0.005231188073187221), (4389, 0.033945684868187394), (4390, 0.025008013418745454), (4391, 0.014208560411982393), (4392, 0.006568223717344998), (4393, 0.007036600180268455), (4394, 0.008218651654457928), (4395, 0.008057408556538666), (4396, 0.00357504259346607), (4397, 0.026649734390661123), (4398, 0.0036923620703423706), (4399, 0.012634891202508568), (4400, 0.004073421114209477), (4401, 0.015708306217069413), (4402, 0.007658402545848363), (4403, 0.08223565595589802), (4404, 0.01109950495048245), (4405, 0.0), (4406, 0.016872107574886257), (4407, 0.004179669775117856), (4408, 0.0), (4409, 0.0031765005355786336), (4410, 0.006564364638995987), (4411, 0.03916307495994265), (4412, 0.0037431483411174454), (4413, 0.0), (4414, 0.026561615266804124), (4415, 0.03678339904689501), (4416, 0.0037613026491831124), (4417, 0.0), (4418, 0.0387024903389115), (4419, 0.009833959806963836), (4420, 0.0033693987957020234), (4421, 0.0), (4422, 0.014529113484129686), (4423, 0.004143559239396178), (4424, 0.0), (4425, 0.0), (4426, 0.0), (4427, 0.003191817113284047), (4428, 0.007864490212302145), (4429, 0.008190326787764622), (4430, 0.009876322364701666), (4431, 0.025916145662293506), (4432, 0.008256491817223561), (4433, 0.0), (4434, 0.0), (4435, 0.09255521886508486), (4436, 0.03143577585663588), (4437, 0.0), (4438, 0.004876929675521035), (4439, 0.005732942037257634), (4440, 0.05731337809592639), (4441, 0.004832226763166546), (4442, 0.02532604645075561), (4443, 0.011555687462355543), (4444, 0.019020348354970608), (4445, 0.007081476750493997), (4446, 0.02626796988604882), (4447, 0.005659100089278064), (4448, 0.01999534253670874), (4449, 0.005968706280413898), (4450, 0.02584250610196336), (4451, 0.0), (4452, 0.0), (4453, 0.0069645775303355355), (4454, 0.005868683718455721), (4455, 0.0), (4456, 0.006423792060002992), (4457, 0.0), (4458, 0.0038110148506128086), (4459, 0.009787612806154495), (4460, 0.03554732661815773), (4461, 0.0030761774461416057), (4462, 0.09585309084480548), (4463, 0.0), (4464, 0.0), (4465, 0.04452687399898259), (4466, 0.0), (4467, 0.005254534545286578), (4468, 0.0), (4469, 0.02626753386999614), (4470, 0.0032944276575570934), (4471, 0.00338851278194856), (4472, 0.008006123051103155), (4473, 0.007213359168194145), (4474, 0.03357515073452009), (4475, 0.018905365477479046), (4476, 0.0027343124486596104), (4477, 0.037791799459426734), (4478, 0.0), (4479, 0.0029430087520875893), (4480, 0.029216480658138443), (4481, 0.027853811716579267), (4482, 0.005045308049602875), (4483, 0.037712885348199256), (4484, 0.004260377476234465), (4485, 0.0), (4486, 0.04147805180012506), (4487, 0.0031481482508714568), (4488, 0.0), (4489, 0.0033890238571006605), (4490, 0.011186871195677878), (4491, 0.018608170797382154), (4492, 0.02775505504928314), (4493, 0.006755294619593226), (4494, 0.03329063861819476), (4495, 0.0034226347110525223), (4496, 0.0), (4497, 0.003345435418486902), (4498, 0.0), (4499, 0.0), (4500, 0.0), (4501, 0.0032283508480616956), (4502, 0.019201366800248084), (4503, 0.032623968170154775), (4504, 0.007993682190815934), (4505, 0.0033823255685852278), (4506, 0.0), (4507, 0.003670279431296292), (4508, 0.045389304973926695), (4509, 0.006174397596330346), (4510, 0.04094705632675805), (4511, 0.03391752049793158), (4512, 0.03214909321243274), (4513, 0.0), (4514, 0.0), (4515, 0.017749824870539745), (4516, 0.003664169413293125), (4517, 0.003214731949665696), (4518, 0.0), (4519, 0.021077796412067477), (4520, 0.003163243965838773), (4521, 0.017548938745549917), (4522, 0.0034822704958237718), (4523, 0.007922928879646528), (4524, 0.006070381673289799), (4525, 0.0), (4526, 0.0), (4527, 0.0), (4528, 0.003470210586844169), (4529, 0.004284383397507994), (4530, 0.003125082426642535), (4531, 0.04097658048621217), (4532, 0.0), (4533, 0.0032703204854415214), (4534, 0.006066680748729265), (4535, 0.015736439390716374), (4536, 0.003052866020545015), (4537, 0.0), (4538, 0.0), (4539, 0.0), (4540, 0.003433459551327325), (4541, 0.008308742510566394), (4542, 0.010741153743122213), (4543, 0.023180189436372067), (4544, 0.003986212441226596), (4545, 0.003457925828718052), (4546, 0.004130391581468097), (4547, 0.0), (4548, 0.025174060472820545), (4549, 0.012562718881603378), (4550, 0.014076225758470604), (4551, 0.03452589088866732), (4552, 0.031054894159107786), (4553, 0.07775190234781656), (4554, 0.024990629516239038), (4555, 0.004815936546726327), (4556, 0.0), (4557, 0.048618600885908345), (4558, 0.0), (4559, 0.0), (4560, 0.0), (4561, 0.0), (4562, 0.0), (4563, 0.003276654581819602), (4564, 0.010903973701167146), (4565, 0.0), (4566, 0.003368483882686406), (4567, 0.0030539761435606333), (4568, 0.015339641216991188), (4569, 0.0), (4570, 0.02480464803365675), (4571, 0.022340960402921328), (4572, 0.003921696438676452), (4573, 0.009144544136849186), (4574, 0.0034213868383738935), (4575, 0.003380958590824847), (4576, 0.012985281865311261), (4577, 0.0), (4578, 0.0), (4579, 0.0034442459774690496), (4580, 0.0), (4581, 0.13222694067362414), (4582, 0.0), (4583, 0.0), (4584, 0.003756661895660417), (4585, 0.0), (4586, 0.04047486920658242), (4587, 0.010354375187343473), (4588, 0.0), (4589, 0.02294903509351532), (4590, 0.022730010352729313), (4591, 0.008773243264427723), (4592, 0.005071163417373038), (4593, 0.0035531884294727426), (4594, 0.009755473530656412), (4595, 0.0), (4596, 0.008966922729860114), (4597, 0.0849122996999905), (4598, 0.0025068873713677262), (4599, 0.0), (4600, 0.010363565443107021), (4601, 0.003497511369003451), (4602, 0.09391729843943857), (4603, 0.0029806702854696734), (4604, 0.008327056095888933), (4605, 0.015617110632564976), (4606, 0.011942210044456603), (4607, 0.06116663131058657), (4608, 0.12347543418782808), (4609, 0.006280519322726947), (4610, 0.01764435260052226), (4611, 0.039278815544506164), (4612, 0.01031070506523186), (4613, 0.005385065958933089), (4614, 0.0030521783490685185), (4615, 0.029185206879369277), (4616, 0.0029517686024791295), (4617, 0.02875355932318532), (4618, 0.0), (4619, 0.030078177048211058), (4620, 0.012846014700181426), (4621, 0.0053156664697190355), (4622, 0.0), (4623, 0.017763736061523712), (4624, 0.025411505888852576), (4625, 0.0033178296395332), (4626, 0.007626538772840185), (4627, 0.0027418646601238186), (4628, 0.0), (4629, 0.042081192915118325), (4630, 0.006995078584520516), (4631, 0.007574744532470044), (4632, 0.003767201243691484), (4633, 0.08434271099501009), (4634, 0.03224388771479429), (4635, 0.007235495348909554), (4636, 0.020193331658245918), (4637, 0.024946511537294446), (4638, 0.002914851963822515), (4639, 0.0), (4640, 0.01408556072780784), (4641, 0.0031215251291610902), (4642, 0.007361207565651998), (4643, 0.003286893273715554), (4644, 0.0), (4645, 0.0), (4646, 0.01443881051009737), (4647, 0.010240345017737115), (4648, 0.0), (4649, 0.013334556250583163), (4650, 0.003682505243127951), (4651, 0.0), (4652, 0.010218814171773293), (4653, 0.007626346994365518), (4654, 0.0), (4655, 0.0), (4656, 0.02595073290774216), (4657, 0.003436664599574006), (4658, 0.029992582315582807), (4659, 0.012220530744616261), (4660, 0.010213108891331594), (4661, 0.07547982837634093), (4662, 0.0), (4663, 0.018242751939757208), (4664, 0.0), (4665, 0.0), (4666, 0.008444710763680363), (4667, 0.0), (4668, 0.003148545402240421), (4669, 0.034729944212415306), (4670, 0.02391266288781407), (4671, 0.0), (4672, 0.0), (4673, 0.046501267691378044), (4674, 0.010737753435439638), (4675, 0.0), (4676, 0.006770586444562202), (4677, 0.0032296924228283675), (4678, 0.0), (4679, 0.052652464053906105), (4680, 0.01503240380407486), (4681, 0.0), (4682, 0.015924577650607355), (4683, 0.0), (4684, 0.024558779685632078), (4685, 0.008131386466142157), (4686, 0.03476594486268121), (4687, 0.008098427158944207), (4688, 0.025636580555589848), (4689, 0.02861532527763892), (4690, 0.01603809840413222), (4691, 0.0), (4692, 0.017550156499100824), (4693, 0.003103924033961657), (4694, 0.028135422416814385), (4695, 0.005361026362518352), (4696, 0.03860597125890521), (4697, 0.0), (4698, 0.0075257131297808665), (4699, 0.0036053162520312495), (4700, 0.0), (4701, 0.016756681719835673), (4702, 0.011031981211225648), (4703, 0.01832951574003896), (4704, 0.004365312880466951), (4705, 0.013486807825593545), (4706, 0.0035500600054448306), (4707, 0.019968103664310562), (4708, 0.006189997075811998), (4709, 0.047478559859842145), (4710, 0.004039064566387407), (4711, 0.0), (4712, 0.026137262455220377), (4713, 0.0036990459583258082), (4714, 0.0), (4715, 0.003203647203157658), (4716, 0.017724575911344288), (4717, 0.003773079096663813), (4718, 0.0035837476828109154), (4719, 0.0061887876436401545), (4720, 0.0), (4721, 0.0), (4722, 0.06567506803071227), (4723, 0.011533475624143894), (4724, 0.02591581744605291), (4725, 0.007614493624390443), (4726, 0.0), (4727, 0.025852954091163255), (4728, 0.010982329520670296), (4729, 0.0030693540313527575), (4730, 0.03129737711979926), (4731, 0.0036178701521128974), (4732, 0.009033581656894276), (4733, 0.007870813082310022), (4734, 0.003453245618462301), (4735, 0.024877794016978153), (4736, 0.0), (4737, 0.0), (4738, 0.0), (4739, 0.05559120285597684), (4740, 0.0), (4741, 0.007107958275829792), (4742, 0.006924892711256193), (4743, 0.07248395548049313), (4744, 0.0025903673579683907), (4745, 0.03246937322793043), (4746, 0.0), (4747, 0.04019979043112777), (4748, 0.007173045234311787), (4749, 0.0042883453448040836), (4750, 0.0), (4751, 0.0), (4752, 0.06304614045286096), (4753, 0.003643644623288703), (4754, 0.006142017438208122), (4755, 0.016047843730114728), (4756, 0.0033167089923628467), (4757, 0.030946085247360693), (4758, 0.0), (4759, 0.0)]\n"
          ]
        }
      ]
    },
    {
      "cell_type": "code",
      "source": [
        "len(recommendation_score)"
      ],
      "metadata": {
        "colab": {
          "base_uri": "https://localhost:8080/"
        },
        "id": "5SpvKAlxaGCU",
        "outputId": "49c6cdf8-832d-4d94-a958-f2c7c7a27dda"
      },
      "execution_count": 43,
      "outputs": [
        {
          "output_type": "execute_result",
          "data": {
            "text/plain": [
              "4760"
            ]
          },
          "metadata": {},
          "execution_count": 43
        }
      ]
    },
    {
      "cell_type": "markdown",
      "source": [
        "**Get all movies sorted based on the recommendation score with respective to  the favourite movie**"
      ],
      "metadata": {
        "id": "k2-6bOs0aS-c"
      }
    },
    {
      "cell_type": "code",
      "source": [
        "sorted_similar_movies=sorted(recommendation_score,key=lambda x:x[1],reverse=True)\n",
        "print(sorted_similar_movies)"
      ],
      "metadata": {
        "colab": {
          "base_uri": "https://localhost:8080/"
        },
        "id": "jl0FJRMFakGJ",
        "outputId": "fcaa8963-1db1-4c73-c4cc-9aec1c48e2ff"
      },
      "execution_count": 44,
      "outputs": [
        {
          "output_type": "stream",
          "name": "stdout",
          "text": [
            "[(123, 1.0000000000000002), (3450, 0.5657194100433999), (68, 0.44009343640948084), (443, 0.2546435047031727), (162, 0.22615309751378304), (181, 0.19351097339315135), (122, 0.19241775849781445), (613, 0.17151023869206397), (3597, 0.15571861970676718), (2815, 0.15305117426415285), (2652, 0.14658103812269227), (3457, 0.14604491374080952), (461, 0.14401226956622565), (323, 0.13728599675391295), (2205, 0.13291118317163522), (4581, 0.13222694067362414), (2077, 0.12984707757968444), (4152, 0.12871077537215547), (2903, 0.12811583909590346), (1111, 0.12501179406236707), (1341, 0.12405427612744914), (4608, 0.12347543418782808), (3766, 0.12334139664460743), (144, 0.12187922817451459), (2020, 0.12030090025101267), (1127, 0.11679102867887609), (180, 0.11673258408823167), (842, 0.11635444223703012), (564, 0.11596920322355594), (143, 0.11459335777758148), (2273, 0.11449933504240153), (491, 0.11281154622527853), (2442, 0.11242430546648632), (2714, 0.11162265015012615), (2944, 0.11088154089795195), (3463, 0.11074994291903836), (145, 0.1106505405501603), (3018, 0.10998819310248666), (4379, 0.10966412007561685), (3154, 0.10849401610477497), (1573, 0.10801399472517388), (1948, 0.10784102904551422), (967, 0.10656003526377242), (792, 0.10595369432467786), (179, 0.10433169126869851), (508, 0.10427457150436098), (1540, 0.10387414589965455), (1848, 0.10384284830148693), (3670, 0.10256405765767512), (201, 0.10195939274117663), (4189, 0.1018858414163834), (3365, 0.10171095506387783), (4187, 0.10166088170232793), (1922, 0.101411721572984), (2963, 0.10037391136834402), (10, 0.10018137602560619), (3259, 0.09914178538112092), (1035, 0.09804152911988581), (1321, 0.09630091622106911), (4462, 0.09585309084480548), (3730, 0.09564205702798309), (745, 0.0952324504212726), (1259, 0.09522170437727509), (1946, 0.09507038608197714), (371, 0.09484809586168896), (18, 0.09435643494884513), (4178, 0.0940772420000652), (306, 0.09399339610470331), (4602, 0.09391729843943857), (4294, 0.09362213668091257), (2412, 0.09323544460653788), (3097, 0.09264286008549498), (4435, 0.09255521886508486), (2477, 0.09248434374321386), (1735, 0.09170056915134428), (1151, 0.09165886977297968), (3367, 0.09155421188496586), (669, 0.09145605909853201), (1253, 0.09056076608212889), (2296, 0.09055010811153644), (220, 0.0898466941041829), (1470, 0.08982419939333891), (3771, 0.08982209186432945), (2992, 0.08921679169944936), (571, 0.08914337667771835), (3955, 0.08905281631845569), (350, 0.08903424273184846), (4114, 0.08876282609801989), (3860, 0.0884561492379208), (966, 0.08738453268625297), (4341, 0.08718162548269132), (1460, 0.08700097320474126), (1652, 0.08633449639830032), (3415, 0.08624208883563768), (1443, 0.08610775507266362), (3742, 0.0854277502922348), (4130, 0.08525922229273368), (1890, 0.08509714169509637), (3398, 0.0849875856006159), (4597, 0.0849122996999905), (1300, 0.0847542093233699), (3043, 0.08463276986583418), (4633, 0.08434271099501009), (4328, 0.08399021516998101), (4046, 0.08384447692318188), (1945, 0.08360085612695842), (463, 0.08303470048339105), (3593, 0.0829273686537306), (3122, 0.0828664323271826), (1707, 0.08232356539323922), (4403, 0.08223565595589802), (4216, 0.08202497258756375), (1295, 0.0815969104030203), (913, 0.08117209380462719), (4196, 0.0800260794993077), (3070, 0.07943042429407662), (241, 0.0793612451380854), (2470, 0.07921429530781238), (3432, 0.07914917466352883), (6, 0.0788504770380215), (950, 0.07833573229621492), (494, 0.07816062240044643), (4553, 0.07775190234781656), (581, 0.07713938847448426), (534, 0.07688293100782886), (2181, 0.07682621747434014), (2501, 0.07654555761519852), (2641, 0.07640482778784088), (2595, 0.07618864686198748), (2404, 0.07556946944144671), (863, 0.07553228541706516), (4661, 0.07547982837634093), (2784, 0.07532735773899818), (3567, 0.07528924990919911), (3470, 0.0752585000109825), (1074, 0.07487714574669249), (1066, 0.07484630849080191), (1413, 0.07443591808253225), (1998, 0.07438241468398472), (668, 0.07437276806038366), (4112, 0.07435799906687049), (3881, 0.07424466073997732), (2981, 0.07420388710982763), (2199, 0.07411094356857084), (686, 0.07410268226357732), (517, 0.07387936159100066), (1102, 0.07372901035411773), (30, 0.07344546078508554), (1137, 0.07300644081220532), (3181, 0.07300271404706557), (1123, 0.07288640918668932), (2113, 0.07266639018750715), (2921, 0.07257353435027092), (2960, 0.07250905336785546), (4743, 0.07248395548049313), (1350, 0.0723626556916007), (260, 0.07225525457561162), (2464, 0.07217642677921246), (299, 0.07212379957323636), (184, 0.07201229749666213), (35, 0.07198891315439654), (2126, 0.0718257914928454), (651, 0.07172110973192579), (4234, 0.07169730559515836), (1512, 0.07155532822955986), (3381, 0.07091062820522474), (1591, 0.07088200234471874), (2015, 0.07084205714706301), (173, 0.07084064673126766), (3340, 0.07047205268014331), (497, 0.070251376588152), (425, 0.07022991875615547), (495, 0.07020379938167358), (875, 0.06996187399202021), (2711, 0.06973312594194109), (2749, 0.06933057022948519), (3453, 0.06928632776358978), (1333, 0.06916037946348616), (727, 0.06895933389208708), (2055, 0.06872274944053838), (2028, 0.0685203847024899), (906, 0.06828569837291866), (263, 0.06821162416278274), (2695, 0.06813063959383825), (3799, 0.06802995065982345), (601, 0.06801895487451118), (3965, 0.06789612080717432), (3698, 0.06779880772068299), (578, 0.067733896857567), (1006, 0.06770105214658846), (997, 0.06728142465859546), (2791, 0.0671015323119818), (954, 0.06686065557027382), (1210, 0.06649134606816265), (1514, 0.06641858933814762), (891, 0.06632276487175685), (1132, 0.06629508813289339), (3977, 0.06615200752277783), (2237, 0.06603761653381393), (4013, 0.06577852029649493), (4722, 0.06567506803071227), (2403, 0.06561860155018559), (1115, 0.0649412713191718), (3444, 0.06484231918482143), (2013, 0.06474841077063957), (3460, 0.06459295584612514), (829, 0.06450499534251108), (928, 0.06447584850274433), (3598, 0.06446909200142724), (902, 0.06437616680117059), (4040, 0.06425019035087014), (1964, 0.06417834797642379), (1467, 0.0639314054969819), (2094, 0.06392998312266743), (3746, 0.0637542827481696), (960, 0.06359404398684745), (3684, 0.06358023733713085), (204, 0.06354370803873206), (428, 0.06309770285499408), (4752, 0.06304614045286096), (2093, 0.06304434146661278), (3440, 0.06301892834740706), (1290, 0.0628197561193794), (577, 0.06264095043662556), (3709, 0.06252552678430319), (1789, 0.06242466375429988), (1236, 0.06221427544580385), (1859, 0.06202792790685111), (264, 0.06199186289209038), (3276, 0.06196273571772617), (1967, 0.061729125444390166), (3024, 0.06145300951344399), (1183, 0.06143591111038161), (2071, 0.06123737261191883), (4607, 0.06116663131058657), (934, 0.06115988224173221), (434, 0.06107684951535641), (1683, 0.06092361223551969), (228, 0.06090468841907258), (2053, 0.060647181701444404), (2713, 0.06064661127421178), (1810, 0.060189375727122824), (542, 0.05952812178923944), (2487, 0.059359260892928895), (2222, 0.05934201100471166), (496, 0.05931909543068615), (1486, 0.05929653457208424), (63, 0.059123065713991035), (1285, 0.058711440091276615), (2025, 0.05864500418365362), (4036, 0.058346551789036465), (1369, 0.05833662751500902), (2539, 0.058204449423846574), (1384, 0.05790614710535341), (426, 0.0579037067898064), (1324, 0.05783667316627163), (1065, 0.057737790093427464), (1758, 0.05767184289526994), (4276, 0.05758452770739033), (3201, 0.057505664419118634), (2266, 0.057469334344817345), (4380, 0.05740359218365319), (4440, 0.05731337809592639), (166, 0.057130217708883574), (2690, 0.05690060856660434), (2381, 0.05688889666592293), (3284, 0.05680203435701925), (1112, 0.056705478100752306), (2114, 0.05650883707238688), (1821, 0.05630467293217723), (4244, 0.05616894814588136), (322, 0.05595112912084078), (4739, 0.05559120285597684), (3171, 0.055324857009437886), (2832, 0.05527950900959411), (2895, 0.05519969655257444), (4184, 0.0551895240971079), (2009, 0.05515596269725355), (1839, 0.05503290015931685), (2649, 0.05487947662657774), (305, 0.05480762589186722), (2483, 0.05473057135794718), (290, 0.054618363925568014), (4242, 0.054586029399087056), (105, 0.05447212496565121), (2914, 0.054264758576971786), (2768, 0.0541948240763115), (984, 0.0541551188666153), (4088, 0.05406631629376896), (533, 0.05400073649398639), (2826, 0.05382729316603409), (1364, 0.05380625628658121), (2074, 0.053749713657332804), (328, 0.05374562919558788), (3489, 0.05374036818059364), (422, 0.05362439896570426), (635, 0.05354491684082105), (3028, 0.05344432994045649), (277, 0.05340554477537918), (1307, 0.05339864880463925), (1997, 0.05326448360005411), (1214, 0.05287156184802201), (2853, 0.05272120128182045), (4679, 0.052652464053906105), (1814, 0.05242132442698824), (1723, 0.05238039522522484), (1393, 0.052379449786587026), (2065, 0.05227479017945084), (712, 0.051990429920872744), (1738, 0.051766208812330704), (931, 0.051693260657307644), (385, 0.051633063581602016), (2514, 0.05161549712166458), (2210, 0.05101557558649088), (2158, 0.05089043155243296), (1581, 0.050396491447972716), (2011, 0.05027288541699089), (1621, 0.05026112644806531), (991, 0.05010000581263484), (1240, 0.0500549557694172), (3513, 0.050016446036515824), (1162, 0.050004219560375734), (172, 0.04999548915341913), (3852, 0.04985906989699365), (3580, 0.0496833882229395), (1799, 0.049532841339800515), (795, 0.04951597064898755), (3777, 0.04951143257122061), (570, 0.04944148911926103), (1721, 0.049368181870112514), (1880, 0.04931648333274215), (4077, 0.04910856893355539), (921, 0.049102477833939805), (1385, 0.049090975269764), (2625, 0.04885379140332424), (683, 0.04878343147427194), (4289, 0.04878310891976162), (369, 0.04878153173370437), (4557, 0.048618600885908345), (301, 0.048565711871370876), (1125, 0.048489860910735545), (1335, 0.04848943953152323), (3080, 0.048461475850584065), (1329, 0.048453514315550776), (3405, 0.04829316701230392), (1732, 0.048271686320723456), (2795, 0.04814730737788282), (87, 0.0481104731131589), (1572, 0.04797698621743815), (1387, 0.047917681631882744), (2817, 0.04773324519977739), (1816, 0.047663570623048435), (4709, 0.047478559859842145), (281, 0.047158304723286325), (2299, 0.04712308971726793), (3436, 0.047032174903160036), (1104, 0.046989201304071304), (862, 0.046887690604510764), (1044, 0.04684751841550664), (2740, 0.046756179555839335), (280, 0.04673813547707696), (3135, 0.04661901333700565), (4673, 0.046501267691378044), (2174, 0.04643100736505074), (2777, 0.0464277168047489), (1325, 0.04633790946091277), (295, 0.046337255701648566), (3147, 0.046328187839306076), (3946, 0.04631377680445511), (3306, 0.046000598720007994), (3541, 0.04598416513800881), (2485, 0.04597427962990311), (1542, 0.04566003428695713), (3959, 0.045508740808323594), (381, 0.0454679418923641), (4508, 0.045389304973926695), (2998, 0.045312955297394805), (590, 0.04526007363723128), (1626, 0.04519079229992443), (1191, 0.04516102566785446), (1292, 0.0450718626489839), (3448, 0.045058573549687966), (1510, 0.04490460165747558), (1160, 0.04489217948085068), (1273, 0.04487567061854253), (1992, 0.044645710661099146), (879, 0.04464387130455391), (3045, 0.04461526617768029), (2718, 0.04452763722315276), (4465, 0.04452687399898259), (3385, 0.044470326012965265), (3022, 0.04437053386261531), (96, 0.04431281527977124), (4301, 0.04430356884390871), (3582, 0.0441540955237143), (4094, 0.04411936197036842), (4029, 0.043890812410536294), (3140, 0.043807990875355564), (1985, 0.043664720773484), (1494, 0.04345672490710649), (822, 0.043362002946352535), (3975, 0.04333179316681259), (1551, 0.04325873777641975), (232, 0.0432161313669224), (3007, 0.043087628783768185), (2276, 0.043032826045843964), (3978, 0.043007082250110885), (1678, 0.042965342964171364), (3403, 0.04295180093850501), (2018, 0.0428595105432328), (418, 0.042814922207042916), (3205, 0.042777752659770706), (2529, 0.04277657469132644), (1128, 0.042768268691459346), (4286, 0.04264240002332419), (1425, 0.04249228277245969), (654, 0.04217644440272379), (4145, 0.042085912981007445), (4629, 0.042081192915118325), (3115, 0.04201341783664922), (1454, 0.042009329404894324), (1011, 0.041947901896711326), (3076, 0.04173206180452761), (2774, 0.041671380655336335), (2645, 0.04163043094858656), (4486, 0.04147805180012506), (2023, 0.041376704665767115), (1858, 0.04137279039650166), (3642, 0.041342688629443645), (3710, 0.04132324191580769), (4076, 0.041294423013534934), (1937, 0.04115058442569757), (4531, 0.04097658048621217), (4510, 0.04094705632675805), (2662, 0.04093072890734521), (2680, 0.0409154759706242), (170, 0.040866635417333395), (2886, 0.04082564550875057), (878, 0.040814506150556595), (3905, 0.040807455314787404), (3769, 0.04070129937091477), (368, 0.0405464853338421), (4586, 0.04047486920658242), (547, 0.040366885503807654), (4747, 0.04019979043112777), (1248, 0.040135706918267997), (2756, 0.04002029364768002), (2752, 0.03995454211291166), (289, 0.03994856548489907), (1828, 0.03980758761192825), (2432, 0.03979449158219474), (3741, 0.0397725254092926), (223, 0.03975539446113309), (1953, 0.03966663571607869), (3427, 0.03963097181280473), (2084, 0.039588905556362165), (3466, 0.03943921569913989), (4158, 0.03942098898835693), (2428, 0.03940462865052667), (2840, 0.03933743538517083), (4611, 0.039278815544506164), (4132, 0.03922315111401), (4303, 0.03920247388905264), (4411, 0.03916307495994265), (2656, 0.03904452884187654), (2731, 0.038946253215798435), (2178, 0.03892350699593512), (3, 0.0389226283856849), (2642, 0.03886481933354846), (4038, 0.03879504724344861), (1492, 0.038758128278179815), (109, 0.03873391589688561), (4418, 0.0387024903389115), (4696, 0.03860597125890521), (1522, 0.038554160862032935), (1305, 0.03853587444349772), (441, 0.038519698025654456), (2668, 0.038517829151376394), (2546, 0.03849113746106442), (2027, 0.03848469257569085), (3210, 0.03845657514654573), (2527, 0.038441842609165264), (1825, 0.03839132638259736), (3970, 0.03838541332756547), (2530, 0.038362690212166), (2465, 0.03824106343638445), (3465, 0.038009577774290176), (2318, 0.03784057122927177), (4477, 0.037791799459426734), (1303, 0.03776713604026842), (4483, 0.037712885348199256), (594, 0.03770404834049724), (1225, 0.03766778740608056), (1671, 0.03761497904890668), (1459, 0.03758106096283507), (3872, 0.037511086544440846), (864, 0.03736160647024448), (3111, 0.03716701237346422), (1017, 0.03705704912774596), (1506, 0.03705686020668543), (653, 0.03699632837129075), (685, 0.03697387524474869), (4045, 0.03690208288131605), (2250, 0.036894775253973014), (1630, 0.03687808449390358), (812, 0.03680699628401469), (1275, 0.03679368646186111), (4246, 0.03678590027681255), (4415, 0.03678339904689501), (947, 0.03677340596559004), (231, 0.036755989870714635), (3775, 0.03674530000438607), (948, 0.036706766652776224), (714, 0.036626280266441644), (2415, 0.03662528310027971), (2073, 0.03651440625928114), (4236, 0.036513613412256424), (2024, 0.03650861706294849), (1791, 0.03645540181047541), (1216, 0.036439231519558496), (1090, 0.03643783623936952), (2581, 0.03642976787754786), (733, 0.036392753680306644), (1432, 0.036384774972236675), (1711, 0.0363846784872023), (1184, 0.03637840313581045), (3323, 0.03629874729553712), (999, 0.03625712834540299), (2908, 0.03623396771821361), (1649, 0.036225344343138455), (1173, 0.03621378582019377), (2827, 0.03621139339717066), (849, 0.03617422207256267), (3074, 0.03615448770511427), (3445, 0.036102582014180026), (2363, 0.03602668448072047), (392, 0.03601080085363869), (3446, 0.03599339516787693), (2177, 0.03592546933174036), (2938, 0.035883853015532007), (4353, 0.035853061486873936), (1643, 0.03580146906466815), (2079, 0.03579917800101093), (48, 0.03564273029817747), (3246, 0.03556285932021551), (4179, 0.03555458121976415), (4460, 0.03554732661815773), (2224, 0.03552233591123118), (1395, 0.0354288302430045), (2427, 0.0353942317951393), (1754, 0.03512715666290764), (1940, 0.035016548044737604), (3293, 0.034996274873451666), (2246, 0.03498151822944548), (45, 0.03483221308874042), (1772, 0.03483074141508472), (4686, 0.03476594486268121), (1089, 0.03475783768811122), (4669, 0.034729944212415306), (850, 0.03471633666485237), (2097, 0.0347001327520608), (580, 0.03464653740030811), (4141, 0.0346403744382708), (2430, 0.034616832943773254), (3161, 0.03457897953275081), (4330, 0.034574545911249296), (4551, 0.03452589088866732), (3297, 0.03437217659783955), (2913, 0.03436236217449401), (1583, 0.034356900957826134), (2996, 0.03433254280810433), (904, 0.034317088332374616), (2632, 0.03431146782172366), (1687, 0.03429760877226257), (1096, 0.03429537131307717), (3924, 0.03429398030215165), (3384, 0.03417768468467973), (3744, 0.0340834941771604), (287, 0.03404619733795118), (3609, 0.034036719744731374), (3890, 0.03399400239732571), (4389, 0.033945684868187394), (4511, 0.03391752049793158), (3554, 0.033901681336877675), (1339, 0.03389400155126414), (825, 0.03387735228254093), (3312, 0.033860216757997975), (206, 0.033825893948708385), (178, 0.033672602419998275), (2016, 0.03358135977580232), (4474, 0.03357515073452009), (726, 0.03355848292749195), (2058, 0.033535373204081044), (1544, 0.033530741959742094), (448, 0.033510722554501424), (3114, 0.03346352575843882), (1391, 0.0334251457201985), (500, 0.03338562411877506), (502, 0.033382843294376977), (696, 0.033373226096316266), (3279, 0.03335615479922162), (38, 0.03331588790130346), (4494, 0.03329063861819476), (1212, 0.033259075812279715), (1701, 0.03325657166859623), (2131, 0.03319517260318231), (2702, 0.0331613678337601), (4121, 0.03315729363036495), (2899, 0.03315540050137087), (1569, 0.032936587833730206), (809, 0.032910337408227026), (841, 0.032897562263948736), (4068, 0.03286327994268858), (3064, 0.03284302512024237), (239, 0.0327817900006117), (235, 0.03274870365746291), (790, 0.03273987084298029), (1587, 0.03264938781172971), (3195, 0.03262851698862364), (4503, 0.032623968170154775), (2275, 0.03259018836662038), (1412, 0.03258980462087655), (4007, 0.03258334967076286), (2962, 0.032582508892278525), (3699, 0.03256992308487372), (4319, 0.032494434191232185), (91, 0.03249153726903872), (4745, 0.03246937322793043), (1599, 0.032456632256104366), (207, 0.03240837444223811), (4325, 0.03239866647753298), (1636, 0.032310991023875184), (4634, 0.03224388771479429), (4512, 0.03214909321243274), (142, 0.032144247662239694), (1702, 0.03212234864105633), (3374, 0.03210291573255855), (1030, 0.03209457505742523), (1921, 0.03201925119025889), (1681, 0.03200594578571241), (1864, 0.031889944052485075), (3269, 0.03187622549193346), (3275, 0.031862754945861785), (1338, 0.031815811252740876), (1669, 0.031790529571666934), (3389, 0.031780756437826393), (4268, 0.03175888650360678), (1525, 0.0316878295662992), (3142, 0.031682187835341144), (2910, 0.031649937744036676), (2091, 0.03163547625473512), (4000, 0.03162922056366162), (4220, 0.03160634770212574), (1358, 0.03159362120866101), (1138, 0.03156219418771439), (1975, 0.031557272012097466), (1477, 0.03147039441046594), (1925, 0.031436200205102884), (4436, 0.03143577585663588), (1987, 0.03142960042606881), (3354, 0.03137927083248668), (3586, 0.03137401426687027), (2948, 0.03133979049172456), (131, 0.0313119834469751), (4730, 0.03129737711979926), (3686, 0.031233695561184206), (684, 0.031201983614869148), (3536, 0.03113878893507556), (2107, 0.031083282699087493), (4552, 0.031054894159107786), (722, 0.03104932226571912), (3357, 0.031029949993723036), (4757, 0.030946085247360693), (3464, 0.0308966669803271), (380, 0.03085122819028981), (1436, 0.030845544867458476), (3768, 0.030831366842697158), (4190, 0.030792784592231483), (3786, 0.030775491043754623), (3411, 0.03074879774809642), (1185, 0.030713726046404346), (2370, 0.030700974742454094), (3373, 0.030682999717484075), (1797, 0.030622888244423187), (157, 0.03048545688482174), (3163, 0.03048248804459067), (566, 0.030441080603697972), (4293, 0.030420125887186972), (458, 0.030418155720460208), (1439, 0.030379197276926406), (2600, 0.030362079644139416), (664, 0.030279348274955063), (4203, 0.03026580993554856), (2466, 0.030263573538025654), (1714, 0.03025589522378243), (104, 0.030240186017789345), (3507, 0.030220986265793476), (4192, 0.03021020159690343), (3931, 0.030203051560435408), (4118, 0.030196654318387365), (2252, 0.030170553621951368), (918, 0.030169286409193766), (1651, 0.030150183125142525), (3615, 0.030142886427818663), (2040, 0.03011715171898255), (4619, 0.030078177048211058), (866, 0.03007214368398692), (4658, 0.029992582315582807), (3501, 0.02995435530416682), (4122, 0.029887933346636725), (229, 0.02984210244501532), (1280, 0.029821858114787502), (908, 0.029782075686461115), (1558, 0.029755213389825022), (673, 0.02974905529418043), (2444, 0.02973681245754064), (4116, 0.02972085392705125), (1099, 0.029696640176666914), (2788, 0.02967923203977706), (2573, 0.029671936298145914), (2638, 0.029666751935468486), (4265, 0.02963480539488641), (4374, 0.02961372466254808), (692, 0.02959309835287155), (1328, 0.02953316778490768), (2274, 0.02949594141819562), (1015, 0.029468551400405243), (3793, 0.0294537614046303), (108, 0.029434371471241748), (4274, 0.02939415161136949), (210, 0.029380680389319697), (4298, 0.0293768429542487), (2413, 0.02937650975072916), (2272, 0.02936500140079973), (1773, 0.029354077748827877), (604, 0.02932680482851112), (4312, 0.029304539857172296), (1716, 0.029282639832084466), (2698, 0.02927827925114787), (897, 0.02925334303272011), (560, 0.02924083446258594), (4480, 0.029216480658138443), (2221, 0.029211102572226852), (516, 0.02919220695958906), (4615, 0.029185206879369277), (701, 0.029146465168713078), (1141, 0.029133238390995592), (1781, 0.029133237854375507), (4228, 0.029113157651455678), (1966, 0.029112260296675168), (1000, 0.02909513812158873), (3286, 0.029088006013912582), (2522, 0.029054191913521227), (86, 0.02905036015012361), (2354, 0.029043298591332943), (2231, 0.02903334017404012), (1246, 0.029011581197602988), (4021, 0.029001498003888272), (339, 0.028993108604698926), (757, 0.028983329187745082), (2454, 0.028915048357523038), (1853, 0.028855566318606335), (3119, 0.02882205855009802), (2112, 0.02881862958523926), (4033, 0.02875971156757702), (4617, 0.02875355932318532), (2520, 0.02874221653871619), (663, 0.028695783071248745), (1314, 0.02867798595551061), (2739, 0.02865389631412077), (1633, 0.02862776138857925), (4689, 0.02861532527763892), (1005, 0.02861333512336938), (240, 0.028606547282416482), (3486, 0.02859471036753609), (3801, 0.028569138997291105), (1375, 0.028561332428952268), (1736, 0.028538597247989496), (3639, 0.028524453152029745), (124, 0.028486700438489727), (675, 0.028474366971282344), (3862, 0.0284714230297814), (2037, 0.028455060005383365), (342, 0.028443671502512653), (2467, 0.02843112396884368), (81, 0.028428205280976927), (1513, 0.028398022269935045), (765, 0.028382092168029276), (3220, 0.02835676473154321), (1727, 0.02834414557607743), (320, 0.02829285102658839), (3637, 0.028288970364176026), (1199, 0.028236884117551233), (1589, 0.02822506870399783), (2931, 0.028220546131543907), (3935, 0.02821633702952732), (1981, 0.02820935480458782), (25, 0.02820855044389918), (1802, 0.028152226309255724), (2675, 0.02815198243883777), (1792, 0.028140281117610258), (1491, 0.028136447681443775), (4694, 0.028135422416814385), (2468, 0.028118599025330662), (2617, 0.028113980984000617), (4059, 0.02806493934225235), (915, 0.028052316293517683), (19, 0.027993787800433084), (704, 0.02793714048219394), (753, 0.02789708393513365), (2651, 0.02788054950081136), (1815, 0.027858234547816295), (898, 0.027857624819215002), (4481, 0.027853811716579267), (905, 0.027838899926064156), (1337, 0.02782017594092255), (3947, 0.02781051154889723), (1740, 0.027809145496457386), (2932, 0.027796471970779512), (744, 0.02779024960478394), (3708, 0.02778641591008376), (275, 0.027783472403598776), (3204, 0.027776932819856482), (1471, 0.02776032217501806), (4492, 0.02775505504928314), (1498, 0.027753238466483844), (1012, 0.027743495683865603), (994, 0.02770391578818196), (2779, 0.027697598254000838), (1440, 0.027682005829085882), (1045, 0.027673415605757985), (1278, 0.027603043417118667), (941, 0.02760004777540756), (3797, 0.0275804591408323), (483, 0.02756827771054717), (530, 0.027564496353280996), (1054, 0.027527863756513532), (367, 0.027486527878048055), (1973, 0.027424344822893944), (1971, 0.02741816641692222), (39, 0.027387582610123397), (73, 0.02737025926603784), (4039, 0.02730034401295777), (4070, 0.027280648000074244), (1046, 0.02724311642215659), (1343, 0.027240569189622473), (986, 0.027240347337706788), (2212, 0.02720205883695087), (3807, 0.027118219566080157), (4092, 0.027098348877367458), (2882, 0.027083655451971143), (417, 0.027079051802394186), (2066, 0.02707279350663573), (216, 0.027069631536990654), (682, 0.027066072723698195), (2771, 0.027057626274441776), (1483, 0.0270497102478619), (271, 0.02701641599414893), (1252, 0.027009347615250166), (139, 0.027001228237615648), (40, 0.026995821446357607), (3449, 0.02697551296490389), (3893, 0.02696811563545749), (1698, 0.026959814276203933), (2154, 0.026928929872942972), (3757, 0.02692851968026184), (1489, 0.026906853025693546), (874, 0.026903835670821375), (2334, 0.02687474836515785), (3474, 0.026776935150992633), (1552, 0.026776345578164933), (2383, 0.026758559223575458), (251, 0.026739306441690532), (2355, 0.026686049723452388), (1527, 0.026679732039416607), (4397, 0.026649734390661123), (2548, 0.026624242489238784), (2332, 0.02660671687411722), (2505, 0.026593275449584668), (3828, 0.02658840357905428), (3192, 0.026586194378910154), (4414, 0.026561615266804124), (1910, 0.0264928204183793), (4211, 0.026491985814776724), (2031, 0.02645810793382997), (148, 0.026455003546945383), (1857, 0.0264377747055311), (209, 0.026346958198913077), (4052, 0.026341380816762617), (958, 0.026336471357871094), (2110, 0.026325525635759663), (2665, 0.026301632528205034), (3660, 0.026288880400950846), (3187, 0.02626988208841726), (4446, 0.02626796988604882), (4469, 0.02626753386999614), (4164, 0.026203163413956412), (433, 0.026183452488899847), (2486, 0.026162899874584266), (76, 0.02615645999157227), (4712, 0.026137262455220377), (2059, 0.026129592617562477), (3612, 0.0261204152794823), (2082, 0.026107867604869172), (1478, 0.02610518629350197), (1377, 0.026094200070113056), (3351, 0.02605401823404294), (1741, 0.026027867165195336), (1709, 0.026001497986397296), (1897, 0.025962904943780937), (316, 0.02595564142038058), (4656, 0.02595073290774216), (988, 0.02593438136278146), (3666, 0.02591997226584513), (4431, 0.025916145662293506), (4724, 0.02591581744605291), (3999, 0.025886584254346652), (894, 0.02586515280811903), (4727, 0.025852954091163255), (4450, 0.02584250610196336), (980, 0.025800485570903642), (3711, 0.025799635699377745), (2316, 0.02577732060230724), (1705, 0.02577044578751561), (486, 0.025751237322203076), (4688, 0.025636580555589848), (2247, 0.025625486414335572), (1989, 0.02561175671551762), (4037, 0.0255661176915277), (3317, 0.02555230355418794), (870, 0.025531263278650792), (1665, 0.025524859853400177), (2078, 0.025509296433100764), (2029, 0.025491471895110605), (4233, 0.025489428425284726), (1351, 0.02548355005546145), (1064, 0.025470705033871287), (4387, 0.025459609030084512), (4624, 0.025411505888852576), (1051, 0.025377366926800985), (2329, 0.02534250567394947), (4442, 0.02532604645075561), (1264, 0.025324401200887615), (1635, 0.025321009887532792), (193, 0.025317492897681232), (1749, 0.02531230271304017), (643, 0.02530170805199683), (2808, 0.025300526025623944), (568, 0.025297336923782655), (574, 0.025265383919802185), (1916, 0.025233785023150986), (3388, 0.02522935825897526), (772, 0.025204701224546218), (4548, 0.025174060472820545), (112, 0.025137407286425193), (1071, 0.025124077120392538), (810, 0.025090426626402214), (1024, 0.025065255265045456), (3675, 0.025060937731557438), (2657, 0.0250505712788703), (1536, 0.025025462756808996), (3504, 0.025009157169817445), (4390, 0.025008013418745454), (1788, 0.024999322983534203), (3849, 0.0249957595550173), (773, 0.02499428500782481), (4554, 0.024990629516239038), (2389, 0.024981116941440534), (1949, 0.024949459691596586), (4637, 0.024946511537294446), (1378, 0.02494235807057934), (2780, 0.02491817852244951), (3629, 0.024917937975767596), (4361, 0.024912943311639756), (4735, 0.024877794016978153), (1796, 0.02487327444194572), (3469, 0.02484858153999463), (1847, 0.024847089934416672), (2878, 0.024817521918763123), (3221, 0.024817151461675534), (4570, 0.02480464803365675), (3517, 0.024793489000192466), (2188, 0.024771094158488306), (1680, 0.024758485941911847), (243, 0.024737794543440272), (3267, 0.024736082140009375), (1053, 0.02472774189562021), (4124, 0.024706278449387088), (2406, 0.02469467589927361), (408, 0.02468619721663663), (869, 0.024674483234817423), (3819, 0.024653165781738696), (4288, 0.024640216951128998), (3067, 0.024621927897076606), (4093, 0.02461744249387314), (2844, 0.024596180535888423), (515, 0.02457286254342849), (937, 0.024562313457117957), (4684, 0.024558779685632078), (2631, 0.024536270263811312), (3407, 0.024512347303955313), (3949, 0.024506977421244705), (1282, 0.02449798116865072), (3658, 0.024497200812838283), (3019, 0.024474006090778235), (1620, 0.024414745705151807), (3158, 0.02439787296455751), (1784, 0.024385666076465966), (860, 0.024358669183691048), (2867, 0.0243408672768238), (2311, 0.024304564979020987), (102, 0.02424145864664618), (3854, 0.024145555195190044), (274, 0.024139239197169947), (2984, 0.024121015735835964), (3966, 0.02409668546457061), (1419, 0.024094429400609407), (88, 0.024044891494971483), (2772, 0.02404356893178199), (3416, 0.024043231500054284), (1455, 0.024036509959607648), (2563, 0.024011277555503946), (876, 0.02399652594182122), (620, 0.02397662193610337), (4148, 0.0239715842049625), (3883, 0.023964369485863123), (2929, 0.023951421690163687), (4670, 0.02391266288781407), (2346, 0.023903547961121478), (851, 0.02388176178211262), (1047, 0.023874823704671026), (3098, 0.02386750002890537), (1416, 0.023855506178128812), (1504, 0.02383526348801649), (1226, 0.02382345824997725), (2825, 0.023774081784762688), (3992, 0.023764501159990636), (1360, 0.02376361834724948), (2952, 0.02374771915555056), (1148, 0.023736940586801876), (856, 0.02368541069108585), (1595, 0.02362916136499186), (137, 0.02359226400060247), (3012, 0.02357053634742695), (3424, 0.023554178137252517), (539, 0.02354955372956564), (244, 0.023542765324759456), (1406, 0.023520382242846177), (3294, 0.02345912726172965), (217, 0.023456536201466618), (3640, 0.02344609025663057), (3129, 0.02343402163064751), (3943, 0.02339819334438386), (561, 0.02335521775127409), (1923, 0.02334860046137186), (3531, 0.023342043910178554), (888, 0.02330039835926036), (1063, 0.02325234524974182), (83, 0.023221029705852533), (1881, 0.023208029846731735), (3961, 0.02320480401319208), (1076, 0.02319798677243364), (1016, 0.02319167144542368), (2918, 0.02318548153922629), (1261, 0.023184144853389887), (4543, 0.023180189436372067), (254, 0.02317222691868481), (1461, 0.023171428355435838), (4095, 0.023135375232179362), (1230, 0.0230991835969415), (1002, 0.023089469137165444), (1841, 0.023077950602203086), (2228, 0.023074218224735446), (450, 0.02306885952543279), (202, 0.023056189066944007), (3913, 0.023046333690527755), (221, 0.023040728554359374), (4337, 0.023039956453339946), (3900, 0.023025922131704568), (4048, 0.02301525163478362), (2206, 0.02300304027845477), (3085, 0.022990329293121836), (2229, 0.022975186834673218), (896, 0.022966655740660098), (4589, 0.02294903509351532), (2343, 0.022933349898977964), (481, 0.022863231125162656), (2214, 0.022858393420253784), (827, 0.022830510946924107), (2751, 0.022821475262895543), (3794, 0.02279407478749204), (3694, 0.02275227779250268), (4590, 0.022730010352729313), (1874, 0.022720364874546276), (609, 0.022716026311250602), (3086, 0.02271101542302026), (1986, 0.022662369714767455), (1266, 0.022637321905989848), (2184, 0.022606555648222195), (2738, 0.022594857453919797), (2604, 0.0225818431340986), (2162, 0.022576703307769022), (3095, 0.02257077418695044), (2254, 0.02256024482545869), (485, 0.022529865665077), (3995, 0.022527204800658465), (1675, 0.02249597013990274), (21, 0.02248224654768435), (2741, 0.022476906133860462), (1119, 0.02244610308073703), (4231, 0.022426481124396904), (2096, 0.022408337398526438), (2447, 0.022394239390625417), (1577, 0.022382411680940646), (2976, 0.02236248736234371), (655, 0.022361106727914533), (4090, 0.02235970184694398), (532, 0.022347046180144405), (2742, 0.0223439519932321), (4571, 0.022340960402921328), (622, 0.022339273173471227), (2070, 0.022333455978447825), (2814, 0.022329709548930612), (2697, 0.022317607959357767), (2429, 0.022308311578469346), (1234, 0.02226247814546495), (3483, 0.022259440648927466), (3993, 0.022235055979988438), (2196, 0.02223229453166141), (2849, 0.022225882091032007), (72, 0.0222236987545462), (345, 0.022209016567366714), (2939, 0.022204448334590107), (4123, 0.02219812405077079), (3127, 0.022196474339263507), (51, 0.022119206965640976), (3984, 0.022109867634258085), (2735, 0.022108982592343934), (3149, 0.022103052638789332), (1101, 0.022085458865576522), (658, 0.022064151622711147), (3270, 0.02204443631359129), (429, 0.022033210888387826), (212, 0.02203269232177582), (2076, 0.022021515711627294), (3559, 0.02202151325656538), (2991, 0.022017663348885278), (3437, 0.022008852864677797), (138, 0.02200240934897043), (270, 0.0219872089566925), (2560, 0.021974705770453976), (1224, 0.021945792092238826), (3382, 0.02193729825470585), (3910, 0.021916406844067222), (543, 0.021896271789558604), (1983, 0.021895628977680676), (2897, 0.021887722881147147), (555, 0.021866705195803686), (1058, 0.021851788656003894), (3661, 0.021836469450347215), (447, 0.021830204345201953), (970, 0.021829501098007763), (1944, 0.021821003121418256), (2424, 0.021813265760717043), (2285, 0.021805718152714686), (1567, 0.021799965328720708), (584, 0.02175349535562348), (632, 0.021750365238046875), (2919, 0.021718395200584127), (1629, 0.0217014632280056), (806, 0.02169576673532444), (120, 0.021682124085056046), (334, 0.021654928789339757), (2042, 0.02165266542441187), (501, 0.021610428099037175), (2321, 0.021599673325024778), (1334, 0.021581766561352522), (4032, 0.021535726196692757), (652, 0.021503829841047747), (718, 0.021465839079565494), (2727, 0.021443069131537127), (2489, 0.021425019020681686), (2456, 0.021416618503050953), (333, 0.021406020380466524), (3099, 0.021405891971532014), (1942, 0.021389212784967516), (2295, 0.021357768253488386), (2213, 0.021353783673681948), (544, 0.021334473833724627), (3280, 0.02133423373142069), (4004, 0.02132073549167553), (1417, 0.021279918843592524), (2874, 0.021267695438691076), (916, 0.02123299961338538), (4199, 0.021215926447270318), (1068, 0.02119180944845927), (269, 0.021188942862916078), (1232, 0.021185692131134477), (2934, 0.021176687706872418), (3155, 0.02116732989984257), (3903, 0.02113999628595547), (2284, 0.021136947853587124), (3535, 0.02111083615129325), (5, 0.021086069153309833), (1361, 0.02107797980811858), (4519, 0.021077796412067477), (1274, 0.021072263496523316), (3232, 0.021041158269954747), (479, 0.020998691535837832), (370, 0.020989461635218493), (2239, 0.020970611082226167), (1348, 0.0209624400377494), (4012, 0.020941420333381623), (2971, 0.02093984540392844), (1996, 0.020916011907776207), (2635, 0.020889635187639873), (291, 0.020887232795735358), (4060, 0.020887230604602035), (2512, 0.02087265831850301), (3377, 0.020861949220762805), (3193, 0.020843523502498525), (3553, 0.020836224204202232), (1438, 0.020820444245185955), (16, 0.02080681624496318), (3888, 0.020801684041158442), (2736, 0.02072724269487362), (2498, 0.02072274343959152), (2773, 0.02071615494796426), (282, 0.02071145442031952), (2682, 0.020701831852794082), (2961, 0.02069384147759037), (1258, 0.020688624018446334), (989, 0.020678209436144717), (3707, 0.02065793695555857), (2216, 0.020604174464499504), (3645, 0.020547920424383876), (4269, 0.02053716302366552), (799, 0.020494722449682763), (2279, 0.02048418825965708), (3227, 0.02046540531838589), (2712, 0.02045704970935404), (760, 0.020452058187923807), (1507, 0.020415887484790594), (3370, 0.02040686625507797), (676, 0.020381808427089455), (94, 0.02037642154560976), (4015, 0.020370005542210544), (621, 0.020361719142921637), (1481, 0.020347882067400357), (2080, 0.020312494192409734), (1896, 0.02031163423275434), (4335, 0.020306753441008043), (2418, 0.0202951366986312), (3141, 0.020268662011600554), (85, 0.020224871166321504), (617, 0.02021706254596821), (2824, 0.020215827796044486), (1579, 0.02020781583404116), (396, 0.020202884010550825), (4636, 0.020193331658245918), (853, 0.020187985795024857), (1582, 0.020183451012059754), (573, 0.020147760804859728), (3654, 0.020136315487535764), (0, 0.02012342273968671), (89, 0.02010153273690193), (52, 0.020101524424063214), (2633, 0.02010067120778352), (106, 0.02009941668142739), (1254, 0.02009478587147127), (1854, 0.020072547267153667), (1092, 0.020058884199886808), (3110, 0.020055582051524173), (3051, 0.020055068875129235), (1700, 0.02004986470153031), (3328, 0.020028188758036514), (1194, 0.02002090674111555), (4105, 0.020011661725504247), (4448, 0.01999534253670874), (1018, 0.019982515603806986), (4707, 0.019968103664310562), (2531, 0.019954069154824942), (2513, 0.01993880866214734), (1767, 0.019933170284750442), (2858, 0.01992807385536299), (2304, 0.019919560902046735), (4020, 0.019912474516404134), (3778, 0.019887826638669386), (1260, 0.019887130645073612), (828, 0.019859810706277965), (2061, 0.01985882630345487), (719, 0.019838465049245142), (126, 0.01983583159711084), (939, 0.019829658612288914), (276, 0.01982283761329086), (2584, 0.01982279963187315), (1371, 0.01980395963893669), (236, 0.019747719054984618), (1376, 0.019703486007926468), (3941, 0.019701217258259986), (3652, 0.01969906711008088), (1982, 0.019691370263775185), (4227, 0.019680843776034847), (1664, 0.019652398894720292), (37, 0.019625538281912873), (749, 0.019618662121330538), (2730, 0.01959857578388223), (125, 0.019578330995645668), (1107, 0.019560442071712012), (3731, 0.01954202808480699), (111, 0.019529680482814726), (130, 0.0195170592582955), (435, 0.019514248257565692), (3166, 0.01950227463365021), (70, 0.01949959635940985), (67, 0.019494572678906294), (687, 0.01948462242172873), (756, 0.019484223459391957), (3303, 0.019484175888588355), (832, 0.019467820196022147), (537, 0.019466755510927174), (3120, 0.01946408528997611), (1806, 0.019463507377179015), (1674, 0.019447944850864117), (3253, 0.01944784666959121), (678, 0.01943563127910676), (3659, 0.019430598247623443), (558, 0.01938616141037817), (2978, 0.019385347070227307), (1667, 0.01937542820597888), (2540, 0.019344801141925258), (3674, 0.0193431647927828), (1257, 0.019320786251599945), (3502, 0.019306968298160188), (43, 0.019296973550571854), (1270, 0.019286839749183153), (4345, 0.0192527957534642), (119, 0.019236122266429456), (803, 0.019214656743123427), (4502, 0.019201366800248084), (199, 0.01916956414702553), (770, 0.01916568787836747), (3713, 0.019105343362467095), (2445, 0.019098406257234052), (1237, 0.01908427832008597), (3418, 0.019079116493391564), (4053, 0.01907658354055399), (1332, 0.019054313615070546), (285, 0.01904051728269894), (4444, 0.019020348354970608), (266, 0.01900020073205514), (4290, 0.018987884511494038), (128, 0.01897222128728744), (3435, 0.018960379244106332), (3318, 0.01894779322437705), (4475, 0.018905365477479046), (1739, 0.018903279788683988), (1320, 0.018891656280065162), (1116, 0.018886994281505594), (3397, 0.018880322583697668), (4222, 0.018855885000688046), (4181, 0.0188508676484024), (2607, 0.018844331634380124), (2622, 0.01882519250763428), (1863, 0.018799911137089852), (2310, 0.018797998440651588), (976, 0.018790819699876036), (591, 0.018781083382000213), (3334, 0.01875765179544712), (667, 0.018743678266305866), (3956, 0.018738212468555993), (474, 0.018732882055178278), (3939, 0.018725720235807118), (1091, 0.018722633010926453), (1001, 0.018686859326350846), (2264, 0.018677511833213478), (3412, 0.01867327350227866), (1472, 0.018670725058501345), (4031, 0.018646536607231833), (2898, 0.018636670468536558), (4491, 0.018608170797382154), (452, 0.018598584422352037), (1265, 0.018587093001740378), (911, 0.01857523311385778), (303, 0.01855781940698921), (2136, 0.01853470165613362), (1776, 0.01851502534720771), (1969, 0.01847732607864184), (1597, 0.018443602328132167), (2519, 0.01838961610550807), (82, 0.018389589218897245), (2762, 0.01838771341970842), (1057, 0.018350335967835762), (4703, 0.01832951574003896), (963, 0.01832764902616771), (2235, 0.018319528259441758), (3762, 0.018316686060876542), (992, 0.01829586241890485), (4155, 0.018291447271813845), (2621, 0.01829077978484998), (4232, 0.018277011686535838), (2862, 0.018272574211801305), (2692, 0.018256088885426406), (1585, 0.0182435795462968), (4663, 0.018242751939757208), (4119, 0.018240462124942448), (42, 0.018235744421211782), (1500, 0.018235622473821947), (4019, 0.018225754005655036), (3784, 0.018224255769662065), (4201, 0.018221515747324165), (1832, 0.018208040419404395), (723, 0.018199395578726338), (1958, 0.01819753243322625), (101, 0.018196621632568445), (147, 0.018188747087915427), (2044, 0.018165620674443786), (2737, 0.018164625730273755), (1970, 0.018164469082679286), (1319, 0.018107319350962527), (4257, 0.018036527346684747), (3245, 0.018012967620745526), (742, 0.01799763934878381), (2286, 0.017967533097273315), (1276, 0.0179501604718013), (2994, 0.017943695554438706), (190, 0.017940658746283807), (1050, 0.01791045479483377), (1388, 0.01790574122142347), (3399, 0.017887858056826446), (2001, 0.017867914351141406), (4261, 0.017854878885492226), (4108, 0.017848532736976907), (1509, 0.017837313884334124), (2026, 0.017813940387929682), (4623, 0.017763736061523712), (4515, 0.017749824870539745), (2336, 0.01772804579963559), (3239, 0.017725845122154735), (4716, 0.017724575911344288), (3570, 0.017716571384443037), (455, 0.01771419204412758), (3681, 0.017707510988142904), (2280, 0.01766053584767567), (852, 0.017654703363567253), (731, 0.01765465051319042), (981, 0.01765161887682592), (2152, 0.017645420391691192), (4610, 0.01764435260052226), (1244, 0.01764018555324787), (1725, 0.017634349369626153), (50, 0.017606202711273885), (2550, 0.01760502394296099), (95, 0.017591931101293964), (4692, 0.017550156499100824), (4521, 0.017548938745549917), (3508, 0.017545026476400872), (1442, 0.017538450936289664), (3363, 0.01753451122042826), (1812, 0.017531406997128938), (2920, 0.01751830558140031), (2729, 0.017508740447461178), (1078, 0.01750802262915574), (3522, 0.017502969079975873), (1330, 0.01750098480783046), (2510, 0.017493684057758405), (2602, 0.01744425256009367), (4226, 0.017438337158359664), (2557, 0.017437059244398687), (4338, 0.017422499932011476), (3159, 0.017400816860482844), (149, 0.017360930423990027), (4107, 0.01736058717869297), (2857, 0.017354937863431782), (503, 0.017342572455738434), (3004, 0.01731706533545441), (2057, 0.01728952903608889), (1220, 0.017280954559984307), (3756, 0.017196830510284217), (895, 0.0171948387242295), (3108, 0.01718439741276881), (935, 0.017166551974483024), (1396, 0.01716276716338804), (2770, 0.01715907704519197), (816, 0.017111261960045594), (3982, 0.01709750854355692), (942, 0.017091414742275785), (75, 0.01709026639489311), (1231, 0.01708382604776988), (1968, 0.017051772597508903), (1317, 0.017033800576041664), (3907, 0.017026816694396707), (2720, 0.017017732790682034), (1764, 0.01699547131785325), (4188, 0.0169922950669312), (4282, 0.01698902937961927), (3743, 0.016980994444096432), (165, 0.016949387289324824), (748, 0.01692605494506184), (360, 0.01691662353673485), (2925, 0.01687969835751262), (3937, 0.016878235027118528), (4406, 0.016872107574886257), (1578, 0.01680005853730943), (3690, 0.016771712927270564), (2790, 0.01677125006812843), (4701, 0.016756681719835673), (311, 0.016733646319324256), (837, 0.01673332418072215), (90, 0.01672334414530982), (949, 0.01672329210807498), (56, 0.016709197454129993), (833, 0.01668489515817773), (614, 0.01665953515167634), (4223, 0.016652670290505864), (2660, 0.016608222562290807), (4023, 0.01660358482186559), (2769, 0.016594887624405853), (597, 0.0165906380825236), (1592, 0.01658620169812121), (3118, 0.016544317658400913), (3745, 0.016538849728178116), (2119, 0.01653850712815706), (1195, 0.01653446012556926), (3930, 0.01651380713345806), (4205, 0.016485032653588888), (1885, 0.016473573899193714), (390, 0.016460016148323948), (4165, 0.01644078712971009), (4001, 0.01643909989292295), (304, 0.016436566061365995), (1961, 0.016432527168187407), (695, 0.016420839489477215), (1129, 0.016417668123985693), (135, 0.0163973574143935), (657, 0.016389441576557705), (93, 0.01637992115884908), (3884, 0.016358043030653416), (4235, 0.016335082804614123), (801, 0.016330928759417895), (2014, 0.016322800192675357), (259, 0.01631750248128163), (2787, 0.016261806819497824), (1586, 0.016256072509444625), (2421, 0.016252246758630923), (2950, 0.016251913277363497), (222, 0.016244370982358272), (3842, 0.016226802704790898), (1845, 0.01619114118208828), (249, 0.016185950647194153), (4369, 0.016175228443795733), (858, 0.016168033727939207), (2478, 0.016139958446253353), (2854, 0.016125812810962828), (1241, 0.016118371364587554), (721, 0.016109270208803258), (224, 0.016085069444484044), (3454, 0.016053593041375762), (1774, 0.016052351603785476), (881, 0.01605106845653112), (1061, 0.016050075723730635), (4117, 0.016049290373094754), (4755, 0.016047843730114728), (2616, 0.016046360669708437), (4690, 0.01603809840413222), (4366, 0.01603010975092398), (3137, 0.016014947964570942), (1861, 0.015935636963573287), (4682, 0.015924577650607355), (2936, 0.015915532462668365), (2833, 0.015891275274015293), (764, 0.01585561161745804), (2871, 0.015852165913423102), (1113, 0.015843010689640443), (1694, 0.015828920130878322), (47, 0.015824374574599474), (3516, 0.015791469592943322), (3957, 0.015781459766893827), (310, 0.015767841084118016), (1499, 0.01573862787280491), (4535, 0.015736439390716374), (2134, 0.015726194052691947), (4401, 0.015708306217069413), (256, 0.0157063766401466), (4051, 0.01568552586515631), (1213, 0.015660899626631922), (2782, 0.015650600818494672), (77, 0.01563885454049631), (397, 0.01563657106048561), (3003, 0.015618377309392386), (4605, 0.015617110632564976), (1798, 0.01558770097947216), (1365, 0.015585159509211386), (1818, 0.015551905311142158), (1537, 0.015545517819425352), (2320, 0.015542039013277952), (2940, 0.015519515922728587), (763, 0.015493511396794793), (1657, 0.015445589375536433), (4096, 0.015445278496726129), (99, 0.015418599709960523), (1134, 0.015415435967978805), (2390, 0.015412815796213885), (2245, 0.015406621693253481), (629, 0.01539482967159546), (4267, 0.015351497389065945), (159, 0.015345323762883887), (4568, 0.015339641216991188), (1243, 0.015335097274210688), (4133, 0.015330385595134846), (2507, 0.015272883149196942), (1218, 0.015217001783567599), (3009, 0.015212523850644574), (1420, 0.015198627809688696), (3704, 0.015193507303561504), (2640, 0.015192388543158337), (1823, 0.015184295353259675), (540, 0.01514670558712106), (1354, 0.01513942720550785), (484, 0.01509669935396759), (3496, 0.01509159237235181), (1637, 0.015081145757312262), (3781, 0.015064173316267117), (1756, 0.015041952998364376), (3904, 0.015038181368701822), (569, 0.015037309890326693), (4680, 0.01503240380407486), (813, 0.01501555244362587), (4239, 0.015009470874603045), (4175, 0.014970824053675478), (1594, 0.014968509083223483), (3414, 0.01496543948728422), (995, 0.01494998664636998), (631, 0.014929260855972772), (2565, 0.014914479457216533), (2547, 0.01491266727459592), (2220, 0.014897677049248643), (1918, 0.014850823400999929), (1109, 0.014824523626993675), (407, 0.01480859717530049), (2385, 0.014808248760630012), (454, 0.014804051509117816), (4055, 0.014802485958069067), (4283, 0.014800835246602669), (1670, 0.014797826465393632), (3718, 0.014791075245803103), (830, 0.014779320770705569), (840, 0.014774907734900686), (262, 0.014769996572502494), (2045, 0.0147563299900391), (353, 0.014746851702436732), (2277, 0.014718702625554777), (2000, 0.014707490319445564), (2647, 0.014706227299907868), (20, 0.014705808063266322), (660, 0.014686333531849591), (3677, 0.014675173076358823), (482, 0.014674957343519054), (2561, 0.014668016604622778), (1118, 0.014662956320377382), (706, 0.014659087170731985), (4115, 0.014658970190428628), (191, 0.014642710523672338), (4089, 0.014639128030603243), (34, 0.014629940793129702), (394, 0.014615232001894556), (3234, 0.01461332320209426), (2650, 0.014607497102776012), (2319, 0.014605684939081286), (2148, 0.014572648871591926), (637, 0.014559290090680261), (776, 0.014558685349735055), (4422, 0.014529113484129686), (1179, 0.014517946302082894), (3174, 0.01448119546851483), (1935, 0.01447883055386959), (1458, 0.01447450833693627), (4646, 0.01443881051009737), (1106, 0.01441689549875507), (1344, 0.014416186225141943), (71, 0.01440354880820693), (2636, 0.014374471287433223), (2524, 0.01436581027036733), (2555, 0.01436060613026176), (4198, 0.014345319976965733), (314, 0.014335967152591056), (1548, 0.014334707827018695), (3736, 0.014331599519238472), (1476, 0.014244223696236387), (762, 0.01422511889044541), (74, 0.014218668480923614), (4391, 0.014208560411982393), (930, 0.014190268691041664), (628, 0.014175163067300444), (2474, 0.01415987217402648), (1653, 0.01415941817139792), (929, 0.01414370774428896), (2103, 0.01413847550568753), (4081, 0.014137376067927619), (3420, 0.014129478856292557), (2175, 0.014092085255594864), (292, 0.014087489416884293), (4640, 0.01408556072780784), (4550, 0.014076225758470604), (2495, 0.014058316205746959), (1163, 0.014034779119896056), (2387, 0.014028985154155663), (1645, 0.014027143014826951), (4016, 0.014020850840617771), (1192, 0.014007297438604207), (672, 0.013973566299332782), (3917, 0.01396747217511515), (288, 0.013937264670117886), (1584, 0.013936792281751402), (490, 0.013922207254659348), (3596, 0.013914290301531178), (1164, 0.013905894973988607), (3456, 0.013896826571993636), (4025, 0.013869847263868945), (854, 0.013857172055887058), (1100, 0.013826873167403421), (1110, 0.013819644967667079), (2043, 0.01381939999342778), (2706, 0.01380407864897058), (644, 0.013793340532016944), (2455, 0.013789472670138012), (1084, 0.01377653493744654), (214, 0.013761139864102495), (1850, 0.013758252148461117), (2087, 0.01375123836293707), (640, 0.013738936933457666), (4047, 0.01373165180065186), (446, 0.013715207555955266), (1688, 0.013632753287141483), (541, 0.013599135764407069), (1087, 0.013591860502503423), (2161, 0.013588445886159869), (4069, 0.013580027918581148), (2798, 0.013576043907701344), (469, 0.01356266259070409), (2937, 0.013545460987027677), (923, 0.013539668795028499), (738, 0.013519751126924797), (3592, 0.01350724224481801), (2021, 0.01350368091121726), (4705, 0.013486807825593545), (182, 0.013475841227928416), (2869, 0.013463821641531624), (512, 0.013459864212208787), (2492, 0.013452908680698412), (914, 0.0134515868191291), (319, 0.013447035588293951), (2627, 0.013423702392646796), (2121, 0.013384917225502672), (1304, 0.01337367713730589), (2124, 0.013369637722305212), (2068, 0.013359870649361496), (1255, 0.013358730411170102), (2965, 0.013355555543999708), (4206, 0.013354957207348464), (4649, 0.013334556250583163), (153, 0.013309939627163384), (197, 0.01327517838309148), (3484, 0.013265355531906255), (7, 0.013258201762544256), (2348, 0.013242955130935777), (4202, 0.013190089764287344), (3172, 0.013186343522509095), (1666, 0.013183949280237655), (903, 0.013178981270237974), (973, 0.013171566131246353), (2989, 0.013144127365247268), (3311, 0.013134514998038502), (751, 0.013109906426813436), (477, 0.013091007970810909), (3203, 0.013084099096497112), (2534, 0.013079492998119604), (2102, 0.013069898847702398), (3336, 0.013069104107070753), (4143, 0.013051888100950888), (2553, 0.013033784322970714), (2012, 0.013023484124427206), (2868, 0.013007695375425711), (1760, 0.012998970094746655), (1381, 0.012995588980362509), (3765, 0.012986652149858873), (4576, 0.012985281865311261), (2422, 0.012977540125616582), (2253, 0.012946973734614904), (2180, 0.01294504731449144), (1919, 0.012899732856434762), (1060, 0.01289904569099468), (3696, 0.012892978556871892), (3010, 0.012891955673714853), (424, 0.012858282694555873), (4620, 0.012846014700181426), (4359, 0.012835957231754937), (681, 0.012821105667741906), (1033, 0.012814755034221038), (582, 0.012798858849506921), (2367, 0.012797395392485715), (798, 0.012758267961939428), (3635, 0.012753552757448189), (666, 0.012743316486712425), (2765, 0.012707988871378386), (2672, 0.012693021895764002), (1301, 0.012685350684036239), (962, 0.012676924326806671), (3458, 0.0126443983890157), (4399, 0.012634891202508568), (1418, 0.012614885814085527), (1219, 0.012612890830292885), (4221, 0.012611972822330338), (57, 0.012585982860722798), (4549, 0.012562718881603378), (1041, 0.012549363784841339), (1423, 0.012477734879069212), (132, 0.012464790809475072), (372, 0.012456709221290725), (4091, 0.012443191614593042), (2233, 0.012427618532602526), (2559, 0.012400373991519314), (1650, 0.012397043236288863), (2753, 0.012385945816986252), (2075, 0.01236011794973187), (1352, 0.012333804800105638), (4150, 0.012332375013467794), (1056, 0.012321256603675168), (1511, 0.01229714559800633), (3668, 0.01228999735065685), (524, 0.012264597543699029), (2301, 0.012229454619284144), (4659, 0.012220530744616261), (2721, 0.012216558384517944), (1150, 0.012214529536714683), (2127, 0.012189417002324454), (1069, 0.012155256107850298), (3008, 0.012145529927423897), (2236, 0.012131637318274779), (1503, 0.012121452215809483), (1450, 0.0121159611387801), (3131, 0.012115782251721328), (3438, 0.012089654252265946), (2809, 0.012081271330108312), (2338, 0.012078865579639332), (4142, 0.012060181319981572), (603, 0.012045048202138451), (2969, 0.012042688969393332), (1031, 0.0120405228036892), (442, 0.012039558072782317), (3027, 0.012030437891928772), (3724, 0.012007743983654694), (2689, 0.01200465004854501), (3327, 0.01199174007374783), (2330, 0.011973427234478026), (1502, 0.011958888054341456), (2930, 0.011944918116441428), (1380, 0.011943250833833031), (4606, 0.011942210044456603), (1844, 0.011927630690554957), (2452, 0.011918758761661616), (600, 0.011916158545640505), (599, 0.01191390013312814), (2376, 0.011911628802532798), (3816, 0.011897506451437534), (4097, 0.011897373125225572), (2724, 0.01187987029137435), (3345, 0.01187758213068154), (2575, 0.01187435007952928), (3870, 0.011839159140157969), (2047, 0.011813922234279888), (1608, 0.011800798762389781), (1553, 0.011799144275675973), (2691, 0.011781878850664554), (2241, 0.011776106379583335), (2975, 0.011745392192620387), (615, 0.011730920637474326), (189, 0.011727045023964378), (3921, 0.011723327839976596), (1136, 0.011720604655377961), (340, 0.011672845353773649), (754, 0.011639298382004814), (670, 0.011625156449783264), (4200, 0.01162428778122393), (4376, 0.011610491864879974), (1564, 0.011598242593932828), (1465, 0.011590856434459939), (3211, 0.011575339369772265), (2630, 0.011570998620129076), (4443, 0.011555687462355543), (1886, 0.01154077858584528), (357, 0.011536814985245666), (4723, 0.011533475624143894), (919, 0.0115083767012023), (3238, 0.011505332471618453), (4210, 0.011486555522097354), (2566, 0.011485741583343874), (1452, 0.011483279711499853), (2459, 0.011481555379887563), (4180, 0.011480748339125968), (1401, 0.011472014089188352), (945, 0.011466816909446101), (1751, 0.011457649032963483), (4323, 0.011443443578572854), (4344, 0.01142822242094894), (3206, 0.011413023926353044), (1955, 0.011411710399831103), (1691, 0.011407412072038891), (2778, 0.011406196386604209), (3409, 0.011406110575165065), (1299, 0.011404592665842291), (1271, 0.011398683735083775), (1515, 0.011398345960618231), (1346, 0.011389252702693947), (752, 0.011368883590176996), (3344, 0.011353989777839812), (1588, 0.01135158046409753), (1374, 0.011332742354702944), (403, 0.011331637854698835), (2345, 0.011325685517547816), (4099, 0.011321565324011185), (3343, 0.01131310214580099), (1262, 0.011294371133238914), (1602, 0.01127192981098961), (610, 0.011259485621958118), (3963, 0.011239786343957264), (2951, 0.011208324644537188), (1692, 0.011204804005133791), (4241, 0.011199905264969135), (982, 0.011191634882160307), (4490, 0.011186871195677878), (1697, 0.011182832969450461), (2287, 0.011153815323155913), (2985, 0.011151434052639334), (846, 0.011124420462363577), (4061, 0.01111282276573571), (2378, 0.011101268928657749), (4404, 0.01109950495048245), (3240, 0.011091375037661916), (84, 0.01108811151078519), (2707, 0.01107116797149162), (3515, 0.011061204134253813), (3368, 0.01105637709987367), (4332, 0.011037624781679571), (4702, 0.011031981211225648), (1679, 0.011023415224947196), (2673, 0.01101773670024752), (2586, 0.01100756396798785), (152, 0.010997519888635027), (3751, 0.010988500257227366), (1547, 0.010986584924088253), (2509, 0.01098652674127118), (1930, 0.010982568033082967), (4728, 0.010982329520670296), (909, 0.010980471246915395), (341, 0.010954511786048447), (1464, 0.010951307214894745), (3720, 0.010928479002329926), (1368, 0.010926379927668095), (261, 0.010926028032129501), (412, 0.01092231724343503), (1398, 0.010919852823487513), (3998, 0.010910143468710642), (4564, 0.010903973701167146), (1906, 0.01090101196642087), (943, 0.010890199344835923), (3419, 0.010886032625180996), (3875, 0.010866576873025696), (3568, 0.010860651717427752), (1227, 0.010853131708489111), (1133, 0.010840793583398975), (3165, 0.010834572940759582), (691, 0.010805296914498837), (284, 0.01079999824811255), (498, 0.010796224115320049), (1196, 0.010793239842184978), (297, 0.010763408853914835), (1159, 0.01075168920040605), (171, 0.010749664692201727), (4272, 0.01074347183515419), (4542, 0.010741153743122213), (4674, 0.010737753435439638), (3361, 0.010720069381662312), (523, 0.010694735090383531), (2881, 0.010683533027495902), (1689, 0.010674100050807277), (1895, 0.01066794700694279), (3680, 0.01066693051102731), (3133, 0.010644360699354326), (309, 0.010633519873139364), (2139, 0.010628496640424397), (661, 0.010623456524230718), (548, 0.010619538810855566), (2766, 0.010608206877224018), (1023, 0.010603389589434653), (974, 0.010601227880808157), (3560, 0.010598898459384925), (1933, 0.010589940849236255), (4327, 0.010587750789847927), (492, 0.010573052352546512), (1208, 0.010559210435512903), (3226, 0.010556420165352052), (2356, 0.010545091771108043), (788, 0.010538428732080277), (690, 0.010536439898628739), (729, 0.010518907661117577), (41, 0.010496343013749878), (3265, 0.010484586323493104), (9, 0.010479794695363892), (3062, 0.010458049720409309), (688, 0.010449645609304047), (3152, 0.010432690045000078), (715, 0.010409287805143356), (411, 0.010394446800913563), (2017, 0.010382905049263817), (2582, 0.010379127137615969), (768, 0.010378816956736403), (80, 0.010376348035939701), (2732, 0.010375836529495745), (821, 0.010371447739992224), (4600, 0.010363565443107021), (4587, 0.010354375187343473), (1495, 0.010350657761646499), (300, 0.010350308570906096), (3638, 0.010326171614809237), (1105, 0.010324894385983045), (4612, 0.01031070506523186), (2841, 0.010308807912313284), (3616, 0.010299396641836378), (3459, 0.010290165359640214), (3044, 0.010282442868844392), (4071, 0.01027940718927495), (2834, 0.010275299792033763), (4647, 0.010240345017737115), (3577, 0.010235576086453115), (1809, 0.010234548565913682), (4652, 0.010218814171773293), (2888, 0.010218204954086466), (4660, 0.010213108891331594), (2793, 0.010203884824891325), (785, 0.010179859946918439), (1556, 0.010175588703390042), (728, 0.010174157214876644), (327, 0.010158776547659249), (3692, 0.010156612651037306), (3112, 0.010143454779396554), (1708, 0.010131558154053812), (2568, 0.010129553561614508), (1517, 0.010129102268291498), (3518, 0.01012662322954976), (460, 0.01012654162099974), (2590, 0.010113456870158589), (1606, 0.010106542223816137), (872, 0.010098616504025175), (1480, 0.010098012128449163), (4005, 0.010079494146219305), (826, 0.010060259170633292), (3228, 0.010051204209058657), (1468, 0.010037949696058472), (3073, 0.010037850322465293), (4062, 0.010031599590981415), (3589, 0.010018517884022332), (208, 0.010014713801006759), (3079, 0.010012451054581725), (2361, 0.01000563284416304), (1197, 0.009988955414769478), (1648, 0.009983988059247401), (1484, 0.009978270302494511), (1822, 0.009957722091988488), (470, 0.009948881170501498), (4322, 0.009947313297047544), (1168, 0.00994564947405258), (2763, 0.00993575239401399), (1007, 0.009930649192512433), (1570, 0.009920472610864577), (716, 0.009891837920202947), (1840, 0.009884796551786477), (2088, 0.009883062409854051), (4430, 0.009876322364701666), (845, 0.009875525114119842), (1200, 0.009874837624714713), (302, 0.009874296182776745), (2083, 0.009871820814829008), (2062, 0.009851193455964186), (1229, 0.009848049641348772), (3514, 0.009847778308164943), (3241, 0.009841103688617545), (4419, 0.009833959806963836), (1668, 0.009795609944324837), (2842, 0.009791057707646805), (4459, 0.009787612806154495), (2294, 0.009783286264699105), (2167, 0.009776298094580489), (1316, 0.009775814462687457), (2256, 0.009761476645696867), (4594, 0.009755473530656412), (234, 0.00974646782922227), (1306, 0.009745974660195751), (1546, 0.009742262613187728), (4249, 0.009732933924692051), (3623, 0.009730979684288012), (1516, 0.009714734511724575), (3899, 0.00970668007142319), (3776, 0.009698798683949406), (3933, 0.009683959144640774), (1755, 0.009681279705939605), (779, 0.009680327259264479), (780, 0.009679634134068386), (1915, 0.009675410608237034), (4098, 0.009669288968043118), (3225, 0.009666488270787997), (3951, 0.009664036956243717), (1487, 0.009645964005503625), (1174, 0.009643405027266266), (1936, 0.0096409761876374), (1931, 0.009637904493712102), (1787, 0.009635979186900586), (725, 0.009633565078368628), (1029, 0.009627543933850981), (4002, 0.00961857225839908), (1122, 0.009603687807440805), (1010, 0.00957820269501277), (2160, 0.009573448443380496), (3823, 0.009565707378908736), (639, 0.009562659611308416), (4255, 0.00956248536893785), (3230, 0.009561841518253233), (3364, 0.009561193199311221), (1496, 0.009560280890256229), (1451, 0.00955641572634258), (912, 0.009553230215696557), (2215, 0.00954946143815124), (3866, 0.009546961534159364), (3619, 0.009531737087947459), (1535, 0.009522607715763754), (78, 0.009519253543749056), (2554, 0.009516128919096176), (848, 0.009513245982426762), (847, 0.009497604767369746), (1746, 0.009495101794132573), (2067, 0.009489758361942274), (1876, 0.009487234110840136), (3651, 0.009474644233369012), (3223, 0.009474632587661985), (3185, 0.009464742349467713), (1291, 0.009424007318994706), (1249, 0.009418814738920053), (2943, 0.009399141685207564), (3960, 0.009389576364135552), (1887, 0.009385835881954963), (4056, 0.009382071692792104), (3441, 0.00935556682352584), (737, 0.009341574816713945), (1349, 0.009332056919065143), (3587, 0.009329785284349211), (4297, 0.009323022794392009), (4368, 0.009321332396113734), (3703, 0.009310328146416854), (3945, 0.009304688193807994), (3822, 0.009299587509931508), (2168, 0.00929676769884233), (338, 0.009282094569010415), (1530, 0.009274171500359453), (2036, 0.00926131406026006), (2436, 0.00925687283738398), (1039, 0.009249209357147507), (330, 0.00923760024144808), (1474, 0.009236539345783123), (3877, 0.009221475879919309), (3706, 0.009205983165600746), (3857, 0.009199132414241647), (3825, 0.009185713949564845), (699, 0.009149176534007673), (2005, 0.009148194203305574), (4573, 0.009144544136849186), (1817, 0.009130232179698923), (3633, 0.009111749171535255), (4106, 0.009108502453745145), (1095, 0.009092070299913609), (3980, 0.00908487086421909), (1733, 0.009081226296812416), (1043, 0.009050863989399045), (2117, 0.009048301918005434), (2145, 0.009035606519285198), (4732, 0.009033581656894276), (4110, 0.009029416614431454), (294, 0.009016861209464242), (2659, 0.008984981484059091), (4596, 0.008966922729860114), (192, 0.008957902613210016), (1883, 0.008956892131289154), (3271, 0.008949038427147888), (2494, 0.008929497992095161), (1907, 0.00891508792069057), (3480, 0.008908064149040634), (3914, 0.008905619181023467), (3734, 0.008897002702908502), (2166, 0.008883877579196117), (1140, 0.0088680817880832), (2725, 0.008857656808654198), (2964, 0.008850462244040238), (12, 0.00884453307903598), (3780, 0.008843222430182367), (2609, 0.008834101441868506), (3218, 0.008829795805475018), (1619, 0.008826354103946353), (2634, 0.008814077786689436), (3678, 0.008811072142371302), (680, 0.008808104776306287), (996, 0.008801899734669673), (1951, 0.008787344932631651), (3618, 0.008779149132616838), (3667, 0.008775192854825914), (2792, 0.008774670119672605), (4591, 0.008773243264427723), (868, 0.008758214550640938), (2755, 0.00875782884182118), (2610, 0.008752915126792313), (3264, 0.0087453456749314), (1893, 0.008735590277788448), (2399, 0.008707436340595568), (1357, 0.008692995245235808), (1402, 0.008684928204769038), (2674, 0.008683354418658652), (4363, 0.008674523014023031), (177, 0.008673009303375714), (3150, 0.008665541489442997), (3919, 0.008658017698475379), (211, 0.008657094575446382), (1660, 0.008653628318119017), (3599, 0.008647760875755982), (3752, 0.008643167895682573), (890, 0.008637916501721155), (717, 0.008637076013356068), (4136, 0.008627971705231765), (1851, 0.008622595222858664), (2911, 0.008619809237759745), (1048, 0.008606691053690354), (588, 0.008606379456925665), (551, 0.008601547436219477), (4262, 0.008598652278740411), (2803, 0.008584458090519055), (3953, 0.00858273994236947), (2072, 0.008582219081582305), (3920, 0.00857885378546461), (11, 0.008576672294760062), (3689, 0.008566789705733584), (1957, 0.008547184374434498), (472, 0.008526672360558018), (4373, 0.008524994581981079), (3233, 0.008520512016895456), (1768, 0.008515387986317572), (1366, 0.008509019943913926), (2667, 0.008499664834622894), (3701, 0.008490919384926743), (2922, 0.008487242411333527), (804, 0.008484287256054558), (3222, 0.008482599733438678), (2977, 0.008480316329429489), (800, 0.008478728466135028), (3526, 0.008476045587683351), (1077, 0.008461326300375237), (4666, 0.008444710763680363), (3795, 0.008438122254300788), (3283, 0.008436154898693617), (3556, 0.008434377126795917), (1934, 0.00842276539966013), (3643, 0.008413982299849024), (4135, 0.008399795334683468), (1977, 0.008398726697271038), (2990, 0.008396956065331002), (538, 0.008392333777511552), (3386, 0.008392012233535754), (3739, 0.00837337411290855), (3551, 0.008359206912259443), (4137, 0.008358341675842724), (1574, 0.008357959280950646), (2193, 0.0083576604710063), (2109, 0.008348807748218898), (343, 0.008345127820702876), (993, 0.00834323237603321), (2169, 0.008335856490131598), (504, 0.008332372457764336), (519, 0.008328878684964958), (4604, 0.008327056095888933), (3125, 0.008323228815589383), (3491, 0.008314834585318193), (3564, 0.008314452644156504), (1223, 0.008314353937263827), (4541, 0.008308742510566394), (92, 0.008301445953971757), (1170, 0.008291624735178891), (1939, 0.008278062955477878), (32, 0.008272214747969787), (3492, 0.008272127886812105), (3665, 0.008262608917770357), (2195, 0.008260480789011367), (79, 0.008256493568090408), (4432, 0.008256491817223561), (2900, 0.00825598142668863), (3330, 0.00825411321930159), (2324, 0.008245620135156576), (689, 0.008236892655083079), (3299, 0.008229980045555255), (346, 0.00822985110380014), (4394, 0.008218651654457928), (3477, 0.008212719115478256), (789, 0.00821038793154878), (3096, 0.008199862030503427), (348, 0.008198795369202785), (1059, 0.008198459732569286), (4429, 0.008190326787764622), (1453, 0.008185868264171718), (1411, 0.00818432167707005), (3237, 0.008180509662991007), (787, 0.008177571940502526), (769, 0.00817389520383994), (2416, 0.008162853252459894), (2463, 0.008141168363359026), (169, 0.008137331693299228), (215, 0.008136765919476699), (4685, 0.008131386466142157), (4284, 0.008126496748669294), (3260, 0.008126074679345875), (1807, 0.008123942205386632), (3046, 0.008123273592378084), (3557, 0.008121862098552545), (2521, 0.008120837687749825), (4687, 0.008098427158944207), (3447, 0.008093146491845116), (1617, 0.008085707859677018), (2022, 0.00806855696981452), (1422, 0.008064114095841662), (1627, 0.008063440557154493), (4395, 0.008057408556538666), (3715, 0.008048963411887315), (3065, 0.008012381157585267), (4472, 0.008006123051103155), (2064, 0.008002110542770125), (2571, 0.008001929204562202), (2612, 0.007998967915089368), (2268, 0.00799889287237605), (3641, 0.007998890232887138), (4504, 0.007993682190815934), (1463, 0.007985468346732858), (1421, 0.007984438556145031), (3826, 0.00796241299935411), (3657, 0.00796040458667734), (782, 0.007947562267939301), (1446, 0.00793693665320993), (3868, 0.007924773423131208), (4523, 0.007922928879646528), (2143, 0.007918672741818225), (883, 0.007911691691308696), (1877, 0.007903336182218994), (3472, 0.007902460176412687), (356, 0.007900140489484585), (3151, 0.007889496340499392), (29, 0.007887143836075656), (4733, 0.007870813082310022), (4428, 0.007864490212302145), (2892, 0.007861925998313002), (767, 0.007856638425634901), (44, 0.007852331872964231), (2859, 0.0078522302583442), (2388, 0.007846061256660083), (1710, 0.007845500665038481), (3646, 0.007831476452342145), (1742, 0.007831185159886463), (1404, 0.007828996501542678), (388, 0.007818670301418425), (2303, 0.0078113394129839826), (387, 0.007811203188029848), (2812, 0.007805432266312237), (2525, 0.007798994043249153), (775, 0.007783334488287301), (507, 0.007776865961086255), (1682, 0.007772256739633453), (2034, 0.007771631272840716), (3057, 0.007769664691654715), (1793, 0.007762731099229177), (3071, 0.007757669058094637), (279, 0.00775356553917019), (2552, 0.007743442138617471), (1206, 0.007742428678051413), (1555, 0.007710233169653018), (410, 0.007705385182261905), (2446, 0.00769258130838013), (3342, 0.007690820886173085), (1456, 0.007687552965926607), (1052, 0.007667591107062224), (1642, 0.00766540156600948), (3588, 0.007663837359930631), (2317, 0.0076633755120619415), (2562, 0.007660150846657443), (805, 0.00765887606669714), (4402, 0.007658402545848363), (899, 0.007634765115593076), (2482, 0.007634245861404161), (324, 0.007633676956681856), (1114, 0.007628537279450124), (4626, 0.007626538772840185), (4653, 0.007626346994365518), (4174, 0.0076232037685174895), (4348, 0.007616609242070278), (907, 0.007616513110985176), (4176, 0.007615703790369728), (4725, 0.007614493624390443), (1875, 0.007605643520637187), (1308, 0.007598701480865879), (416, 0.007589694572804895), (3144, 0.007575209629480671), (1782, 0.007575101677239586), (4631, 0.007574744532470044), (957, 0.007562740046607775), (2954, 0.007562460514248567), (3563, 0.0075485840778594625), (4698, 0.0075257131297808665), (1719, 0.007474750048956315), (1941, 0.007465701328341668), (4074, 0.00745350567372879), (3986, 0.007452084189504302), (2010, 0.007449411360680606), (885, 0.0074288530798184765), (1808, 0.007427848041904526), (3841, 0.007427451944044866), (2567, 0.007402013686263313), (1762, 0.007388676423186284), (1539, 0.007385245076610659), (1392, 0.007363804713614517), (4642, 0.007361207565651998), (2767, 0.007359402864438047), (3360, 0.007356960857380086), (2587, 0.007349959729373134), (1394, 0.007337956935186933), (4285, 0.0073199929098549926), (33, 0.00731945780573935), (336, 0.0072965405992864085), (4238, 0.007278812066758357), (1186, 0.007272379633369781), (1466, 0.0072716282392464564), (97, 0.007268299917223883), (3894, 0.007263773056708936), (4156, 0.007260099448998836), (4635, 0.007235495348909554), (553, 0.007235149239008472), (1014, 0.007226709977787175), (924, 0.0072142876478032405), (4473, 0.007213359168194145), (3655, 0.007207878714250706), (3532, 0.007181726424167105), (4748, 0.007173045234311787), (2942, 0.0071668753909163215), (2676, 0.007152633651639911), (3972, 0.007144406740561682), (2761, 0.007127274893737712), (3391, 0.007123929813514745), (2818, 0.007123519015221649), (3393, 0.007123243406834073), (4741, 0.007107958275829792), (2611, 0.00710548639155042), (2476, 0.007092663776820173), (2864, 0.0070903101780881), (1215, 0.007089361979554084), (60, 0.007084921139345326), (1713, 0.007083015533879627), (4445, 0.007081476750493997), (1565, 0.007079414994901307), (3376, 0.007072504069972887), (296, 0.007069865310115528), (3579, 0.007069620328295875), (1437, 0.007068093858032774), (3383, 0.007062947548970059), (2576, 0.007056644893011757), (1743, 0.007049824893529864), (3200, 0.00703722403785368), (4393, 0.007036600180268455), (2933, 0.007033624046663911), (1560, 0.007029060645333977), (3855, 0.007027651304766928), (3168, 0.007023792202426365), (2710, 0.007013436993332229), (2182, 0.007007364151283967), (4630, 0.006995078584520516), (4185, 0.006994846791732834), (175, 0.006993626516896622), (2810, 0.006990794066611682), (1312, 0.0069894300634794175), (2164, 0.006981759904181291), (1976, 0.00696808921662344), (2479, 0.006965398125537115), (4453, 0.0069645775303355355), (195, 0.00696155676563288), (2603, 0.006956141050376452), (3821, 0.006945925395439178), (2211, 0.006939875318349428), (2614, 0.006939248973009758), (2843, 0.006926682659850228), (4742, 0.006924892711256193), (3928, 0.00691833003132131), (2481, 0.006897232848214986), (3430, 0.006893938386378466), (3927, 0.006893778121586444), (550, 0.006889776886798987), (844, 0.006888355132739726), (2493, 0.0068842286085223515), (3697, 0.006871808017812257), (1554, 0.006867658452324683), (595, 0.006860103573650331), (990, 0.0068521645526154655), (3604, 0.00685114258210512), (69, 0.006848946492555923), (1571, 0.006847516491246632), (2626, 0.0068458320691921325), (3869, 0.006837758471252934), (956, 0.006834098518045653), (2811, 0.006830795345486808), (3802, 0.006830096003588411), (3787, 0.006828893819617555), (3628, 0.00682107294536704), (3263, 0.006795368027914952), (3202, 0.006781926869655382), (513, 0.006780684621222941), (2979, 0.006776821937973132), (2526, 0.0067765271732116985), (4676, 0.006770586444562202), (2860, 0.006767591087064274), (1950, 0.006765135319977215), (514, 0.006764454812639827), (1894, 0.006759340212888189), (4493, 0.006755294619593226), (156, 0.006728199556337348), (2880, 0.0067228173881781735), (3468, 0.006722595510058157), (1770, 0.0067071256289253775), (2243, 0.00669064073034009), (3451, 0.006685725621920749), (3059, 0.006682368215943598), (3782, 0.0066814400008298105), (2670, 0.006676621819359094), (4131, 0.006675070846287488), (3834, 0.006674046177134351), (3850, 0.006666066105121671), (3410, 0.006664852086130983), (1659, 0.006648600787183726), (3846, 0.006647148989070494), (3997, 0.006640547108660029), (2499, 0.006632039782432463), (17, 0.00662601654014696), (3979, 0.0066225272911409), (510, 0.006620376983853707), (3132, 0.006613263207929731), (2208, 0.006611140609281922), (3145, 0.006608819793625374), (2819, 0.006607787235494992), (4384, 0.0066067164332968865), (3538, 0.006604046405943187), (1144, 0.0066032184503659885), (1904, 0.006596584204108782), (3747, 0.006588106861142638), (4392, 0.006568223717344998), (2959, 0.006566513947695565), (4410, 0.006564364638995987), (3362, 0.006558391866458166), (656, 0.006553176779582922), (3968, 0.006550322622579381), (1603, 0.0065459253154799436), (2754, 0.0065395403478821145), (1734, 0.0065358824200860985), (2217, 0.00653005432055453), (55, 0.006517671988084583), (4100, 0.006515815168495031), (3134, 0.006510307347052321), (3591, 0.006510157760439401), (3310, 0.006507180551926593), (2085, 0.006498844860559372), (386, 0.006495137939718187), (2440, 0.006490287884723162), (793, 0.006478013080047506), (3124, 0.0064760561665562245), (3798, 0.00647013198800623), (2238, 0.0064597742518850195), (1469, 0.006457469938744851), (151, 0.00644347587054606), (59, 0.006426593330786287), (4456, 0.006423792060002992), (2353, 0.006422175483261331), (3191, 0.006421649476318048), (3578, 0.006420651356009073), (3199, 0.00641376867000343), (118, 0.0064002230216700816), (3169, 0.0063945825052017895), (572, 0.006394525666873512), (3840, 0.006394397139536342), (2947, 0.006393263879170454), (1901, 0.006392716454540463), (3316, 0.006371012267322814), (2955, 0.00636973150125752), (1108, 0.006364503110138137), (3603, 0.00635668645726085), (3626, 0.0063542591093317564), (528, 0.0063513088359154375), (3404, 0.00634632550099088), (1386, 0.006341551860996553), (592, 0.006335376714059261), (54, 0.006334613758789304), (2118, 0.00632744942294244), (1302, 0.006326462837769183), (3908, 0.006319715359251737), (2549, 0.006317633275112937), (3467, 0.006317374999987775), (3520, 0.006314521362092562), (3332, 0.0063123376512181795), (4041, 0.006309032528194441), (1611, 0.006303718049045949), (3002, 0.006303611378748388), (3676, 0.0063034708695735645), (4271, 0.006294442968802764), (562, 0.0062833812048874275), (4609, 0.006280519322726947), (258, 0.00628020094247243), (2153, 0.006271734548658632), (4103, 0.006271394753884188), (451, 0.006264584386208758), (2506, 0.0062578945934615325), (315, 0.006256825125507417), (1172, 0.0062452213646840326), (2081, 0.006244238786413149), (4310, 0.00624396009410249), (1566, 0.006242649165123985), (4194, 0.006230518655528147), (1269, 0.006227581683152321), (965, 0.006224000339308201), (4128, 0.006214862740878288), (619, 0.006208731416947507), (946, 0.0062072449203501795), (3983, 0.006204833311709867), (4248, 0.006200702150622128), (2850, 0.006199498598004399), (1277, 0.006193560174039603), (4708, 0.006189997075811998), (4719, 0.0061887876436401545), (1604, 0.0061844640433170485), (674, 0.006183229628995496), (3546, 0.006179245078958255), (4509, 0.006174397596330346), (375, 0.006164530461489315), (2847, 0.006158515814520792), (233, 0.006156333409729171), (2298, 0.006155282544119777), (3443, 0.006152465790362606), (1263, 0.006151154162804488), (467, 0.006148793877054133), (4264, 0.006146858407928389), (4754, 0.006142017438208122), (3814, 0.0061353269575038175), (3602, 0.006133226639855822), (1082, 0.00612613911336176), (1696, 0.00611662234995249), (3773, 0.006100735447985273), (4224, 0.006100303244599785), (2232, 0.006093974833549594), (567, 0.006082699556602883), (1846, 0.006076421174450155), (230, 0.006074520801254241), (2351, 0.006071839022488836), (4524, 0.006070381673289799), (1315, 0.0060672722385783796), (4534, 0.006066680748729265), (1019, 0.006064459843631058), (321, 0.006054301391967593), (554, 0.006050744211359305), (3555, 0.00604549797420173), (2150, 0.0060404222264047545), (3610, 0.006008033662012259), (3156, 0.006007788141732248), (1293, 0.0059954511203882035), (1545, 0.005981493807747642), (3126, 0.005973585892681971), (4449, 0.005968706280413898), (3595, 0.005967970324265515), (3605, 0.005963030396554375), (2032, 0.005961022116162655), (1207, 0.005959099981384834), (3700, 0.005924852414801605), (3932, 0.005894440996232773), (293, 0.005888952107960544), (3723, 0.005886695699969812), (3783, 0.005883116618946344), (4281, 0.005879297229047791), (4454, 0.005868683718455721), (4171, 0.005853444220475132), (225, 0.00585031493200128), (468, 0.005836957334498335), (3858, 0.005833301490536517), (1898, 0.005832551729146697), (3100, 0.0058266204484083185), (565, 0.005825999948608695), (2785, 0.005824238793155055), (3136, 0.005817685506395184), (2052, 0.005817207307867657), (2958, 0.005811138642440231), (46, 0.005797554018505771), (3143, 0.005793176896321162), (1135, 0.005788341127685696), (2873, 0.005777605247813169), (2339, 0.005777586391714833), (3039, 0.005756318990280617), (1928, 0.005750951892840443), (2315, 0.005749370171742654), (3528, 0.005745963604088112), (379, 0.005744410390435741), (2532, 0.005742798512913721), (2518, 0.005742633244530707), (382, 0.005737173484866209), (4439, 0.005732942037257634), (3923, 0.005731408876731207), (160, 0.005717391623322546), (4186, 0.005709906089240299), (3325, 0.00570907869733769), (3738, 0.005705377004317107), (2125, 0.005704864034683991), (36, 0.005700192198394998), (1281, 0.005693252296829588), (250, 0.005692216719359674), (3130, 0.005690485430470837), (4153, 0.0056842429565086335), (2033, 0.0056738155194179605), (4193, 0.005672612743212328), (747, 0.005671401876363904), (4120, 0.005670217485738439), (4044, 0.005659666951045298), (4447, 0.005659100089278064), (3817, 0.005658726784328443), (2218, 0.005655276360412378), (4064, 0.005643112714711608), (3247, 0.0056414547394964204), (1310, 0.00562978724652248), (3600, 0.0056246152473188055), (2426, 0.00562223870769345), (2185, 0.005587998724360236), (700, 0.005581068673692151), (3831, 0.005578277886717864), (1870, 0.005575074188267777), (677, 0.005574849713817444), (1, 0.00557144592489913), (1154, 0.005559795749953738), (4240, 0.005553168768461637), (2458, 0.0055435758636232825), (2935, 0.005539829479908163), (1640, 0.0054942021927570335), (4151, 0.0054901419669239815), (1283, 0.005485469893183739), (1952, 0.005477737275365071), (1390, 0.005472827655767912), (420, 0.005469973626926645), (2433, 0.005462355997232634), (2637, 0.005461539842541774), (1520, 0.00546070681934394), (2263, 0.005459605103282216), (2820, 0.005455855329790653), (4351, 0.005455192390527737), (2443, 0.0054393607275609185), (3525, 0.005422854512361797), (3461, 0.005422320329318238), (2283, 0.005420999102638946), (2086, 0.005417848614538604), (1379, 0.005406504042185422), (361, 0.005399844730479814), (2147, 0.005399424777099099), (2719, 0.005398382912296122), (3897, 0.0053933861230622895), (1426, 0.005389409930110893), (4613, 0.005385065958933089), (3630, 0.0053837175790013), (2822, 0.005383246336797944), (3103, 0.0053745950768645185), (3339, 0.005368001941504179), (4695, 0.005361026362518352), (781, 0.005357190632389306), (3277, 0.005356252714846195), (344, 0.005350140340223372), (3958, 0.005349135939829998), (3969, 0.005343982945985209), (1336, 0.005341257090561805), (1745, 0.005338934868396081), (1309, 0.005338498885322828), (1718, 0.005332033025481134), (3693, 0.005322064110887523), (4621, 0.0053156664697190355), (298, 0.005313840321614249), (3378, 0.005308169302938273), (1613, 0.005291186287764047), (2259, 0.005288219808356563), (3534, 0.005277061285808241), (1155, 0.005275939309373536), (2197, 0.005275684927494296), (2511, 0.005272729440980914), (2816, 0.005263426761086034), (3648, 0.0052633300743021826), (3549, 0.005260878742945319), (4467, 0.005254534545286578), (971, 0.005236004362376103), (2431, 0.005235463348918226), (778, 0.005235052421233624), (4388, 0.005231188073187221), (3722, 0.005230189827091312), (3213, 0.0052287037390563494), (1726, 0.005220013958720269), (3215, 0.005216629705837773), (1431, 0.005208920723246938), (2678, 0.005204059938339276), (110, 0.005198946657619986), (3552, 0.005196996235857626), (1704, 0.00518541148576751), (1250, 0.0051847286167521316), (3810, 0.0051834851563470905), (2227, 0.005183158270672293), (1322, 0.005178333839584919), (28, 0.005164787557144342), (2278, 0.005160672155634368), (3650, 0.005154375948325054), (611, 0.005133876849851391), (2414, 0.005127683678205521), (1296, 0.005126725495746545), (2439, 0.005121188423447051), (736, 0.005121024103995862), (529, 0.005118356400623245), (1908, 0.005113950101092372), (347, 0.0051041401866905815), (1804, 0.0051023553374217705), (938, 0.005098974842176945), (2813, 0.005097764028001358), (2198, 0.005096607485409579), (3926, 0.005095089622594712), (602, 0.005092821318376855), (1326, 0.005091991040305985), (1297, 0.005091175743400148), (272, 0.005085395000320636), (3033, 0.005084032820992442), (4006, 0.005083919236037769), (2046, 0.005080574337198386), (1501, 0.005080476168050637), (4592, 0.005071163417373038), (3594, 0.005066819112893445), (1022, 0.005063649638821336), (525, 0.005059681009214575), (439, 0.005056978563938748), (440, 0.0050534736471634445), (1238, 0.005052238796663333), (3178, 0.005052103385322938), (4482, 0.005045308049602875), (3818, 0.005044675002982035), (65, 0.005044484483785122), (2503, 0.005044304642666962), (2480, 0.005043194488864113), (1239, 0.005040705681988145), (1447, 0.005017440185097648), (1852, 0.005016363222249951), (2646, 0.005011958597659981), (2128, 0.0050022663790805465), (3644, 0.004997888736411565), (1888, 0.0049970355097119805), (1576, 0.004996187322869623), (2807, 0.004990447141261005), (4157, 0.004984914722215001), (1130, 0.004984632309526848), (150, 0.004979571960014959), (4218, 0.004975823051387429), (3066, 0.004970006150986848), (2504, 0.00496663029042767), (618, 0.004966097562122542), (2322, 0.004955168640427859), (3994, 0.004943415170180316), (1373, 0.004928196076610905), (1146, 0.004918545542697469), (1267, 0.004917518984583865), (2003, 0.004914448448264395), (1347, 0.00491344911968024), (4217, 0.004913206390019189), (3011, 0.004912151115718567), (1493, 0.004904246723724338), (2056, 0.00490194580253828), (3512, 0.004899873050304475), (3562, 0.004899801491295841), (521, 0.004897685235737432), (4252, 0.004894286367601292), (585, 0.004893554127060798), (2757, 0.004890803824443425), (3886, 0.004885314470866206), (3053, 0.0048816179135447845), (427, 0.00487928103784056), (1632, 0.004877268446965467), (4438, 0.004876929675521035), (2829, 0.0048736714675435), (4279, 0.00486451355088217), (1526, 0.0048610935354547), (2409, 0.004844891403826287), (4441, 0.004832226763166546), (1988, 0.0048205478610021625), (3712, 0.004818564658314092), (1728, 0.00481849129589352), (3891, 0.004817269606049761), (4555, 0.004815936546726327), (4292, 0.004792787109388358), (1824, 0.00478161737323336), (1914, 0.004780801899829206), (3566, 0.0047783100783994), (3320, 0.004777735155838396), (1903, 0.004758553558765354), (3925, 0.004756273001503454), (3121, 0.0047506644373409455), (3909, 0.004746055521217636), (2327, 0.004742757088304024), (1662, 0.004741092636775561), (1778, 0.004738136362695126), (1430, 0.00473001980850668), (3083, 0.004728799154482307), (2615, 0.004725394699645427), (549, 0.004719660657472437), (3321, 0.004706693496688979), (978, 0.004705148179353068), (335, 0.004702765847136356), (4009, 0.004700231962188331), (2497, 0.004698136891456819), (2491, 0.004690056824260225), (4342, 0.004687558099545006), (409, 0.004683330958925172), (2666, 0.0046762520303950394), (1984, 0.004675429046502029), (332, 0.004670537690235223), (1157, 0.004667408550879959), (1524, 0.004658872284518787), (354, 0.004655187574787039), (14, 0.004654817247543932), (1794, 0.004654689456214254), (4339, 0.004646721615666626), (1568, 0.004642110515535796), (2654, 0.004635984775216617), (1990, 0.004634470022477485), (511, 0.004632847198774594), (3295, 0.0046292795648774625), (1288, 0.004628393295979609), (352, 0.004623398366471571), (337, 0.0046169814054709025), (2379, 0.004611568247461537), (583, 0.004611567922254102), (1171, 0.004607908160116643), (2490, 0.0046055801247277565), (4109, 0.004602779894054972), (2262, 0.004582852590478545), (3523, 0.004580685625396877), (3231, 0.0045552879331380355), (2764, 0.004552461723676039), (3672, 0.004540599724712591), (3865, 0.004536562593375177), (1025, 0.004533111483483311), (2156, 0.0045296388088297964), (2137, 0.004528924548740929), (1994, 0.00452612914610575), (3139, 0.004524089707029217), (4057, 0.0045215204174947395), (4082, 0.004514068320089582), (882, 0.0045092194651128546), (820, 0.004493469110857112), (2722, 0.004485799489731993), (2189, 0.004485500934275847), (2906, 0.004478466468635159), (545, 0.004468672765877021), (3040, 0.004462439979929572), (2608, 0.004455445760853905), (3803, 0.00445068126937776), (2805, 0.00444827951299058), (1482, 0.00444639081896103), (2251, 0.004445987281413037), (2349, 0.004424321846681262), (1145, 0.004418633006668491), (2407, 0.004417034658814273), (3990, 0.004410576916439143), (1559, 0.004402520887350757), (3748, 0.004401307746564631), (2889, 0.004398803035682153), (1521, 0.004393394921304799), (2537, 0.004383470050820491), (1153, 0.004373453940816293), (4704, 0.004365312880466951), (2, 0.004364812244578101), (3052, 0.004364588958834822), (2801, 0.004363684126131911), (735, 0.0043633286425609355), (2291, 0.004358142171889936), (3055, 0.0043481302169469434), (2775, 0.0043379574084697736), (1120, 0.0043369347551096265), (4017, 0.0043362027754514755), (2870, 0.00433175693499226), (3561, 0.004331695320898679), (3042, 0.004329570742802182), (3030, 0.004328810518695692), (627, 0.0043268415927499625), (2883, 0.004324149097685731), (1178, 0.004321315584547796), (2855, 0.004313817786589319), (2204, 0.004312210989699298), (3164, 0.004307806558252448), (2923, 0.004305381210089127), (3291, 0.004294069214540815), (4749, 0.0042883453448040836), (4529, 0.004284383397507994), (1279, 0.004282866905069531), (3481, 0.0042812227752087205), (2484, 0.004272472852608864), (575, 0.004267459149542011), (3479, 0.00426738218166126), (58, 0.004265315828226961), (64, 0.004260495596709459), (4484, 0.004260377476234465), (2694, 0.004256454462761453), (186, 0.004254010627067112), (3429, 0.004240987182115801), (2861, 0.004235439681428552), (2655, 0.0042346244211212145), (1221, 0.0042291404940990665), (2789, 0.0042283264696613525), (4172, 0.004224374982325439), (3878, 0.004199746427115737), (2628, 0.004183052465616493), (4407, 0.004179669775117856), (3219, 0.004175907701776305), (2448, 0.004173106102913447), (2392, 0.004172175756772705), (3292, 0.0041713377647190466), (3892, 0.004153912610234106), (3282, 0.004143977561757353), (4423, 0.004143559239396178), (2425, 0.00414135904190907), (2643, 0.004132627517440891), (4546, 0.004130391581468097), (237, 0.004126905303134906), (2255, 0.0041226076957829655), (1695, 0.004117348582679046), (2257, 0.004114025996538057), (3322, 0.004112524472179406), (889, 0.0041123795227815604), (3262, 0.004111551061578744), (2350, 0.004106077783069278), (2901, 0.004102609257257369), (3944, 0.004100514826842913), (4230, 0.0040942913570468755), (2838, 0.004083652794216234), (4400, 0.004073421114209477), (4102, 0.004057187499806109), (3848, 0.004053973734424089), (3015, 0.004049190036545037), (2734, 0.004043100090567811), (2306, 0.004042803218042235), (4710, 0.004039064566387407), (807, 0.004038868037698492), (2377, 0.004038085759404783), (3128, 0.004027996927146517), (2423, 0.004026999299526112), (526, 0.00401816698822171), (1121, 0.004003339018993903), (168, 0.003997951666589434), (3249, 0.003996531561933463), (2326, 0.00399439750701592), (3687, 0.0039910912624329855), (2544, 0.003989937256874309), (4544, 0.003986212441226596), (3537, 0.0039634110907364305), (2438, 0.003957978996400503), (4306, 0.0039505464673506175), (3922, 0.003944641959991388), (3613, 0.003941318342137944), (3521, 0.003936585835148616), (421, 0.003934159736387871), (4572, 0.003921696438676452), (4209, 0.00391558636700691), (326, 0.003913256404172072), (2797, 0.003911139222714316), (2957, 0.003909248467821847), (3874, 0.003907457654657542), (2488, 0.0039051344938448923), (3031, 0.0039033553506004084), (3832, 0.003900919330691848), (2848, 0.00390039542003881), (3123, 0.0038976077732138558), (402, 0.0038953899353798478), (3302, 0.003893304431618288), (2879, 0.0038915051555467265), (3620, 0.0038910193553923704), (4147, 0.0038908179460709286), (3544, 0.0038896248421615414), (1655, 0.0038869503594691113), (2966, 0.0038844940730147566), (3358, 0.003879340882746052), (3020, 0.0038791885258969215), (1593, 0.003872431519670368), (3779, 0.003858556468501439), (2993, 0.0038541626993079366), (3901, 0.0038536579672910597), (3257, 0.0038503023841258564), (2619, 0.003848063070676177), (1429, 0.003841437406026894), (2398, 0.003840609546493882), (777, 0.0038405179947741375), (3413, 0.0038380616417479666), (3356, 0.003836715980608648), (489, 0.0038225024385826474), (2434, 0.0038200458697389182), (3911, 0.0038182399321307525), (4458, 0.0038110148506128086), (1049, 0.003789014779391261), (4280, 0.00378698723598279), (3308, 0.003782988044621346), (2986, 0.0037796648481529284), (4717, 0.003773079096663813), (431, 0.0037684178600311652), (4632, 0.003767201243691484), (3763, 0.0037658742070609476), (2613, 0.0037644525148517005), (4416, 0.0037613026491831124), (2570, 0.0037608905892369867), (3081, 0.0037605536460209015), (3621, 0.0037600572752165213), (3524, 0.003759568392325577), (4584, 0.003756661895660417), (2089, 0.0037547406165347294), (1187, 0.0037542938184213144), (518, 0.003746065929099368), (4412, 0.0037431483411174454), (2417, 0.003741343593236241), (1748, 0.003741160291058259), (4030, 0.0037401059798807903), (1169, 0.0037397766655949028), (2846, 0.003738952886688065), (3094, 0.003738885442807904), (4075, 0.003728515783214387), (3540, 0.0037269337737725235), (2142, 0.0037267532299023304), (3359, 0.003718715402577554), (4126, 0.003718302990050307), (2696, 0.0037145321227439847), (3072, 0.0037139132324524302), (3307, 0.003711777273886515), (1947, 0.003709437458406678), (2269, 0.003708630448131294), (2924, 0.003705841099744618), (3754, 0.0037057445846362474), (4163, 0.0037046968084286755), (3729, 0.0037031876991112404), (3425, 0.0037024975315304385), (4713, 0.0036990459583258082), (3408, 0.003695242885073062), (4398, 0.0036923620703423706), (2987, 0.0036889688593513704), (2884, 0.003688718652655284), (3337, 0.003687001318373181), (3396, 0.0036857330021610336), (3506, 0.003685401107741194), (823, 0.0036831863224869323), (4650, 0.003682505243127951), (2872, 0.003678212473331362), (3355, 0.0036762054499685348), (925, 0.0036741784511093297), (4507, 0.003670279431296292), (2187, 0.003667334350016049), (3952, 0.00366443839900126), (4516, 0.003664169413293125), (1656, 0.003663500079976476), (2796, 0.0036568400757892834), (3423, 0.0036562583981637198), (985, 0.003655304809325138), (1924, 0.0036505647833189564), (4295, 0.0036483048888541775), (1497, 0.0036468158309929223), (739, 0.003646244441319338), (4753, 0.003643644623288703), (4243, 0.0036377166113250176), (3772, 0.0036363593712797327), (3296, 0.003634346285627181), (2223, 0.003633198506239776), (3611, 0.003630695761693286), (2051, 0.0036304923982741415), (3867, 0.003629993468135539), (2302, 0.003629416641657778), (2629, 0.003627308409318381), (2437, 0.003626938012347227), (1909, 0.003626898762930195), (1843, 0.0036242609595327196), (107, 0.003624111255529204), (2893, 0.0036236546748488), (3186, 0.003623155449894637), (998, 0.0036224121077496137), (2411, 0.0036182748064839177), (3148, 0.0036178835341164287), (4731, 0.0036178701521128974), (2623, 0.003617433647080173), (478, 0.003616380136521172), (2400, 0.003614170787540218), (1383, 0.0036070625654763), (4699, 0.0036053162520312495), (3013, 0.0036046722872804834), (576, 0.003602130441387076), (3274, 0.0036003365413372532), (419, 0.0035988654093919298), (4333, 0.003595624801436372), (3962, 0.0035887651270419926), (2974, 0.0035875779160112475), (922, 0.0035850367457363284), (4718, 0.0035837476828109154), (3196, 0.0035831689854523225), (4160, 0.0035826506741178385), (2579, 0.0035817259420548087), (596, 0.0035802938698619455), (2916, 0.0035792069686520277), (1862, 0.0035787215178358354), (3032, 0.00357669678406327), (436, 0.003575108114396966), (4396, 0.00357504259346607), (3146, 0.0035742158178224777), (308, 0.0035732029064458846), (3737, 0.0035680624452478294), (3804, 0.0035645066908251374), (3248, 0.0035636977540778954), (444, 0.0035603760245821315), (3273, 0.003557446065415559), (2209, 0.0035574218100382186), (2585, 0.003557175986561117), (3157, 0.0035566535773277276), (2830, 0.0035562890053860556), (4593, 0.0035531884294727426), (4706, 0.0035500600054448306), (4259, 0.0035493561895057345), (4113, 0.0035491630493213375), (2108, 0.0035466546481313123), (4138, 0.0035418763770339885), (2535, 0.003541618893447528), (1960, 0.003537923465377707), (1658, 0.003537742632036134), (2592, 0.003537517388814657), (3967, 0.003532387783103055), (3026, 0.0035303981487683537), (3101, 0.003530284528150919), (4042, 0.0035292676134649624), (857, 0.0035286248590743453), (62, 0.0035279016217596337), (2176, 0.0035274665749661866), (1580, 0.0035260062715065563), (2890, 0.0035259823876060566), (2159, 0.0035235656733794865), (2049, 0.003522757037802567), (4263, 0.003519448281910544), (3417, 0.003519365255097927), (587, 0.003514246872151086), (3116, 0.0035113641238470644), (2375, 0.003510462562905709), (476, 0.003507615545317773), (2410, 0.003505453397084227), (1479, 0.0035046785419357352), (4308, 0.0035042126803734716), (3183, 0.0034991172361515366), (4601, 0.003497511369003451), (2624, 0.003496461810777098), (253, 0.003493603833581928), (3714, 0.00349268180889484), (318, 0.0034920408859355286), (4140, 0.0034913514252979966), (3497, 0.0034913143191068097), (1866, 0.0034891344979559756), (4101, 0.0034876186207900405), (3813, 0.0034865148798115192), (3749, 0.003484052134481671), (1905, 0.003483727054345689), (2293, 0.0034830573038950414), (4522, 0.0034822704958237718), (1805, 0.0034814509252945186), (499, 0.0034774529357061872), (2915, 0.003474910162590408), (2748, 0.003474733291127196), (3258, 0.003474660736127623), (887, 0.0034744693420151462), (4087, 0.0034736377521334062), (3915, 0.0034707539411350883), (8, 0.0034702594525806017), (4528, 0.003470210586844169), (3889, 0.003465465518596145), (2705, 0.003459921087760943), (4545, 0.003457925828718052), (1959, 0.0034565293552942388), (952, 0.00345419390376202), (794, 0.003453267225836399), (4734, 0.003453245618462301), (4024, 0.003450710771608277), (2116, 0.003448743780475066), (2190, 0.0034443478410557146), (4579, 0.0034442459774690496), (2776, 0.003441523231788243), (1518, 0.0034414540022628354), (430, 0.0034393005755940023), (4161, 0.003437622330465682), (4657, 0.003436664599574006), (2475, 0.0034363738731167997), (1995, 0.003435960586739588), (1359, 0.003433624547791809), (4540, 0.003433459551327325), (4245, 0.003433177437581093), (791, 0.003432733199186414), (3184, 0.003432089263783286), (2661, 0.003430273441965662), (395, 0.0034283437766277), (2723, 0.0034269988739505674), (4371, 0.0034266015232454986), (4495, 0.0034226347110525223), (2786, 0.003421920005458625), (4574, 0.0034213868383738935), (4111, 0.0034207411715074768), (1409, 0.0034185150196520396), (2260, 0.0034182605306463244), (3728, 0.0034169657294020185), (3873, 0.00341678809820181), (1712, 0.0034155634199484726), (227, 0.003414974594232822), (2949, 0.0034142161994134028), (2391, 0.0034128621754332005), (2104, 0.0034125905670345682), (2393, 0.003410060470271965), (3601, 0.0034078469200220615), (2151, 0.003406898709638805), (2664, 0.0034066248137046987), (3235, 0.003406420920038567), (4357, 0.0034061724840508656), (2970, 0.0034059545429792402), (4355, 0.0034041812861395873), (4169, 0.003403787198224464), (3987, 0.003403330040941018), (2105, 0.0034026324571516525), (3973, 0.0034021286845553832), (1779, 0.003402035478414924), (3434, 0.003399483114158724), (246, 0.003398229441966108), (3590, 0.003394317188950941), (623, 0.0033937719983803123), (493, 0.0033926906016658563), (612, 0.003392644130187087), (2821, 0.0033922652980221133), (3084, 0.0033890780584581734), (4489, 0.0033890238571006605), (3314, 0.0033889642428952993), (4471, 0.00338851278194856), (4054, 0.003388246964848153), (456, 0.003385485849787264), (3326, 0.0033843555422359284), (4505, 0.0033823255685852278), (2953, 0.0033822627963077255), (4575, 0.003380958590824847), (1685, 0.0033807861728772817), (2288, 0.003379901652854203), (4318, 0.003376545166153637), (3037, 0.003372926829120771), (3406, 0.0033722831141473992), (4, 0.003371522803955377), (4420, 0.0033693987957020234), (4566, 0.003368483882686406), (1400, 0.0033683092306813272), (2394, 0.0033670068564379653), (1075, 0.0033661329239414264), (783, 0.0033660939990890703), (3511, 0.003363598839522048), (3882, 0.0033630294841898822), (1902, 0.0033587005754359216), (2419, 0.003357098065596372), (3372, 0.0033559302581692672), (3242, 0.003354838132691113), (4225, 0.0033543078847054174), (1188, 0.003353901617705355), (255, 0.0033461176222068308), (4497, 0.003345435418486902), (3493, 0.003344494708832154), (4354, 0.0033427328656352585), (2926, 0.0033418005963656524), (3770, 0.003341491750649557), (4083, 0.003336038391810875), (3845, 0.0033329615820399156), (2601, 0.0033324788180966766), (1475, 0.0033311504616048626), (23, 0.003329883003221714), (2545, 0.0033291151298860894), (3224, 0.003326809029346628), (3902, 0.0033247364969829067), (1083, 0.003324684389298095), (884, 0.00332451857844218), (2904, 0.003323568197110086), (2405, 0.0033234180424886062), (3353, 0.003322053253296881), (4625, 0.0033178296395332), (4756, 0.0033167089923628467), (3349, 0.0033151704251974568), (987, 0.003314317845462343), (1124, 0.003312825831705507), (4079, 0.003312495746729879), (2744, 0.003311695308273118), (774, 0.00331090630413697), (2123, 0.003307447495568342), (1703, 0.0033061502883957408), (1765, 0.003304889706031591), (4340, 0.003304862321198094), (3527, 0.003303066752779132), (4334, 0.0033026178482018164), (4287, 0.00330125018566533), (3198, 0.003300976886997017), (606, 0.003299648703959041), (1382, 0.0032982456517496902), (2988, 0.0032956929302031383), (2863, 0.003294706544815702), (4470, 0.0032944276575570934), (3636, 0.003292993484247724), (377, 0.0032923586154804388), (1717, 0.0032909132273655404), (3153, 0.0032904302968690944), (2048, 0.0032888854055172596), (3290, 0.0032884134937008224), (4643, 0.003286893273715554), (1860, 0.0032861993186547446), (743, 0.0032835693022909653), (176, 0.0032834094672346387), (871, 0.0032832176840711185), (2230, 0.003281632508493394), (865, 0.00328103573560832), (3016, 0.003280375086238098), (1294, 0.0032803059925149416), (2894, 0.00327912108987691), (509, 0.003276949487310513), (4563, 0.003276654581819602), (3289, 0.0032747350695345664), (3809, 0.003273912217742283), (1355, 0.0032722563462928432), (3000, 0.0032716728361687334), (4533, 0.0032703204854415214), (4273, 0.003269902316595967), (3542, 0.003269374505606744), (3571, 0.00326748725899493), (115, 0.0032673691769234893), (2386, 0.0032669247871746267), (933, 0.0032633906032659295), (1176, 0.00326176675155361), (969, 0.0032614924326630095), (1182, 0.0032601777120680048), (406, 0.003260162538362699), (593, 0.0032592098654514712), (3113, 0.0032591475585807194), (238, 0.0032590859067736953), (3606, 0.0032580402372546966), (4197, 0.003257537704495252), (3653, 0.0032572870921741123), (750, 0.0032553984335899587), (3182, 0.003255094720386882), (2292, 0.0032544956281273427), (2155, 0.003251261786998283), (2397, 0.0032498240860683036), (3792, 0.00324956812376428), (2746, 0.003248983005660338), (2313, 0.003244200697784272), (4049, 0.0032429892998450584), (198, 0.003242115351198081), (1204, 0.0032420526852682437), (1533, 0.0032413609607463956), (579, 0.003239181118717123), (2374, 0.0032384227907699824), (2887, 0.003237778210519937), (4014, 0.0032331079716931437), (1872, 0.003231896295995481), (4677, 0.0032296924228283675), (1410, 0.0032295526700162505), (3335, 0.00322856171843687), (4501, 0.0032283508480616956), (636, 0.003227103286731447), (1722, 0.0032267930547640374), (2122, 0.003225840366531153), (2745, 0.00322531457630987), (1175, 0.003224800659927127), (1706, 0.0032245065392152044), (2396, 0.003224445391735534), (4266, 0.0032243832910264585), (2144, 0.003223173145644785), (2192, 0.003217943884434957), (2606, 0.0032174721090883185), (2783, 0.003215762429328), (4517, 0.003214731949665696), (2533, 0.0032138529064827236), (378, 0.0032090887828263607), (697, 0.003208761285248964), (1131, 0.003206067445044948), (3341, 0.0032043517433791436), (4715, 0.003203647203157658), (1488, 0.0032034375641147436), (2340, 0.0032033194140910818), (2344, 0.0032020453964324803), (2831, 0.0031990747312805683), (114, 0.003198442637852841), (761, 0.003195878068926791), (2558, 0.003195824283976829), (3478, 0.003195410947951471), (226, 0.0031949654432276405), (4427, 0.003191817113284047), (66, 0.0031891704611295845), (4320, 0.0031872885319448718), (3346, 0.0031869092134828585), (1021, 0.0031828881269607015), (3673, 0.0031824622981381744), (1612, 0.0031819547519619453), (3216, 0.00317981679556931), (1298, 0.0031777006477020342), (2999, 0.003177284084850121), (4409, 0.0031765005355786336), (2289, 0.0031732760211294515), (1811, 0.003169706896006111), (3727, 0.0031682139902477636), (1891, 0.003167677996706399), (1634, 0.003167031403787651), (400, 0.003166065071835131), (3624, 0.003165793471982351), (1072, 0.003164897936775823), (4520, 0.003163243965838773), (2060, 0.0031629567401145605), (3565, 0.0031624027067009832), (1831, 0.003159455560775643), (247, 0.0031594553061706433), (466, 0.0031591222768528886), (464, 0.003158499918235525), (2569, 0.0031574404993905307), (174, 0.003156258720721153), (61, 0.003154763353854627), (1598, 0.003154325763029402), (374, 0.0031526689895274886), (1550, 0.003150880033355243), (880, 0.00314951823026246), (867, 0.0031492145483139984), (1313, 0.0031487721971380084), (4668, 0.003148545402240421), (4487, 0.0031481482508714568), (3173, 0.0031468802528499904), (2173, 0.0031465579536737163), (3093, 0.0031447249504316746), (2946, 0.0031446880691360355), (3906, 0.0031438805224781948), (3647, 0.003143866151227008), (2687, 0.0031437719188072365), (4349, 0.0031420767676395584), (2069, 0.0031395376728788056), (3499, 0.0031391246904469467), (1026, 0.0031355672367568963), (2980, 0.0031338768432866743), (3827, 0.00313301856334195), (3379, 0.0031328001969587104), (1286, 0.003132612702200459), (1882, 0.0031308129202464725), (2111, 0.003130029569772386), (98, 0.003128914757263818), (4362, 0.003128792155592395), (2945, 0.003127894321717566), (26, 0.0031265342098189836), (4530, 0.003125082426642535), (2226, 0.0031245418020955313), (2802, 0.0031245384030035906), (4641, 0.0031215251291610902), (3069, 0.0031204715395164997), (4299, 0.0031193886984617384), (3719, 0.0031188928061275643), (4309, 0.0031188085154182778), (2909, 0.0031164219740377856), (3402, 0.003113854191297005), (1408, 0.003112097521794977), (127, 0.003111337964351594), (1284, 0.0031105700357979185), (693, 0.00311006262939836), (358, 0.003107755238587371), (2008, 0.003107511843994299), (2401, 0.003105505254602205), (755, 0.003105382291004512), (4693, 0.003103924033961657), (959, 0.003103708040847507), (3075, 0.0031033908152102736), (1813, 0.0031022472627740753), (522, 0.003101778220263341), (329, 0.0030997895832575784), (4183, 0.003099231871785962), (349, 0.0030991372875624023), (2461, 0.0030982153326634264), (4381, 0.0030978188002435524), (1245, 0.0030974182292179842), (2912, 0.003094085136351822), (4129, 0.003092926600208476), (3348, 0.0030923822784125147), (817, 0.0030922475129328423), (488, 0.0030907586020036955), (4382, 0.0030898424876703067), (167, 0.003086947669817025), (3298, 0.0030866816990684116), (4336, 0.0030864849394589083), (1247, 0.0030863232102010772), (4139, 0.0030856606071610047), (2653, 0.003083521396386666), (2716, 0.0030778775849791867), (4461, 0.0030761774461416057), (3352, 0.0030728811924489296), (646, 0.0030728678112476706), (3487, 0.003072275319561099), (1117, 0.0030696799029988234), (4729, 0.0030693540313527575), (1020, 0.0030656347769288084), (3503, 0.0030640773577998654), (1034, 0.003060096489654259), (487, 0.003058890794594223), (1027, 0.003055548129767613), (2141, 0.0030542164354138), (4567, 0.0030539761435606333), (3498, 0.0030530759790518207), (4536, 0.003052866020545015), (3315, 0.0030525111649493306), (2309, 0.0030524235237900602), (4614, 0.0030521783490685185), (3214, 0.003050621830754965), (3268, 0.0030497980986272768), (1744, 0.003048351574513966), (1929, 0.0030462501212393965), (3390, 0.0030445438527966664), (3733, 0.0030433209004689108), (2473, 0.003043202305016313), (4321, 0.0030421642891462304), (3035, 0.003041998987602919), (4085, 0.0030413036742053742), (3691, 0.0030405746788702724), (164, 0.0030405549830368177), (3170, 0.0030399136130581667), (4213, 0.0030384820734435086), (3036, 0.0030380045955051742), (2242, 0.00303722146035875), (505, 0.003035571573486594), (1878, 0.003034007857664267), (3898, 0.0030323238550233112), (437, 0.0030319989192801517), (2995, 0.003028445146118638), (373, 0.0030283529204886434), (2572, 0.003026918386218034), (2679, 0.003023707796710497), (203, 0.0030234762822303326), (698, 0.003023251451073032), (2598, 0.0030232004872665025), (2133, 0.0030223880251941822), (2997, 0.0030202469588865846), (325, 0.0030195502575329995), (1759, 0.003019207135126288), (2800, 0.003018957816039251), (818, 0.0030187184357565824), (1032, 0.0030180799385991835), (3014, 0.0030165501890199497), (3194, 0.0030160462883910243), (116, 0.00301583441675622), (3954, 0.0030157564457502597), (1036, 0.003013739697695215), (3811, 0.003012348321245438), (2972, 0.0030119808348755754), (1663, 0.0030103026952989684), (1177, 0.003010079349840097), (3433, 0.0030087687456672734), (31, 0.0030051846861060614), (694, 0.0030048684579252693), (2004, 0.00300326870372748), (3300, 0.003002871750437719), (4011, 0.003000968165912577), (4254, 0.0030003347730304234), (1203, 0.0030002143265832346), (1693, 0.003000211795248363), (154, 0.0029993950372536288), (1372, 0.00299748282092842), (307, 0.002997272026200846), (886, 0.002995710772719227), (140, 0.0029932269090117017), (3243, 0.002992801448931885), (734, 0.0029925887674527646), (975, 0.0029913875462683846), (2496, 0.00298826122664032), (900, 0.0029876535720313162), (2099, 0.002986675896312325), (1884, 0.0029866440066675802), (2149, 0.0029856156063366407), (471, 0.0029840455685965985), (4603, 0.0029806702854696734), (3452, 0.0029796485216736822), (598, 0.0029772291581391165), (944, 0.002977093612612901), (1819, 0.002976964296553036), (659, 0.002976491476775846), (3725, 0.0029752969195822212), (213, 0.0029740328618598696), (1433, 0.002972813498580494), (2201, 0.002972511765900247), (4356, 0.0029717534817374947), (838, 0.0029712772754141525), (3829, 0.002970317880202953), (2528, 0.002967421779760337), (3500, 0.0029645665245156007), (2907, 0.0029635327185446743), (1641, 0.0029631635215727698), (2556, 0.002962967393784617), (589, 0.0029614077386539957), (2129, 0.0029608807830399145), (399, 0.0029608759177595207), (766, 0.0029566263067613502), (3627, 0.002956561624046577), (1519, 0.0029548859810070898), (1920, 0.0029545130500609556), (1448, 0.0029525755720402015), (4616, 0.0029517686024791295), (136, 0.002950816858462223), (3558, 0.0029500381288639897), (2593, 0.002948142200364381), (3369, 0.002947448079614162), (3839, 0.0029473383614111778), (15, 0.0029473322636128486), (355, 0.0029464660753778676), (638, 0.002945080303296572), (3656, 0.002944871529510634), (1543, 0.002943971751359331), (4479, 0.0029430087520875893), (2845, 0.0029410865799921254), (1079, 0.0029384724731451295), (2347, 0.0029374347213154514), (2453, 0.0029368560547123035), (121, 0.0029368456603362254), (3767, 0.002935304863541661), (3455, 0.0029340035533014473), (3876, 0.0029331711087359517), (457, 0.0029327736307805078), (359, 0.002932440145400485), (1462, 0.0029308904707607674), (183, 0.002930553030013611), (4326, 0.0029296135717995645), (2362, 0.0029291155649184856), (3050, 0.0029275893074168753), (4277, 0.0029268466876017224), (1672, 0.0029252009437297074), (910, 0.0029250640806778917), (1628, 0.0029237788293574626), (624, 0.0029227519196677026), (3329, 0.0029212573728727193), (1434, 0.0029173956592067956), (218, 0.002917255677031035), (465, 0.002917253924430676), (4638, 0.002914851963822515), (1730, 0.0029132114881341986), (759, 0.002909320206361737), (2728, 0.0029085420864493677), (3278, 0.002905529279832991), (1528, 0.002902327776554824), (1892, 0.002901572626817548), (2265, 0.002900852397196369), (1538, 0.0029004361282702162), (1865, 0.002898847028680993), (608, 0.00289654361844915), (968, 0.0028945616476909212), (2402, 0.0028938283712107464), (3304, 0.002893396810232247), (1869, 0.0028931178328767205), (3614, 0.0028922840162686828), (3705, 0.002891469340392373), (473, 0.002890907610223429), (449, 0.0028899592107897785), (1827, 0.002889545182445594), (1826, 0.002889482357764273), (4154, 0.0028874076950137426), (1605, 0.0028868095172508218), (1161, 0.002884464287913581), (2323, 0.0028836077739279172), (563, 0.0028813625077338647), (4350, 0.00288015559928987), (1690, 0.0028789476157628576), (1080, 0.002876606415686075), (3974, 0.0028760506723216604), (936, 0.0028751244928302173), (2457, 0.0028743978129764907), (1625, 0.002873346516742309), (2248, 0.0028727356230981746), (161, 0.002872197397040576), (3863, 0.00287138477509996), (4304, 0.00286790032566594), (2591, 0.002866768217342668), (158, 0.00286629341760848), (1980, 0.0028660502054015016), (2191, 0.002865707545252267), (4080, 0.002865087793927445), (1004, 0.002864098652296307), (3167, 0.0028616516504035403), (917, 0.002860181892650095), (815, 0.0028547556627431885), (2580, 0.0028536050989600046), (732, 0.002852536263107014), (2163, 0.0028512106770166765), (1414, 0.002850693842797092), (268, 0.002849985903380622), (1318, 0.0028497911709618024), (703, 0.0028384022516387045), (3380, 0.0028365511207868177), (1009, 0.0028347263439056076), (4104, 0.0028323699081046288), (1830, 0.0028313311515765047), (1954, 0.0028305744526322986), (252, 0.0028304367199587965), (705, 0.0028288928246262154), (1251, 0.0028275973850457148), (4343, 0.002826386957360309), (3755, 0.002824077534246277), (200, 0.0028234784631116835), (2502, 0.002819274638708434), (808, 0.0028170106749841736), (605, 0.0028116930793653217), (4247, 0.002808515645775854), (1616, 0.002808090777500941), (4066, 0.0028061752561483505), (2240, 0.0028041260453861025), (480, 0.002803959910802884), (647, 0.002803650356262808), (317, 0.002797969344805606), (3895, 0.0027972339723351352), (3880, 0.00278780384005709), (4296, 0.002783332425075461), (1943, 0.002781296484940934), (1217, 0.0027741302850173713), (2747, 0.00276878744948569), (103, 0.002767677965529528), (242, 0.002766592636077733), (1397, 0.00276327242193437), (2270, 0.0027608856967078067), (642, 0.0027600739285073956), (4386, 0.002755897592611595), (1370, 0.0027552256103340203), (278, 0.002752084270235488), (861, 0.002751642449038247), (364, 0.0027490222744786215), (286, 0.002742036226551658), (4627, 0.0027418646601238186), (3569, 0.002739656059962904), (2743, 0.0027396212206006625), (2382, 0.0027372549689816147), (1763, 0.0027363706592048315), (1833, 0.002736185322048207), (445, 0.002735487746633565), (4476, 0.0027343124486596104), (1088, 0.0027315577098427505), (2146, 0.0027307732597906774), (432, 0.0027183851088893327), (2758, 0.002713828876030859), (1340, 0.002713675231412684), (1202, 0.002710413480889348), (626, 0.002707959804850148), (3669, 0.002707955977423113), (267, 0.002707920474683275), (2035, 0.0027069991014122634), (1356, 0.0027045517225230764), (3634, 0.0027016969841596183), (951, 0.0026975213111563225), (2039, 0.002687867182722539), (707, 0.002687658801432582), (2157, 0.0026868933425681645), (196, 0.002683949339123495), (1801, 0.0026835341270610704), (3347, 0.0026819465234991977), (3091, 0.0026745988066072877), (2132, 0.0026695427409744567), (2876, 0.002668750412841879), (1042, 0.002668749636781467), (1367, 0.0026684537826866706), (2359, 0.0026670601377900473), (3331, 0.0026636586907205426), (616, 0.002662870233517146), (1209, 0.0026628100735105378), (3252, 0.0026625868391925455), (796, 0.00265289266934501), (3056, 0.002647151531210997), (901, 0.0026466747636531562), (843, 0.0026278012214863682), (3548, 0.0026277342089629833), (113, 0.0026276720354418475), (1427, 0.0026193962084232795), (1415, 0.0026180209523486374), (3254, 0.002612704684311898), (645, 0.002609819333994744), (3313, 0.0026088066155198837), (1098, 0.0026056639093087024), (1624, 0.0026002519788652597), (1037, 0.0025993442448288945), (4311, 0.002596092871036777), (4744, 0.0025903673579683907), (2441, 0.002587558434126835), (3575, 0.0025814966488631732), (953, 0.0025727976140526012), (3431, 0.0025660036745439856), (194, 0.0025637497205011563), (1871, 0.002543271891242738), (3471, 0.0025406771353851682), (527, 0.0025296886345234364), (2917, 0.002516882979276784), (1677, 0.0025139475392186076), (4598, 0.0025068873713677262), (3301, 0.0025022681203813236), (2469, 0.0025018062965740597), (1040, 0.0024957473252422567), (1747, 0.002486746950319802), (607, 0.002462263065643282), (1403, 0.0024550741534447996), (2760, 0.0024525999971861554), (453, 0.002443420368329209), (351, 0.0024378956852659805), (4182, 0.0024242993137790466), (3285, 0.0024022238311224527), (2902, 0.002350132798931236), (283, 0.00233840344525821), (641, 0.002288222501870045), (831, 0.0022558189772185757), (940, 0.002236324368358767), (129, 0.0022313492520089377), (824, 0.002225174476127261), (3421, 0.0022106879968240294), (740, 0.002143607003784607), (3392, 0.0021231864751602328), (24, 0.0020870040416297204), (1780, 0.002084479909269834), (3608, 0.0020813249033947443), (3835, 0.0019245006935759744), (2538, 0.0019119078994857595), (475, 0.0011170799488380153), (13, 0.0), (22, 0.0), (27, 0.0), (49, 0.0), (53, 0.0), (100, 0.0), (117, 0.0), (133, 0.0), (134, 0.0), (141, 0.0), (146, 0.0), (155, 0.0), (163, 0.0), (185, 0.0), (187, 0.0), (188, 0.0), (205, 0.0), (219, 0.0), (245, 0.0), (248, 0.0), (257, 0.0), (265, 0.0), (273, 0.0), (312, 0.0), (313, 0.0), (331, 0.0), (362, 0.0), (363, 0.0), (365, 0.0), (366, 0.0), (376, 0.0), (383, 0.0), (384, 0.0), (389, 0.0), (391, 0.0), (393, 0.0), (398, 0.0), (401, 0.0), (404, 0.0), (405, 0.0), (413, 0.0), (414, 0.0), (415, 0.0), (423, 0.0), (438, 0.0), (459, 0.0), (462, 0.0), (506, 0.0), (520, 0.0), (531, 0.0), (535, 0.0), (536, 0.0), (546, 0.0), (552, 0.0), (556, 0.0), (557, 0.0), (559, 0.0), (586, 0.0), (625, 0.0), (630, 0.0), (633, 0.0), (634, 0.0), (648, 0.0), (649, 0.0), (650, 0.0), (662, 0.0), (665, 0.0), (671, 0.0), (679, 0.0), (702, 0.0), (708, 0.0), (709, 0.0), (710, 0.0), (711, 0.0), (713, 0.0), (720, 0.0), (724, 0.0), (730, 0.0), (741, 0.0), (746, 0.0), (758, 0.0), (771, 0.0), (784, 0.0), (786, 0.0), (797, 0.0), (802, 0.0), (811, 0.0), (814, 0.0), (819, 0.0), (834, 0.0), (835, 0.0), (836, 0.0), (839, 0.0), (855, 0.0), (859, 0.0), (873, 0.0), (877, 0.0), (892, 0.0), (893, 0.0), (920, 0.0), (926, 0.0), (927, 0.0), (932, 0.0), (955, 0.0), (961, 0.0), (964, 0.0), (972, 0.0), (977, 0.0), (979, 0.0), (983, 0.0), (1003, 0.0), (1008, 0.0), (1013, 0.0), (1028, 0.0), (1038, 0.0), (1055, 0.0), (1062, 0.0), (1067, 0.0), (1070, 0.0), (1073, 0.0), (1081, 0.0), (1085, 0.0), (1086, 0.0), (1093, 0.0), (1094, 0.0), (1097, 0.0), (1103, 0.0), (1126, 0.0), (1139, 0.0), (1142, 0.0), (1143, 0.0), (1147, 0.0), (1149, 0.0), (1152, 0.0), (1156, 0.0), (1158, 0.0), (1165, 0.0), (1166, 0.0), (1167, 0.0), (1180, 0.0), (1181, 0.0), (1189, 0.0), (1190, 0.0), (1193, 0.0), (1198, 0.0), (1201, 0.0), (1205, 0.0), (1211, 0.0), (1222, 0.0), (1228, 0.0), (1233, 0.0), (1235, 0.0), (1242, 0.0), (1256, 0.0), (1268, 0.0), (1272, 0.0), (1287, 0.0), (1289, 0.0), (1311, 0.0), (1323, 0.0), (1327, 0.0), (1331, 0.0), (1342, 0.0), (1345, 0.0), (1353, 0.0), (1362, 0.0), (1363, 0.0), (1389, 0.0), (1399, 0.0), (1405, 0.0), (1407, 0.0), (1424, 0.0), (1428, 0.0), (1435, 0.0), (1441, 0.0), (1444, 0.0), (1445, 0.0), (1449, 0.0), (1457, 0.0), (1473, 0.0), (1485, 0.0), (1490, 0.0), (1505, 0.0), (1508, 0.0), (1523, 0.0), (1529, 0.0), (1531, 0.0), (1532, 0.0), (1534, 0.0), (1541, 0.0), (1549, 0.0), (1557, 0.0), (1561, 0.0), (1562, 0.0), (1563, 0.0), (1575, 0.0), (1590, 0.0), (1596, 0.0), (1600, 0.0), (1601, 0.0), (1607, 0.0), (1609, 0.0), (1610, 0.0), (1614, 0.0), (1615, 0.0), (1618, 0.0), (1622, 0.0), (1623, 0.0), (1631, 0.0), (1638, 0.0), (1639, 0.0), (1644, 0.0), (1646, 0.0), (1647, 0.0), (1654, 0.0), (1661, 0.0), (1673, 0.0), (1676, 0.0), (1684, 0.0), (1686, 0.0), (1699, 0.0), (1715, 0.0), (1720, 0.0), (1724, 0.0), (1729, 0.0), (1731, 0.0), (1737, 0.0), (1750, 0.0), (1752, 0.0), (1753, 0.0), (1757, 0.0), (1761, 0.0), (1766, 0.0), (1769, 0.0), (1771, 0.0), (1775, 0.0), (1777, 0.0), (1783, 0.0), (1785, 0.0), (1786, 0.0), (1790, 0.0), (1795, 0.0), (1800, 0.0), (1803, 0.0), (1820, 0.0), (1829, 0.0), (1834, 0.0), (1835, 0.0), (1836, 0.0), (1837, 0.0), (1838, 0.0), (1842, 0.0), (1849, 0.0), (1855, 0.0), (1856, 0.0), (1867, 0.0), (1868, 0.0), (1873, 0.0), (1879, 0.0), (1889, 0.0), (1899, 0.0), (1900, 0.0), (1911, 0.0), (1912, 0.0), (1913, 0.0), (1917, 0.0), (1926, 0.0), (1927, 0.0), (1932, 0.0), (1938, 0.0), (1956, 0.0), (1962, 0.0), (1963, 0.0), (1965, 0.0), (1972, 0.0), (1974, 0.0), (1978, 0.0), (1979, 0.0), (1991, 0.0), (1993, 0.0), (1999, 0.0), (2002, 0.0), (2006, 0.0), (2007, 0.0), (2019, 0.0), (2030, 0.0), (2038, 0.0), (2041, 0.0), (2050, 0.0), (2054, 0.0), (2063, 0.0), (2090, 0.0), (2092, 0.0), (2095, 0.0), (2098, 0.0), (2100, 0.0), (2101, 0.0), (2106, 0.0), (2115, 0.0), (2120, 0.0), (2130, 0.0), (2135, 0.0), (2138, 0.0), (2140, 0.0), (2165, 0.0), (2170, 0.0), (2171, 0.0), (2172, 0.0), (2179, 0.0), (2183, 0.0), (2186, 0.0), (2194, 0.0), (2200, 0.0), (2202, 0.0), (2203, 0.0), (2207, 0.0), (2219, 0.0), (2225, 0.0), (2234, 0.0), (2244, 0.0), (2249, 0.0), (2258, 0.0), (2261, 0.0), (2267, 0.0), (2271, 0.0), (2281, 0.0), (2282, 0.0), (2290, 0.0), (2297, 0.0), (2300, 0.0), (2305, 0.0), (2307, 0.0), (2308, 0.0), (2312, 0.0), (2314, 0.0), (2325, 0.0), (2328, 0.0), (2331, 0.0), (2333, 0.0), (2335, 0.0), (2337, 0.0), (2341, 0.0), (2342, 0.0), (2352, 0.0), (2357, 0.0), (2358, 0.0), (2360, 0.0), (2364, 0.0), (2365, 0.0), (2366, 0.0), (2368, 0.0), (2369, 0.0), (2371, 0.0), (2372, 0.0), (2373, 0.0), (2380, 0.0), (2384, 0.0), (2395, 0.0), (2408, 0.0), (2420, 0.0), (2435, 0.0), (2449, 0.0), (2450, 0.0), (2451, 0.0), (2460, 0.0), (2462, 0.0), (2471, 0.0), (2472, 0.0), (2500, 0.0), (2508, 0.0), (2515, 0.0), (2516, 0.0), (2517, 0.0), (2523, 0.0), (2536, 0.0), (2541, 0.0), (2542, 0.0), (2543, 0.0), (2551, 0.0), (2564, 0.0), (2574, 0.0), (2577, 0.0), (2578, 0.0), (2583, 0.0), (2588, 0.0), (2589, 0.0), (2594, 0.0), (2596, 0.0), (2597, 0.0), (2599, 0.0), (2605, 0.0), (2618, 0.0), (2620, 0.0), (2639, 0.0), (2644, 0.0), (2648, 0.0), (2658, 0.0), (2663, 0.0), (2669, 0.0), (2671, 0.0), (2677, 0.0), (2681, 0.0), (2683, 0.0), (2684, 0.0), (2685, 0.0), (2686, 0.0), (2688, 0.0), (2693, 0.0), (2699, 0.0), (2700, 0.0), (2701, 0.0), (2703, 0.0), (2704, 0.0), (2708, 0.0), (2709, 0.0), (2715, 0.0), (2717, 0.0), (2726, 0.0), (2733, 0.0), (2750, 0.0), (2759, 0.0), (2781, 0.0), (2794, 0.0), (2799, 0.0), (2804, 0.0), (2806, 0.0), (2823, 0.0), (2828, 0.0), (2835, 0.0), (2836, 0.0), (2837, 0.0), (2839, 0.0), (2851, 0.0), (2852, 0.0), (2856, 0.0), (2865, 0.0), (2866, 0.0), (2875, 0.0), (2877, 0.0), (2885, 0.0), (2891, 0.0), (2896, 0.0), (2905, 0.0), (2927, 0.0), (2928, 0.0), (2941, 0.0), (2956, 0.0), (2967, 0.0), (2968, 0.0), (2973, 0.0), (2982, 0.0), (2983, 0.0), (3001, 0.0), (3005, 0.0), (3006, 0.0), (3017, 0.0), (3021, 0.0), (3023, 0.0), (3025, 0.0), (3029, 0.0), (3034, 0.0), (3038, 0.0), (3041, 0.0), (3047, 0.0), (3048, 0.0), (3049, 0.0), (3054, 0.0), (3058, 0.0), (3060, 0.0), (3061, 0.0), (3063, 0.0), (3068, 0.0), (3077, 0.0), (3078, 0.0), (3082, 0.0), (3087, 0.0), (3088, 0.0), (3089, 0.0), (3090, 0.0), (3092, 0.0), (3102, 0.0), (3104, 0.0), (3105, 0.0), (3106, 0.0), (3107, 0.0), (3109, 0.0), (3117, 0.0), (3138, 0.0), (3160, 0.0), (3162, 0.0), (3175, 0.0), (3176, 0.0), (3177, 0.0), (3179, 0.0), (3180, 0.0), (3188, 0.0), (3189, 0.0), (3190, 0.0), (3197, 0.0), (3207, 0.0), (3208, 0.0), (3209, 0.0), (3212, 0.0), (3217, 0.0), (3229, 0.0), (3236, 0.0), (3244, 0.0), (3250, 0.0), (3251, 0.0), (3255, 0.0), (3256, 0.0), (3261, 0.0), (3266, 0.0), (3272, 0.0), (3281, 0.0), (3287, 0.0), (3288, 0.0), (3305, 0.0), (3309, 0.0), (3319, 0.0), (3324, 0.0), (3333, 0.0), (3338, 0.0), (3350, 0.0), (3366, 0.0), (3371, 0.0), (3375, 0.0), (3387, 0.0), (3394, 0.0), (3395, 0.0), (3400, 0.0), (3401, 0.0), (3422, 0.0), (3426, 0.0), (3428, 0.0), (3439, 0.0), (3442, 0.0), (3462, 0.0), (3473, 0.0), (3475, 0.0), (3476, 0.0), (3482, 0.0), (3485, 0.0), (3488, 0.0), (3490, 0.0), (3494, 0.0), (3495, 0.0), (3505, 0.0), (3509, 0.0), (3510, 0.0), (3519, 0.0), (3529, 0.0), (3530, 0.0), (3533, 0.0), (3539, 0.0), (3543, 0.0), (3545, 0.0), (3547, 0.0), (3550, 0.0), (3572, 0.0), (3573, 0.0), (3574, 0.0), (3576, 0.0), (3581, 0.0), (3583, 0.0), (3584, 0.0), (3585, 0.0), (3607, 0.0), (3617, 0.0), (3622, 0.0), (3625, 0.0), (3631, 0.0), (3632, 0.0), (3649, 0.0), (3662, 0.0), (3663, 0.0), (3664, 0.0), (3671, 0.0), (3679, 0.0), (3682, 0.0), (3683, 0.0), (3685, 0.0), (3688, 0.0), (3695, 0.0), (3702, 0.0), (3716, 0.0), (3717, 0.0), (3721, 0.0), (3726, 0.0), (3732, 0.0), (3735, 0.0), (3740, 0.0), (3750, 0.0), (3753, 0.0), (3758, 0.0), (3759, 0.0), (3760, 0.0), (3761, 0.0), (3764, 0.0), (3774, 0.0), (3785, 0.0), (3788, 0.0), (3789, 0.0), (3790, 0.0), (3791, 0.0), (3796, 0.0), (3800, 0.0), (3805, 0.0), (3806, 0.0), (3808, 0.0), (3812, 0.0), (3815, 0.0), (3820, 0.0), (3824, 0.0), (3830, 0.0), (3833, 0.0), (3836, 0.0), (3837, 0.0), (3838, 0.0), (3843, 0.0), (3844, 0.0), (3847, 0.0), (3851, 0.0), (3853, 0.0), (3856, 0.0), (3859, 0.0), (3861, 0.0), (3864, 0.0), (3871, 0.0), (3879, 0.0), (3885, 0.0), (3887, 0.0), (3896, 0.0), (3912, 0.0), (3916, 0.0), (3918, 0.0), (3929, 0.0), (3934, 0.0), (3936, 0.0), (3938, 0.0), (3940, 0.0), (3942, 0.0), (3948, 0.0), (3950, 0.0), (3964, 0.0), (3971, 0.0), (3976, 0.0), (3981, 0.0), (3985, 0.0), (3988, 0.0), (3989, 0.0), (3991, 0.0), (3996, 0.0), (4003, 0.0), (4008, 0.0), (4010, 0.0), (4018, 0.0), (4022, 0.0), (4026, 0.0), (4027, 0.0), (4028, 0.0), (4034, 0.0), (4035, 0.0), (4043, 0.0), (4050, 0.0), (4058, 0.0), (4063, 0.0), (4065, 0.0), (4067, 0.0), (4072, 0.0), (4073, 0.0), (4078, 0.0), (4084, 0.0), (4086, 0.0), (4125, 0.0), (4127, 0.0), (4134, 0.0), (4144, 0.0), (4146, 0.0), (4149, 0.0), (4159, 0.0), (4162, 0.0), (4166, 0.0), (4167, 0.0), (4168, 0.0), (4170, 0.0), (4173, 0.0), (4177, 0.0), (4191, 0.0), (4195, 0.0), (4204, 0.0), (4207, 0.0), (4208, 0.0), (4212, 0.0), (4214, 0.0), (4215, 0.0), (4219, 0.0), (4229, 0.0), (4237, 0.0), (4250, 0.0), (4251, 0.0), (4253, 0.0), (4256, 0.0), (4258, 0.0), (4260, 0.0), (4270, 0.0), (4275, 0.0), (4278, 0.0), (4291, 0.0), (4300, 0.0), (4302, 0.0), (4305, 0.0), (4307, 0.0), (4313, 0.0), (4314, 0.0), (4315, 0.0), (4316, 0.0), (4317, 0.0), (4324, 0.0), (4329, 0.0), (4331, 0.0), (4346, 0.0), (4347, 0.0), (4352, 0.0), (4358, 0.0), (4360, 0.0), (4364, 0.0), (4365, 0.0), (4367, 0.0), (4370, 0.0), (4372, 0.0), (4375, 0.0), (4377, 0.0), (4378, 0.0), (4383, 0.0), (4385, 0.0), (4405, 0.0), (4408, 0.0), (4413, 0.0), (4417, 0.0), (4421, 0.0), (4424, 0.0), (4425, 0.0), (4426, 0.0), (4433, 0.0), (4434, 0.0), (4437, 0.0), (4451, 0.0), (4452, 0.0), (4455, 0.0), (4457, 0.0), (4463, 0.0), (4464, 0.0), (4466, 0.0), (4468, 0.0), (4478, 0.0), (4485, 0.0), (4488, 0.0), (4496, 0.0), (4498, 0.0), (4499, 0.0), (4500, 0.0), (4506, 0.0), (4513, 0.0), (4514, 0.0), (4518, 0.0), (4525, 0.0), (4526, 0.0), (4527, 0.0), (4532, 0.0), (4537, 0.0), (4538, 0.0), (4539, 0.0), (4547, 0.0), (4556, 0.0), (4558, 0.0), (4559, 0.0), (4560, 0.0), (4561, 0.0), (4562, 0.0), (4565, 0.0), (4569, 0.0), (4577, 0.0), (4578, 0.0), (4580, 0.0), (4582, 0.0), (4583, 0.0), (4585, 0.0), (4588, 0.0), (4595, 0.0), (4599, 0.0), (4618, 0.0), (4622, 0.0), (4628, 0.0), (4639, 0.0), (4644, 0.0), (4645, 0.0), (4648, 0.0), (4651, 0.0), (4654, 0.0), (4655, 0.0), (4662, 0.0), (4664, 0.0), (4665, 0.0), (4667, 0.0), (4671, 0.0), (4672, 0.0), (4675, 0.0), (4678, 0.0), (4681, 0.0), (4683, 0.0), (4691, 0.0), (4697, 0.0), (4700, 0.0), (4711, 0.0), (4714, 0.0), (4720, 0.0), (4721, 0.0), (4726, 0.0), (4736, 0.0), (4737, 0.0), (4738, 0.0), (4740, 0.0), (4746, 0.0), (4750, 0.0), (4751, 0.0), (4758, 0.0), (4759, 0.0)]\n"
          ]
        }
      ]
    },
    {
      "cell_type": "code",
      "source": [
        "print('Top 30 movies suggested for you: \\n')"
      ],
      "metadata": {
        "colab": {
          "base_uri": "https://localhost:8080/"
        },
        "id": "Q9fFZCrDarEv",
        "outputId": "cbd62d87-d64f-4487-b108-91050fc45005"
      },
      "execution_count": 45,
      "outputs": [
        {
          "output_type": "stream",
          "name": "stdout",
          "text": [
            "Top 30 movies suggested for you: \n",
            "\n"
          ]
        }
      ]
    },
    {
      "cell_type": "code",
      "source": [
        "i=1\n",
        "for movie in sorted_similar_movies:\n",
        "  index=movie[0]\n",
        "  title_from_index=df[df.index==index]['Movie_Title'].values[0]\n",
        "  if(i<31):\n",
        "    print(i,'.',title_from_index)\n",
        "    i+=1"
      ],
      "metadata": {
        "colab": {
          "base_uri": "https://localhost:8080/"
        },
        "id": "7yoNVR3VawUm",
        "outputId": "2252cae6-b894-4cc1-c6a8-e738fba3cd11"
      },
      "execution_count": 46,
      "outputs": [
        {
          "output_type": "stream",
          "name": "stdout",
          "text": [
            "1 . Batman Begins\n",
            "2 . The Dark Knight Rises\n",
            "3 . The Dark Knight\n",
            "4 . The Prestige\n",
            "5 . Batman Returns\n",
            "6 . Batman & Robin\n",
            "7 . Batman\n",
            "8 . Superman\n",
            "9 . Kick-Ass 2\n",
            "10 . Kick-Ass\n",
            "11 . Quest for Camelot\n",
            "12 . Kung Fu Panda 2\n",
            "13 . TMNT\n",
            "14 . GoldenEye\n",
            "15 . Watchmen\n",
            "16 . Suicide Squad\n",
            "17 . Mad Money\n",
            "18 . Interstellar\n",
            "19 . Harry Brown\n",
            "20 . Superman II\n",
            "21 . Superman III\n",
            "22 . Kickboxer: Vengeance\n",
            "23 . The Son of No One\n",
            "24 . True Romance\n",
            "25 . Bloodsport\n",
            "26 . Taken\n",
            "27 . Batman Forever\n",
            "28 . Charlie's Angels\n",
            "29 . Captain Corelli's Mandolin\n",
            "30 . Catwoman\n"
          ]
        }
      ]
    },
    {
      "cell_type": "markdown",
      "source": [
        "TOP 10 MOVIE RECOMMENDATION SYSTEM"
      ],
      "metadata": {
        "id": "JWNj2fVya6Jb"
      }
    },
    {
      "cell_type": "code",
      "source": [
        "movie_name=input('Enter your favourite movie name: ')\n",
        "list_of_all_titles=df['Movie_Title'].tolist()\n",
        "find_close_match=difflib.get_close_matches(movie_name,list_of_all_titles)\n",
        "close_match=find_close_match[0]\n",
        "index_of_movie=df[df.Movie_Title==close_match]['Movie_ID'].values[0]\n",
        "recommendation_score=list(enumerate(similarity_score[index_of_movie]))\n",
        "sorted_similar_movies=sorted(recommendation_score,key=lambda x:x[1],reverse=True)\n",
        "print('Top 10 movies suggested for you: \\n')\n",
        "i=1\n",
        "for movie in sorted_similar_movies:\n",
        "  index=movie[0]\n",
        "  title_from_index=df[df.Movie_ID==index]['Movie_Title'].values\n",
        "  if(i<11):\n",
        "    print(i,'.',title_from_index)\n",
        "    i+=1"
      ],
      "metadata": {
        "colab": {
          "base_uri": "https://localhost:8080/"
        },
        "id": "OiOnngPubEwX",
        "outputId": "5d3ca576-fa8d-4e3d-eb5c-c9eb9de12519"
      },
      "execution_count": 47,
      "outputs": [
        {
          "output_type": "stream",
          "name": "stdout",
          "text": [
            "Enter your favourite movie name: batman\n",
            "Top 10 movies suggested for you: \n",
            "\n",
            "1 . ['Batman']\n",
            "2 . ['Submarine']\n",
            "3 . ['Star Trek II: The Wrath of Khan']\n",
            "4 . ['Catch a Fire']\n",
            "5 . ['The Devil Wears Prada']\n",
            "6 . ['Batman Forever']\n",
            "7 . ['Cat on a Hot Tin Roof']\n",
            "8 . ['Sweet November']\n",
            "9 . ['Womb']\n",
            "10 . ['The Bad News Bears']\n"
          ]
        }
      ]
    }
  ]
}